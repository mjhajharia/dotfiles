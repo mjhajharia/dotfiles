{
 "cells": [
  {
   "cell_type": "code",
   "execution_count": 1,
   "metadata": {},
   "outputs": [],
   "source": [
    "using Revise, DynamicHMC, PosteriorDB, Random, StanLogDensityProblems, JSON, BridgeStan, DataFrames, LinearAlgebra, StatsBase, Distributions\n",
    "using Plots, ColorSchemes, LaTeXStrings, Statistics, CSV, AdvancedHMC, DynamicObjects\n",
    "Plots.theme(:default)\n",
    "const BS = BridgeStan;"
   ]
  },
  {
   "cell_type": "code",
   "execution_count": 88,
   "metadata": {},
   "outputs": [],
   "source": [
    "pdb = PosteriorDB.database()\n",
    "model = PosteriorDB.model(pdb, \"eight_schools_noncentered\")\n",
    "post = PosteriorDB.posterior(pdb, \"eight_schools-eight_schools_noncentered\")\n",
    "impl = PosteriorDB.implementation(model, \"stan\")\n",
    "path = PosteriorDB.path(impl)\n",
    "data = PosteriorDB.dataset(post)\n",
    "s = PosteriorDB.load(data, String);\n",
    "bs_model = BS.StanModel(stan_file=path, data=s);\n",
    "ref = PosteriorDB.reference_posterior(post)\n",
    "df=DataFrame(PosteriorDB.load(ref));"
   ]
  },
  {
   "cell_type": "code",
   "execution_count": 119,
   "metadata": {},
   "outputs": [
    {
     "name": "stderr",
     "output_type": "stream",
     "text": [
      "\r\u001b[32mSampling  11%|███▌                           |  ETA: 0:00:01\u001b[39m\u001b[K\r\n",
      "\u001b[34m  iterations:                                   895\u001b[39m\u001b[K\r\n",
      "\u001b[34m  ratio_divergent_transitions:                  0.0\u001b[39m\u001b[K\r\n",
      "\u001b[34m  ratio_divergent_transitions_during_adaption:  0.02\u001b[39m\u001b[K\r\n",
      "\u001b[34m  n_steps:                                      31\u001b[39m\u001b[K\r\n",
      "\u001b[34m  is_accept:                                    true\u001b[39m\u001b[K\r\n",
      "\u001b[34m  acceptance_rate:                              0.9763927659190847\u001b[39m\u001b[K\r\n",
      "\u001b[34m  log_density:                                  -7.914204277695983\u001b[39m\u001b[K\r\n",
      "\u001b[34m  hamiltonian_energy:                           16.06550245844311\u001b[39m\u001b[K\r\n",
      "\u001b[34m  hamiltonian_energy_error:                     0.017868046272976557\u001b[39m\u001b[K\r\n",
      "\u001b[34m  max_hamiltonian_energy_error:                 0.09941313307730226\u001b[39m\u001b[K\r\n",
      "\u001b[34m  tree_depth:                                   5\u001b[39m\u001b[K\r\n",
      "\u001b[34m  numerical_error:                              false\u001b[39m\u001b[K\r\n",
      "\u001b[34m  step_size:                                    0.14914249053326567\u001b[39m\u001b[K\r\n",
      "\u001b[34m  nom_step_size:                                0.14914249053326567\u001b[39m\u001b[K\r\n",
      "\u001b[34m  is_adapt:                                     true\u001b[39m\u001b[K\r\n",
      "\u001b[34m  mass_matrix:                                  DiagEuclideanMetric([1.022902442655423, 0.92534 ...])\u001b[39m\u001b[K\r\u001b[A\r\u001b[A\r\u001b[A\r\u001b[A\r\u001b[A\r\u001b[A\r\u001b[A\r\u001b[A\r\u001b[A\r\u001b[A\r\u001b[A\r\u001b[A\r\u001b[A\r\u001b[A\r\u001b[A\r\u001b[A\r\u001b[A"
     ]
    },
    {
     "name": "stderr",
     "output_type": "stream",
     "text": [
      "\n",
      "\n",
      "\n",
      "\n",
      "\n",
      "\n",
      "\n",
      "\n",
      "\n",
      "\n",
      "\n",
      "\n",
      "\n",
      "\n",
      "\n",
      "\n",
      "\n",
      "\r\u001b[K\u001b[A\r\u001b[K\u001b[A\r\u001b[K\u001b[A\r\u001b[K\u001b[A\r\u001b[K\u001b[A\r\u001b[K\u001b[A\r\u001b[K\u001b[A\r\u001b[K\u001b[A\r\u001b[K\u001b[A\r\u001b[K\u001b[A\r\u001b[K\u001b[A\r\u001b[K\u001b[A\r\u001b[K\u001b[A\r\u001b[K\u001b[A\r\u001b[K\u001b[A\r\u001b[K\u001b[A\r\u001b[K\u001b[A\r\u001b[32mSampling  40%|████████████▎                  |  ETA: 0:00:00\u001b[39m\u001b[K\r\n",
      "\u001b[34m  iterations:                                   3161\u001b[39m\u001b[K\r\n",
      "\u001b[34m  ratio_divergent_transitions:                  0.0\u001b[39m\u001b[K\r\n",
      "\u001b[34m  ratio_divergent_transitions_during_adaption:  0.01\u001b[39m\u001b[K\r\n",
      "\u001b[34m  n_steps:                                      15\u001b[39m\u001b[K\r\n",
      "\u001b[34m  is_accept:                                    true\u001b[39m\u001b[K\r\n",
      "\u001b[34m  acceptance_rate:                              0.9064916300019851\u001b[39m\u001b[K\r\n",
      "\u001b[34m  log_density:                                  -5.680410764834427\u001b[39m\u001b[K\r\n",
      "\u001b[34m  hamiltonian_energy:                           12.127811642625804\u001b[39m\u001b[K\r\n",
      "\u001b[34m  hamiltonian_energy_error:                     -0.06584808204247139\u001b[39m\u001b[K\r\n",
      "\u001b[34m  max_hamiltonian_energy_error:                 0.18131248311070536\u001b[39m\u001b[K\r\n",
      "\u001b[34m  tree_depth:                                   3\u001b[39m\u001b[K\r\n",
      "\u001b[34m  numerical_error:                              false\u001b[39m\u001b[K\r\n",
      "\u001b[34m  step_size:                                    0.4043801560093249\u001b[39m\u001b[K\r\n",
      "\u001b[34m  nom_step_size:                                0.4043801560093249\u001b[39m\u001b[K\r\n",
      "\u001b[34m  is_adapt:                                     false\u001b[39m\u001b[K\r\n",
      "\u001b[34m  mass_matrix:                                  DiagEuclideanMetric([0.9964929543071683, 0.8576 ...])\u001b[39m\u001b[K\r\u001b[A\r\u001b[A\r\u001b[A\r\u001b[A\r\u001b[A\r\u001b[A\r\u001b[A\r\u001b[A\r\u001b[A\r\u001b[A\r\u001b[A\r\u001b[A\r\u001b[A\r\u001b[A\r\u001b[A\r\u001b[A\r\u001b[A"
     ]
    },
    {
     "name": "stderr",
     "output_type": "stream",
     "text": [
      "\n",
      "\n",
      "\n",
      "\n",
      "\n",
      "\n",
      "\n",
      "\n",
      "\n",
      "\n",
      "\n",
      "\n",
      "\n",
      "\n",
      "\n",
      "\n",
      "\n",
      "\r\u001b[K\u001b[A\r\u001b[K\u001b[A\r\u001b[K\u001b[A\r\u001b[K\u001b[A\r\u001b[K\u001b[A\r\u001b[K\u001b[A\r\u001b[K\u001b[A\r\u001b[K\u001b[A\r\u001b[K\u001b[A\r\u001b[K\u001b[A\r\u001b[K\u001b[A\r\u001b[K\u001b[A\r\u001b[K\u001b[A\r\u001b[K\u001b[A\r\u001b[K\u001b[A\r\u001b[K\u001b[A\r\u001b[K\u001b[A\r\u001b[32mSampling  67%|████████████████████▊          |  ETA: 0:00:00\u001b[39m\u001b[K\r\n",
      "\u001b[34m  iterations:                                   5354\u001b[39m\u001b[K\r\n",
      "\u001b[34m  ratio_divergent_transitions:                  0.0\u001b[39m\u001b[K\r\n",
      "\u001b[34m  ratio_divergent_transitions_during_adaption:  0.01\u001b[39m\u001b[K\r\n",
      "\u001b[34m  n_steps:                                      7\u001b[39m\u001b[K\r\n",
      "\u001b[34m  is_accept:                                    true\u001b[39m\u001b[K\r\n",
      "\u001b[34m  acceptance_rate:                              1.0\u001b[39m\u001b[K\r\n",
      "\u001b[34m  log_density:                                  -3.125199584845127\u001b[39m\u001b[K\r\n",
      "\u001b[34m  hamiltonian_energy:                           7.977536678133459\u001b[39m\u001b[K\r\n",
      "\u001b[34m  hamiltonian_energy_error:                     -0.13366825911156255\u001b[39m\u001b[K\r\n",
      "\u001b[34m  max_hamiltonian_energy_error:                 -0.13366825911156255\u001b[39m\u001b[K\r\n",
      "\u001b[34m  tree_depth:                                   3\u001b[39m\u001b[K\r\n",
      "\u001b[34m  numerical_error:                              false\u001b[39m\u001b[K\r\n",
      "\u001b[34m  step_size:                                    0.4043801560093249\u001b[39m\u001b[K\r\n",
      "\u001b[34m  nom_step_size:                                0.4043801560093249\u001b[39m\u001b[K\r\n",
      "\u001b[34m  is_adapt:                                     false\u001b[39m\u001b[K\r\n",
      "\u001b[34m  mass_matrix:                                  DiagEuclideanMetric([0.9964929543071683, 0.8576 ...])\u001b[39m\u001b[K\r\u001b[A\r\u001b[A\r\u001b[A\r\u001b[A\r\u001b[A\r\u001b[A\r\u001b[A\r\u001b[A\r\u001b[A\r\u001b[A\r\u001b[A\r\u001b[A\r\u001b[A\r\u001b[A\r\u001b[A\r\u001b[A\r\u001b[A"
     ]
    },
    {
     "name": "stderr",
     "output_type": "stream",
     "text": [
      "\n",
      "\n",
      "\n",
      "\n",
      "\n",
      "\n",
      "\n",
      "\n",
      "\n",
      "\n",
      "\n",
      "\n",
      "\n",
      "\n",
      "\n",
      "\n",
      "\n",
      "\r\u001b[K\u001b[A\r\u001b[K\u001b[A\r\u001b[K\u001b[A\r\u001b[K\u001b[A\r\u001b[K\u001b[A\r\u001b[K\u001b[A\r\u001b[K\u001b[A\r\u001b[K\u001b[A\r\u001b[K\u001b[A\r\u001b[K\u001b[A\r\u001b[K\u001b[A\r\u001b[K\u001b[A\r\u001b[K\u001b[A\r\u001b[K\u001b[A\r\u001b[K\u001b[A\r\u001b[K\u001b[A\r\u001b[K\u001b[A\r\u001b[32mSampling  87%|███████████████████████████▏   |  ETA: 0:00:00\u001b[39m\u001b[K\r\n",
      "\u001b[34m  iterations:                                   6994\u001b[39m\u001b[K\r\n",
      "\u001b[34m  ratio_divergent_transitions:                  0.0\u001b[39m\u001b[K\r\n",
      "\u001b[34m  ratio_divergent_transitions_during_adaption:  0.0\u001b[39m\u001b[K\r\n",
      "\u001b[34m  n_steps:                                      7\u001b[39m\u001b[K\r\n",
      "\u001b[34m  is_accept:                                    true\u001b[39m\u001b[K\r\n",
      "\u001b[34m  acceptance_rate:                              0.9772925684495671\u001b[39m\u001b[K\r\n",
      "\u001b[34m  log_density:                                  -5.848456318382831\u001b[39m\u001b[K\r\n",
      "\u001b[34m  hamiltonian_energy:                           8.064871339961133\u001b[39m\u001b[K\r\n",
      "\u001b[34m  hamiltonian_energy_error:                     0.04319032639595477\u001b[39m\u001b[K\r\n",
      "\u001b[34m  max_hamiltonian_energy_error:                 -0.07950543492963558\u001b[39m\u001b[K\r\n",
      "\u001b[34m  tree_depth:                                   3\u001b[39m\u001b[K\r\n",
      "\u001b[34m  numerical_error:                              false\u001b[39m\u001b[K\r\n",
      "\u001b[34m  step_size:                                    0.4043801560093249\u001b[39m\u001b[K\r\n",
      "\u001b[34m  nom_step_size:                                0.4043801560093249\u001b[39m\u001b[K\r\n",
      "\u001b[34m  is_adapt:                                     false\u001b[39m\u001b[K\r\n",
      "\u001b[34m  mass_matrix:                                  DiagEuclideanMetric([0.9964929543071683, 0.8576 ...])\u001b[39m\u001b[K\r\u001b[A\r\u001b[A\r\u001b[A\r\u001b[A\r\u001b[A\r\u001b[A\r\u001b[A\r\u001b[A\r\u001b[A\r\u001b[A\r\u001b[A\r\u001b[A\r\u001b[A\r\u001b[A\r\u001b[A\r\u001b[A\r\u001b[A"
     ]
    },
    {
     "name": "stderr",
     "output_type": "stream",
     "text": [
      "\n",
      "\n",
      "\n",
      "\n",
      "\n",
      "\n",
      "\n",
      "\n",
      "\n",
      "\n",
      "\n",
      "\n",
      "\n",
      "\n",
      "\n",
      "\n",
      "\n",
      "\r\u001b[K\u001b[A\r\u001b[K\u001b[A\r\u001b[K\u001b[A\r\u001b[K\u001b[A\r\u001b[K\u001b[A\r\u001b[K\u001b[A\r\u001b[K\u001b[A\r\u001b[K\u001b[A\r\u001b[K\u001b[A\r\u001b[K\u001b[A\r\u001b[K\u001b[A\r\u001b[K\u001b[A\r\u001b[K\u001b[A\r\u001b[K\u001b[A\r\u001b[K\u001b[A\r\u001b[K\u001b[A\r\u001b[K\u001b[A\r\u001b[32mSampling 100%|███████████████████████████████| Time: 0:00:00\u001b[39m\u001b[K\r\n",
      "\u001b[34m  iterations:                                   8000\u001b[39m\u001b[K\r\n",
      "\u001b[34m  ratio_divergent_transitions:                  0.0\u001b[39m\u001b[K\r\n",
      "\u001b[34m  ratio_divergent_transitions_during_adaption:  0.0\u001b[39m\u001b[K\r\n",
      "\u001b[34m  n_steps:                                      15\u001b[39m\u001b[K\r\n",
      "\u001b[34m  is_accept:                                    true\u001b[39m\u001b[K\r\n",
      "\u001b[34m  acceptance_rate:                              0.4052342918202954\u001b[39m\u001b[K\r\n",
      "\u001b[34m  log_density:                                  -8.868373854993063\u001b[39m\u001b[K\r\n",
      "\u001b[34m  hamiltonian_energy:                           19.97580352442992\u001b[39m\u001b[K\r\n",
      "\u001b[34m  hamiltonian_energy_error:                     -0.15188092584388002\u001b[39m\u001b[K\r\n",
      "\u001b[34m  max_hamiltonian_energy_error:                 6.784952120901632\u001b[39m\u001b[K\r\n",
      "\u001b[34m  tree_depth:                                   4\u001b[39m\u001b[K\r\n",
      "\u001b[34m  numerical_error:                              false\u001b[39m\u001b[K\r\n",
      "\u001b[34m  step_size:                                    0.4043801560093249\u001b[39m\u001b[K\r\n",
      "\u001b[34m  nom_step_size:                                0.4043801560093249\u001b[39m\u001b[K\r\n",
      "\u001b[34m  is_adapt:                                     false\u001b[39m\u001b[K\r\n",
      "\u001b[34m  mass_matrix:                                  DiagEuclideanMetric([0.9964929543071683, 0.8576 ...])\u001b[39m\u001b[K\n"
     ]
    },
    {
     "name": "stderr",
     "output_type": "stream",
     "text": [
      "┌ Info: Finished 8000 sampling steps for 1 chains in 0.497411802 (s)\n",
      "│   h = Hamiltonian(metric=DiagEuclideanMetric([0.9964929543071683, 0.8576 ...]), kinetic=GaussianKinetic())\n",
      "│   κ = HMCKernel{AdvancedHMC.FullMomentumRefreshment, Trajectory{MultinomialTS, Leapfrog{Float64}, GeneralisedNoUTurn{Float64}}}(AdvancedHMC.FullMomentumRefreshment(), Trajectory{MultinomialTS}(integrator=Leapfrog(ϵ=0.404), tc=GeneralisedNoUTurn{Float64}(10, 1000.0)))\n",
      "│   EBFMI_est = 0.9772347795922866\n",
      "│   average_acceptance_rate = 0.8720347766900625\n",
      "└ @ AdvancedHMC /home/meenaljhajharia/.julia/packages/AdvancedHMC/P0nla/src/sampler.jl:246\n"
     ]
    }
   ],
   "source": [
    "lp = StanProblem(bs_model);\n",
    "D = 10;\n",
    "initial_θ = rand(D);\n",
    "n_samples, n_adapts = 8000, 2000;\n",
    "metric = DiagEuclideanMetric(D);\n",
    "hamiltonian = Hamiltonian(metric, lp);\n",
    "initial_ϵ = find_good_stepsize(hamiltonian, initial_θ);\n",
    "integrator = Leapfrog(initial_ϵ);\n",
    "proposal = NUTS{MultinomialTS, GeneralisedNoUTurn}(integrator);\n",
    "adaptor = StanHMCAdaptor(MassMatrixAdaptor(metric), StepSizeAdaptor(0.8, integrator));\n",
    "samples, stats = sample(hamiltonian, proposal, initial_θ, n_samples, adaptor, n_adapts; progress=true);"
   ]
  },
  {
   "cell_type": "code",
   "execution_count": 152,
   "metadata": {},
   "outputs": [],
   "source": [
    "    constrained_draws = hcat([vcat(col...) for col in eachcol(df)]...)\n",
    "    unc_sample_array = vcat([\n",
    "            param_unconstrain(bs_model, collect(row))' for row in eachrow(constrained_draws)\n",
    "        ]...);"
   ]
  },
  {
   "cell_type": "code",
   "execution_count": 153,
   "metadata": {},
   "outputs": [
    {
     "data": {
      "text/plain": [
       "4.387735631575855"
      ]
     },
     "metadata": {},
     "output_type": "display_data"
    }
   ],
   "source": [
    "mean(unc_sample_array)"
   ]
  },
  {
   "cell_type": "code",
   "execution_count": 154,
   "metadata": {},
   "outputs": [
    {
     "data": {
      "text/plain": [
       "10-element Vector{Float64}:\n",
       "  0.3173551467310577\n",
       "  0.08433652958871951\n",
       " -0.0886958945091761\n",
       "  0.06037996882064286\n",
       " -0.17066047954097616\n",
       " -0.06670302452397554\n",
       "  0.37302740430830394\n",
       "  0.059786873877665854\n",
       "  4.384754324471194\n",
       "  0.806020045873587"
      ]
     },
     "metadata": {},
     "output_type": "display_data"
    }
   ],
   "source": [
    "mean(samples)"
   ]
  },
  {
   "cell_type": "code",
   "execution_count": 155,
   "metadata": {},
   "outputs": [
    {
     "data": {
      "text/plain": [
       "8000-element Vector{Vector{Float64}}:\n",
       " [-0.5316373240063091, -0.4557021597786755, -0.052202403641660955, 0.018261101215369918, -1.001174797575976, -0.333180130386588, 1.0565530428143417, -0.6455318626380546, 5.744369817837185, 1.2585380301020623]\n",
       " [-0.5316373240063091, -0.4557021597786755, -0.052202403641660955, 0.018261101215369918, -1.001174797575976, -0.333180130386588, 1.0565530428143417, -0.6455318626380546, 5.744369817837185, 1.2585380301020623]\n",
       " [1.503838418943624, 0.6848519315769059, -0.37746827665876065, 0.18655734589809309, 0.41860409288252387, 0.030198077645835403, 0.13764367934734104, 0.8528930945652348, 4.821268725264633, 1.6434040150837488]\n",
       " [-1.6540097202349608, -0.4341793391890181, 0.4010776182242229, 0.06829481651956576, -1.130097901040923, 0.05114573661437344, 0.4661217617165787, -0.9918005356858179, 5.589380551204995, 0.25782715025847014]\n",
       " [1.919956494908409, 0.4374421885731515, -0.5510999331726328, -0.10804179721113492, 0.6899675966358255, -0.23555368528670537, -0.1061274953574872, 1.0348380359915836, 9.280806706296763, 2.214379952466472]\n",
       " [-1.5046717349248495, -0.8381838213624606, 0.39377588752430825, 0.4366889200338707, -1.730631833810915, 0.03336771356741097, 0.6710220201227048, -0.8202745768586426, 8.710292957488997, -1.256268889507111]\n",
       " [1.1325253413137606, 0.7175015275940484, -0.7004094184191902, -0.6024554807618797, 1.186622796800618, 0.1821233322594209, -0.8656422129302692, 0.21077459560573333, 6.895830046394658, -0.17691968379248563]\n",
       " [0.6390999805909457, -0.9920649159910678, -1.0697840305813309, -1.3018643769805858, -0.4689637658516535, -0.6292781725509794, -0.07756293555023652, -1.7155063221635078, 5.835267501262165, 1.84164172512551]\n",
       " [-0.4308103157439997, 0.8169268062874686, 1.0507404755287535, 1.0488855654592868, 0.28641331396912795, 1.0911502289233974, 1.2202599120537014, 0.6198792614389388, 5.358121421571419, 0.29893022842150097]\n",
       " [0.5762672593318561, 0.193836671654962, -0.08401781597066127, 1.3609880057457016, 0.3679178097949982, -1.2098406940563473, -0.13964242249425463, 0.44969025075725744, 3.264212022016178, 1.2642798599832603]\n",
       " ⋮\n",
       " [-0.2613831281938662, 2.141816588932418, -0.20889576246723007, -0.8711941629805013, 1.0026676939566082, -1.0101055152026792, 1.373011709577626, 1.0333899201995997, 9.104914487179295, 0.5244824052780274]\n",
       " [-0.9040725725786947, 1.3103716466723156, -0.8963112083670756, -1.7220529342118756, 0.7041329830142485, -1.049548851350215, 1.609375534469275, 1.185671232217259, 6.644102729287235, 1.3473468672335147]\n",
       " [1.1448615965014628, 0.14109044083039224, 0.13318876089458598, 1.00703908163366, -0.1952040364370649, -0.23429901457703328, -0.3938955412834352, 0.6679535337067604, 2.4943540059905387, 1.2315799218800418]\n",
       " [-0.27218591751779947, 0.5414328602334756, 0.5360543832220048, 0.3171317341298069, -0.11810385978487845, 1.1346245063609384, 0.9706887430376392, -0.38044680965294314, 2.674318318308261, 0.8301340425381707]\n",
       " [-0.7734811159163846, -0.3212614243692375, -0.6876956872211947, 0.0067851505056050615, 0.8255838700634315, 0.34619489505754286, 0.5232818962555941, -0.318226957250146, 3.986525262562873, 1.2480459963453059]\n",
       " [0.7836673994601832, -0.35479294663065086, 0.9739941450203626, -1.608304967207332, -0.9292839092285652, -0.3090637287825857, -0.6754265994050082, 0.21615550999235325, 6.120071696901338, 0.05176773885461436]\n",
       " [0.17857010739633372, 0.2776599298473994, -0.8090705950536323, 1.7979857527094274, 1.6690219988886392, -0.41151001901267964, -0.46502350838498424, -1.3465318120569274, 1.088732217110063, -1.1765889239328249]\n",
       " [1.3870179152674986, 0.8348589686314616, -0.4655124685539541, -0.5591537987422928, 3.2220213487755225, 1.5528540371893405, 0.9763402156640139, -0.9850235472827975, 4.264203340942099, -1.7244857579974844]\n",
       " [0.7331197385507477, -0.3609955766157814, 2.0042809208191352, -1.4305274326856716, -1.476628340107168, -1.8096899495409136, 0.9270885262914383, -0.19682882695913423, 5.142446343026635, 0.5502763560683698]"
      ]
     },
     "metadata": {},
     "output_type": "display_data"
    }
   ],
   "source": [
    "samples"
   ]
  },
  {
   "cell_type": "code",
   "execution_count": null,
   "metadata": {},
   "outputs": [],
   "source": []
  }
 ],
 "metadata": {
  "kernelspec": {
   "display_name": "Julia 1.8.5",
   "language": "julia",
   "name": "julia-1.8"
  },
  "language_info": {
   "file_extension": ".jl",
   "mimetype": "application/julia",
   "name": "julia",
   "version": "1.8.5"
  },
  "orig_nbformat": 4
 },
 "nbformat": 4,
 "nbformat_minor": 2
}
