{
 "cells": [
  {
   "cell_type": "code",
   "execution_count": 1,
   "metadata": {},
   "outputs": [],
   "source": [
    "using Revise, DynamicHMC, PosteriorDB, Random, StanLogDensityProblems, JSON, BridgeStan, DataFrames, LinearAlgebra, StatsBase, Distributions\n",
    "using Plots, ColorSchemes, LaTeXStrings, Statistics, CSV, AdvancedHMC, DynamicObjects\n",
    "Plots.theme(:default)\n",
    "const BS = BridgeStan;"
   ]
  },
  {
   "cell_type": "code",
   "execution_count": 88,
   "metadata": {},
   "outputs": [],
   "source": [
    "pdb = PosteriorDB.database()\n",
    "model = PosteriorDB.model(pdb, \"eight_schools_noncentered\")\n",
    "post = PosteriorDB.posterior(pdb, \"eight_schools-eight_schools_noncentered\")\n",
    "impl = PosteriorDB.implementation(model, \"stan\")\n",
    "path = PosteriorDB.path(impl)\n",
    "data = PosteriorDB.dataset(post)\n",
    "s = PosteriorDB.load(data, String);\n",
    "bs_model = BS.StanModel(stan_file=path, data=s);\n",
    "ref = PosteriorDB.reference_posterior(post)\n",
    "df=DataFrame(PosteriorDB.load(ref));"
   ]
  },
  {
   "cell_type": "code",
   "execution_count": 119,
   "metadata": {},
   "outputs": [
    {
     "name": "stderr",
     "output_type": "stream",
     "text": [
      "\r\u001b[32mSampling  11%|███▌                           |  ETA: 0:00:01\u001b[39m\u001b[K\r\n",
      "\u001b[34m  iterations:                                   895\u001b[39m\u001b[K\r\n",
      "\u001b[34m  ratio_divergent_transitions:                  0.0\u001b[39m\u001b[K\r\n",
      "\u001b[34m  ratio_divergent_transitions_during_adaption:  0.02\u001b[39m\u001b[K\r\n",
      "\u001b[34m  n_steps:                                      31\u001b[39m\u001b[K\r\n",
      "\u001b[34m  is_accept:                                    true\u001b[39m\u001b[K\r\n",
      "\u001b[34m  acceptance_rate:                              0.9763927659190847\u001b[39m\u001b[K\r\n",
      "\u001b[34m  log_density:                                  -7.914204277695983\u001b[39m\u001b[K\r\n",
      "\u001b[34m  hamiltonian_energy:                           16.06550245844311\u001b[39m\u001b[K\r\n",
      "\u001b[34m  hamiltonian_energy_error:                     0.017868046272976557\u001b[39m\u001b[K\r\n",
      "\u001b[34m  max_hamiltonian_energy_error:                 0.09941313307730226\u001b[39m\u001b[K\r\n",
      "\u001b[34m  tree_depth:                                   5\u001b[39m\u001b[K\r\n",
      "\u001b[34m  numerical_error:                              false\u001b[39m\u001b[K\r\n",
      "\u001b[34m  step_size:                                    0.14914249053326567\u001b[39m\u001b[K\r\n",
      "\u001b[34m  nom_step_size:                                0.14914249053326567\u001b[39m\u001b[K\r\n",
      "\u001b[34m  is_adapt:                                     true\u001b[39m\u001b[K\r\n",
      "\u001b[34m  mass_matrix:                                  DiagEuclideanMetric([1.022902442655423, 0.92534 ...])\u001b[39m\u001b[K\r\u001b[A\r\u001b[A\r\u001b[A\r\u001b[A\r\u001b[A\r\u001b[A\r\u001b[A\r\u001b[A\r\u001b[A\r\u001b[A\r\u001b[A\r\u001b[A\r\u001b[A\r\u001b[A\r\u001b[A\r\u001b[A\r\u001b[A"
     ]
    },
    {
     "name": "stderr",
     "output_type": "stream",
     "text": [
      "\n",
      "\n",
      "\n",
      "\n",
      "\n",
      "\n",
      "\n",
      "\n",
      "\n",
      "\n",
      "\n",
      "\n",
      "\n",
      "\n",
      "\n",
      "\n",
      "\n",
      "\r\u001b[K\u001b[A\r\u001b[K\u001b[A\r\u001b[K\u001b[A\r\u001b[K\u001b[A\r\u001b[K\u001b[A\r\u001b[K\u001b[A\r\u001b[K\u001b[A\r\u001b[K\u001b[A\r\u001b[K\u001b[A\r\u001b[K\u001b[A\r\u001b[K\u001b[A\r\u001b[K\u001b[A\r\u001b[K\u001b[A\r\u001b[K\u001b[A\r\u001b[K\u001b[A\r\u001b[K\u001b[A\r\u001b[K\u001b[A\r\u001b[32mSampling  40%|████████████▎                  |  ETA: 0:00:00\u001b[39m\u001b[K\r\n",
      "\u001b[34m  iterations:                                   3161\u001b[39m\u001b[K\r\n",
      "\u001b[34m  ratio_divergent_transitions:                  0.0\u001b[39m\u001b[K\r\n",
      "\u001b[34m  ratio_divergent_transitions_during_adaption:  0.01\u001b[39m\u001b[K\r\n",
      "\u001b[34m  n_steps:                                      15\u001b[39m\u001b[K\r\n",
      "\u001b[34m  is_accept:                                    true\u001b[39m\u001b[K\r\n",
      "\u001b[34m  acceptance_rate:                              0.9064916300019851\u001b[39m\u001b[K\r\n",
      "\u001b[34m  log_density:                                  -5.680410764834427\u001b[39m\u001b[K\r\n",
      "\u001b[34m  hamiltonian_energy:                           12.127811642625804\u001b[39m\u001b[K\r\n",
      "\u001b[34m  hamiltonian_energy_error:                     -0.06584808204247139\u001b[39m\u001b[K\r\n",
      "\u001b[34m  max_hamiltonian_energy_error:                 0.18131248311070536\u001b[39m\u001b[K\r\n",
      "\u001b[34m  tree_depth:                                   3\u001b[39m\u001b[K\r\n",
      "\u001b[34m  numerical_error:                              false\u001b[39m\u001b[K\r\n",
      "\u001b[34m  step_size:                                    0.4043801560093249\u001b[39m\u001b[K\r\n",
      "\u001b[34m  nom_step_size:                                0.4043801560093249\u001b[39m\u001b[K\r\n",
      "\u001b[34m  is_adapt:                                     false\u001b[39m\u001b[K\r\n",
      "\u001b[34m  mass_matrix:                                  DiagEuclideanMetric([0.9964929543071683, 0.8576 ...])\u001b[39m\u001b[K\r\u001b[A\r\u001b[A\r\u001b[A\r\u001b[A\r\u001b[A\r\u001b[A\r\u001b[A\r\u001b[A\r\u001b[A\r\u001b[A\r\u001b[A\r\u001b[A\r\u001b[A\r\u001b[A\r\u001b[A\r\u001b[A\r\u001b[A"
     ]
    },
    {
     "name": "stderr",
     "output_type": "stream",
     "text": [
      "\n",
      "\n",
      "\n",
      "\n",
      "\n",
      "\n",
      "\n",
      "\n",
      "\n",
      "\n",
      "\n",
      "\n",
      "\n",
      "\n",
      "\n",
      "\n",
      "\n",
      "\r\u001b[K\u001b[A\r\u001b[K\u001b[A\r\u001b[K\u001b[A\r\u001b[K\u001b[A\r\u001b[K\u001b[A\r\u001b[K\u001b[A\r\u001b[K\u001b[A\r\u001b[K\u001b[A\r\u001b[K\u001b[A\r\u001b[K\u001b[A\r\u001b[K\u001b[A\r\u001b[K\u001b[A\r\u001b[K\u001b[A\r\u001b[K\u001b[A\r\u001b[K\u001b[A\r\u001b[K\u001b[A\r\u001b[K\u001b[A\r\u001b[32mSampling  67%|████████████████████▊          |  ETA: 0:00:00\u001b[39m\u001b[K\r\n",
      "\u001b[34m  iterations:                                   5354\u001b[39m\u001b[K\r\n",
      "\u001b[34m  ratio_divergent_transitions:                  0.0\u001b[39m\u001b[K\r\n",
      "\u001b[34m  ratio_divergent_transitions_during_adaption:  0.01\u001b[39m\u001b[K\r\n",
      "\u001b[34m  n_steps:                                      7\u001b[39m\u001b[K\r\n",
      "\u001b[34m  is_accept:                                    true\u001b[39m\u001b[K\r\n",
      "\u001b[34m  acceptance_rate:                              1.0\u001b[39m\u001b[K\r\n",
      "\u001b[34m  log_density:                                  -3.125199584845127\u001b[39m\u001b[K\r\n",
      "\u001b[34m  hamiltonian_energy:                           7.977536678133459\u001b[39m\u001b[K\r\n",
      "\u001b[34m  hamiltonian_energy_error:                     -0.13366825911156255\u001b[39m\u001b[K\r\n",
      "\u001b[34m  max_hamiltonian_energy_error:                 -0.13366825911156255\u001b[39m\u001b[K\r\n",
      "\u001b[34m  tree_depth:                                   3\u001b[39m\u001b[K\r\n",
      "\u001b[34m  numerical_error:                              false\u001b[39m\u001b[K\r\n",
      "\u001b[34m  step_size:                                    0.4043801560093249\u001b[39m\u001b[K\r\n",
      "\u001b[34m  nom_step_size:                                0.4043801560093249\u001b[39m\u001b[K\r\n",
      "\u001b[34m  is_adapt:                                     false\u001b[39m\u001b[K\r\n",
      "\u001b[34m  mass_matrix:                                  DiagEuclideanMetric([0.9964929543071683, 0.8576 ...])\u001b[39m\u001b[K\r\u001b[A\r\u001b[A\r\u001b[A\r\u001b[A\r\u001b[A\r\u001b[A\r\u001b[A\r\u001b[A\r\u001b[A\r\u001b[A\r\u001b[A\r\u001b[A\r\u001b[A\r\u001b[A\r\u001b[A\r\u001b[A\r\u001b[A"
     ]
    },
    {
     "name": "stderr",
     "output_type": "stream",
     "text": [
      "\n",
      "\n",
      "\n",
      "\n",
      "\n",
      "\n",
      "\n",
      "\n",
      "\n",
      "\n",
      "\n",
      "\n",
      "\n",
      "\n",
      "\n",
      "\n",
      "\n",
      "\r\u001b[K\u001b[A\r\u001b[K\u001b[A\r\u001b[K\u001b[A\r\u001b[K\u001b[A\r\u001b[K\u001b[A\r\u001b[K\u001b[A\r\u001b[K\u001b[A\r\u001b[K\u001b[A\r\u001b[K\u001b[A\r\u001b[K\u001b[A\r\u001b[K\u001b[A\r\u001b[K\u001b[A\r\u001b[K\u001b[A\r\u001b[K\u001b[A\r\u001b[K\u001b[A\r\u001b[K\u001b[A\r\u001b[K\u001b[A\r\u001b[32mSampling  87%|███████████████████████████▏   |  ETA: 0:00:00\u001b[39m\u001b[K\r\n",
      "\u001b[34m  iterations:                                   6994\u001b[39m\u001b[K\r\n",
      "\u001b[34m  ratio_divergent_transitions:                  0.0\u001b[39m\u001b[K\r\n",
      "\u001b[34m  ratio_divergent_transitions_during_adaption:  0.0\u001b[39m\u001b[K\r\n",
      "\u001b[34m  n_steps:                                      7\u001b[39m\u001b[K\r\n",
      "\u001b[34m  is_accept:                                    true\u001b[39m\u001b[K\r\n",
      "\u001b[34m  acceptance_rate:                              0.9772925684495671\u001b[39m\u001b[K\r\n",
      "\u001b[34m  log_density:                                  -5.848456318382831\u001b[39m\u001b[K\r\n",
      "\u001b[34m  hamiltonian_energy:                           8.064871339961133\u001b[39m\u001b[K\r\n",
      "\u001b[34m  hamiltonian_energy_error:                     0.04319032639595477\u001b[39m\u001b[K\r\n",
      "\u001b[34m  max_hamiltonian_energy_error:                 -0.07950543492963558\u001b[39m\u001b[K\r\n",
      "\u001b[34m  tree_depth:                                   3\u001b[39m\u001b[K\r\n",
      "\u001b[34m  numerical_error:                              false\u001b[39m\u001b[K\r\n",
      "\u001b[34m  step_size:                                    0.4043801560093249\u001b[39m\u001b[K\r\n",
      "\u001b[34m  nom_step_size:                                0.4043801560093249\u001b[39m\u001b[K\r\n",
      "\u001b[34m  is_adapt:                                     false\u001b[39m\u001b[K\r\n",
      "\u001b[34m  mass_matrix:                                  DiagEuclideanMetric([0.9964929543071683, 0.8576 ...])\u001b[39m\u001b[K\r\u001b[A\r\u001b[A\r\u001b[A\r\u001b[A\r\u001b[A\r\u001b[A\r\u001b[A\r\u001b[A\r\u001b[A\r\u001b[A\r\u001b[A\r\u001b[A\r\u001b[A\r\u001b[A\r\u001b[A\r\u001b[A\r\u001b[A"
     ]
    },
    {
     "name": "stderr",
     "output_type": "stream",
     "text": [
      "\n",
      "\n",
      "\n",
      "\n",
      "\n",
      "\n",
      "\n",
      "\n",
      "\n",
      "\n",
      "\n",
      "\n",
      "\n",
      "\n",
      "\n",
      "\n",
      "\n",
      "\r\u001b[K\u001b[A\r\u001b[K\u001b[A\r\u001b[K\u001b[A\r\u001b[K\u001b[A\r\u001b[K\u001b[A\r\u001b[K\u001b[A\r\u001b[K\u001b[A\r\u001b[K\u001b[A\r\u001b[K\u001b[A\r\u001b[K\u001b[A\r\u001b[K\u001b[A\r\u001b[K\u001b[A\r\u001b[K\u001b[A\r\u001b[K\u001b[A\r\u001b[K\u001b[A\r\u001b[K\u001b[A\r\u001b[K\u001b[A\r\u001b[32mSampling 100%|███████████████████████████████| Time: 0:00:00\u001b[39m\u001b[K\r\n",
      "\u001b[34m  iterations:                                   8000\u001b[39m\u001b[K\r\n",
      "\u001b[34m  ratio_divergent_transitions:                  0.0\u001b[39m\u001b[K\r\n",
      "\u001b[34m  ratio_divergent_transitions_during_adaption:  0.0\u001b[39m\u001b[K\r\n",
      "\u001b[34m  n_steps:                                      15\u001b[39m\u001b[K\r\n",
      "\u001b[34m  is_accept:                                    true\u001b[39m\u001b[K\r\n",
      "\u001b[34m  acceptance_rate:                              0.4052342918202954\u001b[39m\u001b[K\r\n",
      "\u001b[34m  log_density:                                  -8.868373854993063\u001b[39m\u001b[K\r\n",
      "\u001b[34m  hamiltonian_energy:                           19.97580352442992\u001b[39m\u001b[K\r\n",
      "\u001b[34m  hamiltonian_energy_error:                     -0.15188092584388002\u001b[39m\u001b[K\r\n",
      "\u001b[34m  max_hamiltonian_energy_error:                 6.784952120901632\u001b[39m\u001b[K\r\n",
      "\u001b[34m  tree_depth:                                   4\u001b[39m\u001b[K\r\n",
      "\u001b[34m  numerical_error:                              false\u001b[39m\u001b[K\r\n",
      "\u001b[34m  step_size:                                    0.4043801560093249\u001b[39m\u001b[K\r\n",
      "\u001b[34m  nom_step_size:                                0.4043801560093249\u001b[39m\u001b[K\r\n",
      "\u001b[34m  is_adapt:                                     false\u001b[39m\u001b[K\r\n",
      "\u001b[34m  mass_matrix:                                  DiagEuclideanMetric([0.9964929543071683, 0.8576 ...])\u001b[39m\u001b[K\n"
     ]
    },
    {
     "name": "stderr",
     "output_type": "stream",
     "text": [
      "┌ Info: Finished 8000 sampling steps for 1 chains in 0.497411802 (s)\n",
      "│   h = Hamiltonian(metric=DiagEuclideanMetric([0.9964929543071683, 0.8576 ...]), kinetic=GaussianKinetic())\n",
      "│   κ = HMCKernel{AdvancedHMC.FullMomentumRefreshment, Trajectory{MultinomialTS, Leapfrog{Float64}, GeneralisedNoUTurn{Float64}}}(AdvancedHMC.FullMomentumRefreshment(), Trajectory{MultinomialTS}(integrator=Leapfrog(ϵ=0.404), tc=GeneralisedNoUTurn{Float64}(10, 1000.0)))\n",
      "│   EBFMI_est = 0.9772347795922866\n",
      "│   average_acceptance_rate = 0.8720347766900625\n",
      "└ @ AdvancedHMC /home/meenaljhajharia/.julia/packages/AdvancedHMC/P0nla/src/sampler.jl:246\n"
     ]
    }
   ],
   "source": [
    "lp = StanProblem(bs_model);\n",
    "D = 10;\n",
    "initial_θ = rand(D);\n",
    "n_samples, n_adapts = 8000, 2000;\n",
    "metric = DiagEuclideanMetric(D);\n",
    "hamiltonian = Hamiltonian(metric, lp);\n",
    "initial_ϵ = find_good_stepsize(hamiltonian, initial_θ);\n",
    "integrator = Leapfrog(initial_ϵ);\n",
    "proposal = NUTS{MultinomialTS, GeneralisedNoUTurn}(integrator);\n",
    "adaptor = StanHMCAdaptor(MassMatrixAdaptor(metric), StepSizeAdaptor(0.8, integrator));\n",
    "samples, stats = sample(hamiltonian, proposal, initial_θ, n_samples, adaptor, n_adapts; progress=true);"
   ]
  },
  {
   "cell_type": "code",
   "execution_count": 130,
   "metadata": {},
   "outputs": [],
   "source": [
    "constrained_draws = hcat([vcat(col...) for col in eachcol(df)]...)\n",
    "unc_sample_array = vcat([\n",
    "        param_unconstrain(bs_model, collect(row))' for row in eachrow(constrained_draws)\n",
    "    ]...);"
   ]
  },
  {
   "cell_type": "code",
   "execution_count": 141,
   "metadata": {},
   "outputs": [
    {
     "data": {
      "text/plain": [
       "10-element Vector{Vector{Float64}}:\n",
       " [10.6802773011458, 6.45383910854259, -2.24162964640445, 2.46002311906488, 5.62488583140483, 7.50336783926614, 7.81599603245006, 5.01930011367663, 10.0453731387824, 5.18654343159969  …  10.8543075961609, 6.86691967470924, 0.799568425320042, -6.00133827977765, 3.91918784521252, -0.457417923777182, 14.0130855408948, 10.4364426149009, 7.83739360064137, 2.67677737402556]\n",
       " [9.71770681295263, 4.41030824418493, 0.76170478635617, 4.44563233501733, 3.70945063496892, 10.2793322657322, -0.746157582070738, 8.1889712844579, 11.8259015464458, 7.70173948387578  …  11.0142238179929, 6.44421094764307, 3.05045955737912, 3.20816044798655, 3.86699827881457, 0.0895875366096966, 13.3332458270933, 8.48494482594839, -1.90581015907821, 0.664981468150161]\n",
       " [7.77507099674238, 7.01330364732333, -4.74619327067715, 4.31377989983942, 6.1100832448503, 4.946216236031, 6.79006394123933, 9.5405263579324, 8.17946180551709, 2.69349578635701  …  16.3664299033365, 6.7140274989863, 2.00427359394125, -1.36520411715129, 4.50136917782162, -0.82376399085135, 11.5204598233378, 1.99118847711778, 6.39258678646424, -0.546755622572778]\n",
       " [9.02804654605565, 6.38042015824668, -0.709304643674647, 2.36809916955889, 4.04809823073324, 2.39186743290797, 7.91712693402078, 7.5193035923265, 5.00707698380624, 8.4092225179772  …  12.1547341335248, 6.39313759520527, 2.91053367868022, 11.0843426146002, 3.74985108029381, -0.108208155031953, 12.4711355171665, 3.64431305266083, 7.75348793042278, 5.83248060434827]\n",
       " [9.65893576633312, 3.83582309574938, -2.32904568276689, 0.575224904023685, 3.42029887010151, 8.65376271756424, -5.56906711986372, 5.22178736053179, 5.55947291682359, 5.54254728008353  …  3.54121487440966, 6.38196105693913, 2.04469786057355, 0.942813098687359, 4.12560139368792, 0.987524629324258, 11.9985081034654, 3.52836833838359, 2.55300013210108, 1.9893044801087]\n",
       " [8.82344036757095, 5.96730893763187, -2.26051369292853, 0.862179883862539, 5.14442729997108, 8.15046461947111, 0.0616770968912341, 6.06613673024651, 4.20792885208635, 4.49265074070889  …  7.05824352301156, 6.72998166932236, 2.61888815958818, 3.93909317583572, 4.67987500315057, 0.623354577971355, 15.2513648095543, 7.97920396754832, 1.0724232278709, 1.04231936866204]\n",
       " [9.67957708445449, 1.86972067768051, 1.03492693400851, 5.84093469043763, 2.98632875323303, 7.53845066199705, 9.64979691190186, 9.76353844595097, 6.94542722479224, 6.86544222816158  …  4.70480915686369, 6.13649696226184, 3.54728658870332, 1.79376622540685, 5.16484060822524, -1.61434033759811, 17.7981931903745, 15.6654513885039, 2.08813286586447, -1.3902120444533]\n",
       " [13.7360810246561, 3.74315115112451, -2.25603142240079, 3.48159502705892, 7.07705181472585, 11.9473594481635, 8.22299648714477, 7.11512145196929, 3.71628801462717, 4.82503550362242  …  7.91962615723833, 5.58215488819625, 1.63346002993857, -0.0934766440268626, 5.48877269639503, 0.423010377698255, 14.8080106091683, 5.70288381930125, -1.36400421344774, 4.34431755205323]\n",
       " [9.33884525330527, 3.69197464103666, -1.01337236324266, 2.66778791759843, 4.04478093823227, 7.19249123583279, 6.13427314914737, 7.30456476235158, 6.62392484134316, 6.47552590364613  …  8.88823773562437, 6.64257148916997, 1.98243432655296, -1.97193237578005, 4.39519270492021, -0.325597423485719, 12.8291752930674, 3.26769396321385, 3.75427203412247, 3.3837995793181]\n",
       " [1.7939466756273, 2.15365194973535, 2.29507640636632, 1.70820223820705, 1.26626968374894, 3.47870837316026, 4.55485885132266, 3.63692894791191, 3.89038192724865, 2.14736011049675  …  4.47045695717728, 0.556734065074324, 1.05656770017628, 4.23988990031915, 0.541976702126702, 0.945348752972086, 1.70817990928099, 5.26015358841, 3.93348192889754, 2.46918116791167]"
      ]
     },
     "metadata": {},
     "output_type": "display_data"
    }
   ],
   "source": []
  },
  {
   "cell_type": "code",
   "execution_count": 134,
   "metadata": {},
   "outputs": [
    {
     "data": {
      "text/plain": [
       "10-element Vector{Float64}:\n",
       "  0.3173551467310577\n",
       "  0.08433652958871951\n",
       " -0.0886958945091761\n",
       "  0.06037996882064286\n",
       " -0.17066047954097616\n",
       " -0.06670302452397554\n",
       "  0.37302740430830394\n",
       "  0.059786873877665854\n",
       "  4.384754324471194\n",
       "  0.806020045873587"
      ]
     },
     "metadata": {},
     "output_type": "display_data"
    }
   ],
   "source": [
    "mean(samples)"
   ]
  },
  {
   "cell_type": "code",
   "execution_count": null,
   "metadata": {},
   "outputs": [],
   "source": []
  }
 ],
 "metadata": {
  "kernelspec": {
   "display_name": "Julia 1.8.5",
   "language": "julia",
   "name": "julia-1.8"
  },
  "language_info": {
   "file_extension": ".jl",
   "mimetype": "application/julia",
   "name": "julia",
   "version": "1.8.5"
  },
  "orig_nbformat": 4
 },
 "nbformat": 4,
 "nbformat_minor": 2
}
