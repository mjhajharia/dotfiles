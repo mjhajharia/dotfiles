{
 "cells": [
  {
   "cell_type": "code",
   "execution_count": 1,
   "metadata": {},
   "outputs": [],
   "source": [
    "using Revise, DynamicHMC, PosteriorDB, Random, StanLogDensityProblems, JSON, BridgeStan, DataFrames, LinearAlgebra, StatsBase, Distributions\n",
    "using Plots, ColorSchemes, LaTeXStrings, Statistics, CSV, AdvancedHMC, DynamicObjects\n",
    "Plots.theme(:default)\n",
    "const BS = BridgeStan;"
   ]
  },
  {
   "cell_type": "code",
   "execution_count": 88,
   "metadata": {},
   "outputs": [],
   "source": [
    "pdb = PosteriorDB.database()\n",
    "model = PosteriorDB.model(pdb, \"eight_schools_noncentered\")\n",
    "post = PosteriorDB.posterior(pdb, \"eight_schools-eight_schools_noncentered\")\n",
    "impl = PosteriorDB.implementation(model, \"stan\")\n",
    "path = PosteriorDB.path(impl)\n",
    "data = PosteriorDB.dataset(post)\n",
    "s = PosteriorDB.load(data, String);\n",
    "bs_model = BS.StanModel(stan_file=path, data=s);\n",
    "ref = PosteriorDB.reference_posterior(post)\n",
    "df=DataFrame(PosteriorDB.load(ref));"
   ]
  },
  {
   "cell_type": "code",
   "execution_count": 178,
   "metadata": {},
   "outputs": [
    {
     "name": "stderr",
     "output_type": "stream",
     "text": [
      "\r\u001b[32mSampling   0%|                               |  ETA: 0:12:02\u001b[39m\u001b[K\r\n",
      "\u001b[34m  iterations:                                   2\u001b[39m\u001b[K\r\n",
      "\u001b[34m  ratio_divergent_transitions:                  0.0\u001b[39m\u001b[K\r\n",
      "\u001b[34m  ratio_divergent_transitions_during_adaption:  0.5\u001b[39m\u001b[K\r\n",
      "\u001b[34m  n_steps:                                      1\u001b[39m\u001b[K\r\n",
      "\u001b[34m  is_accept:                                    true\u001b[39m\u001b[K\r\n",
      "\u001b[34m  acceptance_rate:                              0.0\u001b[39m\u001b[K\r\n",
      "\u001b[34m  log_density:                                  -9.008526251177598\u001b[39m\u001b[K\r\n",
      "\u001b[34m  hamiltonian_energy:                           12.708457112487306\u001b[39m\u001b[K\r\n",
      "\u001b[34m  hamiltonian_energy_error:                     0.0\u001b[39m\u001b[K\r\n",
      "\u001b[34m  max_hamiltonian_energy_error:                 4.275140685799279e14\u001b[39m\u001b[K\r\n",
      "\u001b[34m  tree_depth:                                   0\u001b[39m\u001b[K\r\n",
      "\u001b[34m  numerical_error:                              true\u001b[39m\u001b[K\r\n",
      "\u001b[34m  step_size:                                    4.6305929745559276\u001b[39m\u001b[K\r\n",
      "\u001b[34m  nom_step_size:                                4.6305929745559276\u001b[39m\u001b[K\r\n",
      "\u001b[34m  is_adapt:                                     true\u001b[39m\u001b[K\r\n",
      "\u001b[34m  mass_matrix:                                  DiagEuclideanMetric([1.0, 1.0, 1.0, 1.0, 1.0, 1 ...])\u001b[39m\u001b[K\r\u001b[A\r\u001b[A\r\u001b[A\r\u001b[A\r\u001b[A\r\u001b[A\r\u001b[A\r\u001b[A\r\u001b[A\r\u001b[A\r\u001b[A\r\u001b[A\r\u001b[A\r\u001b[A\r\u001b[A\r\u001b[A\r\u001b[A"
     ]
    },
    {
     "name": "stderr",
     "output_type": "stream",
     "text": [
      "\n",
      "\n",
      "\n",
      "\n",
      "\n",
      "\n",
      "\n",
      "\n",
      "\n",
      "\n",
      "\n",
      "\n",
      "\n",
      "\n",
      "\n",
      "\n",
      "\n",
      "\r\u001b[K\u001b[A\r\u001b[K\u001b[A\r\u001b[K\u001b[A\r\u001b[K\u001b[A\r\u001b[K\u001b[A\r\u001b[K\u001b[A\r\u001b[K\u001b[A\r\u001b[K\u001b[A\r\u001b[K\u001b[A\r\u001b[K\u001b[A\r\u001b[K\u001b[A\r\u001b[K\u001b[A\r\u001b[K\u001b[A\r\u001b[K\u001b[A\r\u001b[K\u001b[A\r\u001b[K\u001b[A\r\u001b[K\u001b[A\r\u001b[32mSampling 100%|███████████████████████████████| Time: 0:00:00\u001b[39m\u001b[K\r\n",
      "\u001b[34m  iterations:                                   8000\u001b[39m\u001b[K\r\n",
      "\u001b[34m  ratio_divergent_transitions:                  0.0\u001b[39m\u001b[K\r\n",
      "\u001b[34m  ratio_divergent_transitions_during_adaption:  0.0\u001b[39m\u001b[K\r\n",
      "\u001b[34m  n_steps:                                      7\u001b[39m\u001b[K\r\n",
      "\u001b[34m  is_accept:                                    true\u001b[39m\u001b[K\r\n",
      "\u001b[34m  acceptance_rate:                              0.9996631866288145\u001b[39m\u001b[K\r\n",
      "\u001b[34m  log_density:                                  -7.883221140637642\u001b[39m\u001b[K\r\n",
      "\u001b[34m  hamiltonian_energy:                           12.261434336830948\u001b[39m\u001b[K\r\n",
      "\u001b[34m  hamiltonian_energy_error:                     -0.10168988877392415\u001b[39m\u001b[K\r\n",
      "\u001b[34m  max_hamiltonian_energy_error:                 -0.36220975447912984\u001b[39m\u001b[K\r\n",
      "\u001b[34m  tree_depth:                                   3\u001b[39m\u001b[K\r\n",
      "\u001b[34m  numerical_error:                              false\u001b[39m\u001b[K\r\n",
      "\u001b[34m  step_size:                                    0.5139431750108344\u001b[39m\u001b[K\r\n",
      "\u001b[34m  nom_step_size:                                0.5139431750108344\u001b[39m\u001b[K\r\n",
      "\u001b[34m  is_adapt:                                     false\u001b[39m\u001b[K\r\n",
      "\u001b[34m  mass_matrix:                                  DiagEuclideanMetric([0.9342838452400835, 0.8845 ...])\u001b[39m\u001b[K\n"
     ]
    },
    {
     "name": "stderr",
     "output_type": "stream",
     "text": [
      "┌ Info: Finished 8000 sampling steps for 1 chains in 0.62266691 (s)\n",
      "│   h = Hamiltonian(metric=DiagEuclideanMetric([0.9342838452400835, 0.8845 ...]), kinetic=GaussianKinetic())\n",
      "│   κ = HMCKernel{AdvancedHMC.FullMomentumRefreshment, Trajectory{MultinomialTS, Leapfrog{Float64}, GeneralisedNoUTurn{Float64}}}(AdvancedHMC.FullMomentumRefreshment(), Trajectory{MultinomialTS}(integrator=Leapfrog(ϵ=0.514), tc=GeneralisedNoUTurn{Float64}(10, 1000.0)))\n",
      "│   EBFMI_est = 0.9935941009273499\n",
      "│   average_acceptance_rate = 0.807194288588557\n",
      "└ @ AdvancedHMC /home/meenaljhajharia/.julia/packages/AdvancedHMC/P0nla/src/sampler.jl:246\n"
     ]
    }
   ],
   "source": [
    "lp = StanProblem(bs_model);\n",
    "D = 10;\n",
    "initial_θ = rand(D);\n",
    "n_samples, n_adapts = 8000, 2000;\n",
    "metric = DiagEuclideanMetric(D);\n",
    "hamiltonian = Hamiltonian(metric, lp);\n",
    "initial_ϵ = find_good_stepsize(hamiltonian, initial_θ);\n",
    "integrator = Leapfrog(initial_ϵ);\n",
    "proposal = NUTS{MultinomialTS, GeneralisedNoUTurn}(integrator);\n",
    "adaptor = StanHMCAdaptor(MassMatrixAdaptor(metric), StepSizeAdaptor(0.8, integrator));\n",
    "samples, stats = sample(hamiltonian, proposal, initial_θ, n_samples, adaptor, n_adapts; progress=true);"
   ]
  },
  {
   "cell_type": "code",
   "execution_count": 152,
   "metadata": {},
   "outputs": [],
   "source": [
    "    constrained_draws = hcat([vcat(col...) for col in eachcol(df)]...)\n",
    "    unc_sample_array = vcat([\n",
    "            param_unconstrain(bs_model, collect(row))' for row in eachrow(constrained_draws)\n",
    "        ]...);"
   ]
  },
  {
   "cell_type": "code",
   "execution_count": 170,
   "metadata": {},
   "outputs": [
    {
     "data": {
      "text/plain": [
       "11"
      ]
     },
     "metadata": {},
     "output_type": "display_data"
    }
   ],
   "source": [
    "using TransformVariables\n",
    "t = as((μ = asℝ, σ = asℝ₊, τ = asℝ₊, θs = as(Array, 8)))\n",
    "dimension(t)"
   ]
  },
  {
   "cell_type": "code",
   "execution_count": 176,
   "metadata": {},
   "outputs": [],
   "source": [
    "P = TransformedLogDensity(t, lp)\n",
    "∇P = ADgradient(:ForwardDiff, lp);"
   ]
  },
  {
   "cell_type": "code",
   "execution_count": 175,
   "metadata": {},
   "outputs": [],
   "source": [
    "using TransformedLogDensities, LogDensityProblemsAD"
   ]
  },
  {
   "cell_type": "code",
   "execution_count": 180,
   "metadata": {},
   "outputs": [
    {
     "data": {
      "text/plain": [
       "8000-element Vector{Vector{Float64}}:\n",
       " [-1.7003134669502395, -0.90671438636748, 0.7347831077096086, -1.1805525907692078, 0.25723581572030385, 0.0881677704977733, -1.6501416091039252, -1.0503802488939349, 1.5333279392074668, 0.29740362668411824]\n",
       " [-1.7003134669502395, -0.90671438636748, 0.7347831077096086, -1.1805525907692078, 0.25723581572030385, 0.0881677704977733, -1.6501416091039252, -1.0503802488939349, 1.5333279392074668, 0.29740362668411824]\n",
       " [-0.46051656023472665, 0.7556628794865422, 0.7109147446157704, 0.1139996564072373, 0.977664923749782, -0.5388752981146849, 0.33521653740148727, 0.3117257297494793, 1.7715940839440474, 1.4333327163299951]\n",
       " [0.7038792498446453, 0.09773494337493305, -0.23845752471278175, 0.46302577606516326, -1.9452182437208376, 0.5902361322409491, -0.7019118979872371, -0.5872691456146444, 2.4155624555359383, 0.15154362836173693]\n",
       " [-0.5335627597788599, 0.2067729362353954, 0.21328317341810832, -0.4844052125266387, 1.8277402548821382, -0.686849763290789, 1.1641446817763617, 0.5944996472587055, 1.5524041949803051, 1.5152521755782535]\n",
       " [-0.2780159593346796, 1.693599340394548, -0.2009631331702902, -1.9280952126757862, 0.4357165298893546, -0.49523043405238887, 2.028563715671088, 0.9877463489527386, 2.753522635957041, 1.307712607932548]\n",
       " [-0.26913253571209467, 2.1097518129006922, -0.40446432336228677, -1.627466139372102, -0.2828004828984447, -0.23614737797833812, 0.9516801585063668, -0.16192977070928427, 2.664655034957502, 0.07301689573804082]\n",
       " [0.9201350305165588, -1.5888121795646648, 0.8613885227874474, 1.3611981675627982, 0.4683320058065864, -0.42212462481732155, 0.17037668807009781, 0.15568990312102768, 5.6137321835097405, 1.5115116948400145]\n",
       " [-0.3101434934728676, 1.9702989272915938, -0.7766941182375845, -1.362777698784308, -0.6745173547805149, 0.2026389550182584, 1.2132554253628904, 0.07272055545258435, 3.1843516518831843, 0.9913537581082262]\n",
       " [0.03993128061253426, -1.343574268589633, -0.2191176186041689, 2.680676536818488, 0.5211472730640112, -0.3121318010004511, -0.03830466935484922, 0.6322244290082595, 0.5433225326764407, 0.9337714045071204]\n",
       " ⋮\n",
       " [0.9022565989429597, 0.8240631176943068, -0.4926001739507827, 2.5734457584216988, 0.8096485265319158, -0.06297793738859098, 1.4607947921952835, -0.9867131104301357, 5.287127738494173, -1.0626604930952417]\n",
       " [-0.9065642349406219, 1.5239456573801091, 1.169217379684825, 0.7281184438865769, 1.3316335134741453, -0.6777817267714032, 0.019063588380941465, -0.12675758785956248, 4.841961890895196, 1.5508093403490308]\n",
       " [0.8083080791229775, -0.036782892872320505, 0.14560133164976774, -0.019951975708920988, -1.1915398291764412, -1.4104191819776541, -0.6690626000597013, 0.19709567009351053, 6.755755548122913, -0.9390393142434292]\n",
       " [-0.11654710238928034, 0.8202437032353553, -0.6228946602851082, -0.9669758450110577, 0.8381876435571525, -0.9793520175682434, 0.47896686860097804, 0.5290208870418777, 7.52495831102853, -0.6511560479556278]\n",
       " [-0.5954241199331038, 0.2539736429478993, 1.1476738475258392, -2.592504552599334, 0.5706416889937209, -0.2176660365655657, -0.8949958307977116, -1.2119263722231186, 5.2881703268289755, -0.9350800133489728]\n",
       " [-0.006146252646106409, -0.5081628587526101, -1.3967333918962939, 1.116891412990669, -0.26264314567178443, 1.0556360700553593, 1.4431669030705874, -0.7230475601587218, 3.5115601639086673, 0.4841548632229752]\n",
       " [0.686807612739178, -1.3136457160381139, -1.3179182122331905, 0.8645545700785107, -0.37850659462148645, 0.5803603653120505, 2.8656250456624126, -1.5816099701017214, 6.405829490617426, 1.4236232733320993]\n",
       " [0.226041222120352, -1.1359573816945536, -2.035934384639062, -0.20972294825765359, -0.9863401301472317, 0.8175133142769337, 2.6563940057537687, 1.0933950358988218, 1.725445915241854, 1.295401538429879]\n",
       " [0.2202651793270866, -0.8187683599365871, -1.0879564590805828, -0.19134323590282254, -0.9453415679359404, 1.0478328858117543, 2.3113059112956136, 1.9196112206998246, 2.7396346292629836, 1.3381796070404597]"
      ]
     },
     "metadata": {},
     "output_type": "display_data"
    }
   ],
   "source": [
    "samples"
   ]
  },
  {
   "cell_type": "code",
   "execution_count": null,
   "metadata": {},
   "outputs": [],
   "source": []
  }
 ],
 "metadata": {
  "kernelspec": {
   "display_name": "Julia 1.8.5",
   "language": "julia",
   "name": "julia-1.8"
  },
  "language_info": {
   "file_extension": ".jl",
   "mimetype": "application/julia",
   "name": "julia",
   "version": "1.8.5"
  },
  "orig_nbformat": 4
 },
 "nbformat": 4,
 "nbformat_minor": 2
}
