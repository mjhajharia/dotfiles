{
 "cells": [
  {
   "cell_type": "code",
   "execution_count": 1,
   "metadata": {},
   "outputs": [],
   "source": [
    "using Revise, DynamicHMC, PosteriorDB, Random, StanLogDensityProblems, JSON, BridgeStan, DataFrames, LinearAlgebra, StatsBase, Distributions\n",
    "using Plots, ColorSchemes, LaTeXStrings, Statistics, CSV, AdvancedHMC, DynamicObjects\n",
    "Plots.theme(:default)\n",
    "const BS = BridgeStan;"
   ]
  },
  {
   "cell_type": "code",
   "execution_count": 88,
   "metadata": {},
   "outputs": [],
   "source": [
    "pdb = PosteriorDB.database()\n",
    "model = PosteriorDB.model(pdb, \"eight_schools_noncentered\")\n",
    "post = PosteriorDB.posterior(pdb, \"eight_schools-eight_schools_noncentered\")\n",
    "impl = PosteriorDB.implementation(model, \"stan\")\n",
    "path = PosteriorDB.path(impl)\n",
    "data = PosteriorDB.dataset(post)\n",
    "s = PosteriorDB.load(data, String);\n",
    "bs_model = BS.StanModel(stan_file=path, data=s);\n",
    "ref = PosteriorDB.reference_posterior(post)\n",
    "df=DataFrame(PosteriorDB.load(ref));"
   ]
  },
  {
   "cell_type": "code",
   "execution_count": 178,
   "metadata": {},
   "outputs": [
    {
     "name": "stderr",
     "output_type": "stream",
     "text": [
      "\r\u001b[32mSampling   0%|                               |  ETA: 0:12:02\u001b[39m\u001b[K\r\n",
      "\u001b[34m  iterations:                                   2\u001b[39m\u001b[K\r\n",
      "\u001b[34m  ratio_divergent_transitions:                  0.0\u001b[39m\u001b[K\r\n",
      "\u001b[34m  ratio_divergent_transitions_during_adaption:  0.5\u001b[39m\u001b[K\r\n",
      "\u001b[34m  n_steps:                                      1\u001b[39m\u001b[K\r\n",
      "\u001b[34m  is_accept:                                    true\u001b[39m\u001b[K\r\n",
      "\u001b[34m  acceptance_rate:                              0.0\u001b[39m\u001b[K\r\n",
      "\u001b[34m  log_density:                                  -9.008526251177598\u001b[39m\u001b[K\r\n",
      "\u001b[34m  hamiltonian_energy:                           12.708457112487306\u001b[39m\u001b[K\r\n",
      "\u001b[34m  hamiltonian_energy_error:                     0.0\u001b[39m\u001b[K\r\n",
      "\u001b[34m  max_hamiltonian_energy_error:                 4.275140685799279e14\u001b[39m\u001b[K\r\n",
      "\u001b[34m  tree_depth:                                   0\u001b[39m\u001b[K\r\n",
      "\u001b[34m  numerical_error:                              true\u001b[39m\u001b[K\r\n",
      "\u001b[34m  step_size:                                    4.6305929745559276\u001b[39m\u001b[K\r\n",
      "\u001b[34m  nom_step_size:                                4.6305929745559276\u001b[39m\u001b[K\r\n",
      "\u001b[34m  is_adapt:                                     true\u001b[39m\u001b[K\r\n",
      "\u001b[34m  mass_matrix:                                  DiagEuclideanMetric([1.0, 1.0, 1.0, 1.0, 1.0, 1 ...])\u001b[39m\u001b[K\r\u001b[A\r\u001b[A\r\u001b[A\r\u001b[A\r\u001b[A\r\u001b[A\r\u001b[A\r\u001b[A\r\u001b[A\r\u001b[A\r\u001b[A\r\u001b[A\r\u001b[A\r\u001b[A\r\u001b[A\r\u001b[A\r\u001b[A"
     ]
    },
    {
     "name": "stderr",
     "output_type": "stream",
     "text": [
      "\n",
      "\n",
      "\n",
      "\n",
      "\n",
      "\n",
      "\n",
      "\n",
      "\n",
      "\n",
      "\n",
      "\n",
      "\n",
      "\n",
      "\n",
      "\n",
      "\n",
      "\r\u001b[K\u001b[A\r\u001b[K\u001b[A\r\u001b[K\u001b[A\r\u001b[K\u001b[A\r\u001b[K\u001b[A\r\u001b[K\u001b[A\r\u001b[K\u001b[A\r\u001b[K\u001b[A\r\u001b[K\u001b[A\r\u001b[K\u001b[A\r\u001b[K\u001b[A\r\u001b[K\u001b[A\r\u001b[K\u001b[A\r\u001b[K\u001b[A\r\u001b[K\u001b[A\r\u001b[K\u001b[A\r\u001b[K\u001b[A\r\u001b[32mSampling 100%|███████████████████████████████| Time: 0:00:00\u001b[39m\u001b[K\r\n",
      "\u001b[34m  iterations:                                   8000\u001b[39m\u001b[K\r\n",
      "\u001b[34m  ratio_divergent_transitions:                  0.0\u001b[39m\u001b[K\r\n",
      "\u001b[34m  ratio_divergent_transitions_during_adaption:  0.0\u001b[39m\u001b[K\r\n",
      "\u001b[34m  n_steps:                                      7\u001b[39m\u001b[K\r\n",
      "\u001b[34m  is_accept:                                    true\u001b[39m\u001b[K\r\n",
      "\u001b[34m  acceptance_rate:                              0.9996631866288145\u001b[39m\u001b[K\r\n",
      "\u001b[34m  log_density:                                  -7.883221140637642\u001b[39m\u001b[K\r\n",
      "\u001b[34m  hamiltonian_energy:                           12.261434336830948\u001b[39m\u001b[K\r\n",
      "\u001b[34m  hamiltonian_energy_error:                     -0.10168988877392415\u001b[39m\u001b[K\r\n",
      "\u001b[34m  max_hamiltonian_energy_error:                 -0.36220975447912984\u001b[39m\u001b[K\r\n",
      "\u001b[34m  tree_depth:                                   3\u001b[39m\u001b[K\r\n",
      "\u001b[34m  numerical_error:                              false\u001b[39m\u001b[K\r\n",
      "\u001b[34m  step_size:                                    0.5139431750108344\u001b[39m\u001b[K\r\n",
      "\u001b[34m  nom_step_size:                                0.5139431750108344\u001b[39m\u001b[K\r\n",
      "\u001b[34m  is_adapt:                                     false\u001b[39m\u001b[K\r\n",
      "\u001b[34m  mass_matrix:                                  DiagEuclideanMetric([0.9342838452400835, 0.8845 ...])\u001b[39m\u001b[K\n"
     ]
    },
    {
     "name": "stderr",
     "output_type": "stream",
     "text": [
      "┌ Info: Finished 8000 sampling steps for 1 chains in 0.62266691 (s)\n",
      "│   h = Hamiltonian(metric=DiagEuclideanMetric([0.9342838452400835, 0.8845 ...]), kinetic=GaussianKinetic())\n",
      "│   κ = HMCKernel{AdvancedHMC.FullMomentumRefreshment, Trajectory{MultinomialTS, Leapfrog{Float64}, GeneralisedNoUTurn{Float64}}}(AdvancedHMC.FullMomentumRefreshment(), Trajectory{MultinomialTS}(integrator=Leapfrog(ϵ=0.514), tc=GeneralisedNoUTurn{Float64}(10, 1000.0)))\n",
      "│   EBFMI_est = 0.9935941009273499\n",
      "│   average_acceptance_rate = 0.807194288588557\n",
      "└ @ AdvancedHMC /home/meenaljhajharia/.julia/packages/AdvancedHMC/P0nla/src/sampler.jl:246\n"
     ]
    }
   ],
   "source": [
    "using TransformVariables\n",
    "using TransformedLogDensities, LogDensityProblemsAD\n",
    "t = as((μ = asℝ, σ = asℝ₊, τ = asℝ₊, θs = as(Array, 8)))\n",
    "dimension(t)\n",
    "P = TransformedLogDensity(t, lp)\n",
    "∇P = ADgradient(:ForwardDiff, lp);\n",
    "\n",
    "p = StanProblem(bs_model);\n",
    "D = 10;\n",
    "initial_θ = rand(D);\n",
    "n_samples, n_adapts = 8000, 2000;\n",
    "metric = DiagEuclideanMetric(D);\n",
    "hamiltonian = Hamiltonian(metric, lp);\n",
    "initial_ϵ = find_good_stepsize(hamiltonian, initial_θ);\n",
    "integrator = Leapfrog(initial_ϵ);\n",
    "proposal = NUTS{MultinomialTS, GeneralisedNoUTurn}(integrator);\n",
    "adaptor = StanHMCAdaptor(MassMatrixAdaptor(metric), StepSizeAdaptor(0.8, integrator));\n",
    "samples, stats = sample(hamiltonian, proposal, initial_θ, n_samples, adaptor, n_adapts; progress=true);"
   ]
  },
  {
   "cell_type": "code",
   "execution_count": 181,
   "metadata": {},
   "outputs": [],
   "source": [
    "constrained_draws = hcat([vcat(col...) for col in eachcol(df)]...)\n",
    "unc_sample_array = vcat([\n",
    "    param_unconstrain(bs_model, collect(row))' for row in eachrow(constrained_draws)\n",
    "]...);"
   ]
  },
  {
   "cell_type": "code",
   "execution_count": 187,
   "metadata": {},
   "outputs": [
    {
     "data": {
      "text/plain": [
       "8000×10 adjoint(::Matrix{Float64}) with eltype Float64:\n",
       " -1.70031     -0.906714    0.734783  …  -1.05038    1.53333    0.297404\n",
       " -1.70031     -0.906714    0.734783     -1.05038    1.53333    0.297404\n",
       " -0.460517     0.755663    0.710915      0.311726   1.77159    1.43333\n",
       "  0.703879     0.0977349  -0.238458     -0.587269   2.41556    0.151544\n",
       " -0.533563     0.206773    0.213283      0.5945     1.5524     1.51525\n",
       " -0.278016     1.6936     -0.200963  …   0.987746   2.75352    1.30771\n",
       " -0.269133     2.10975    -0.404464     -0.16193    2.66466    0.0730169\n",
       "  0.920135    -1.58881     0.861389      0.15569    5.61373    1.51151\n",
       " -0.310143     1.9703     -0.776694      0.0727206  3.18435    0.991354\n",
       "  0.0399313   -1.34357    -0.219118      0.632224   0.543323   0.933771\n",
       "  ⋮                                  ⋱                        \n",
       "  0.902257     0.824063   -0.4926       -0.986713   5.28713   -1.06266\n",
       " -0.906564     1.52395     1.16922      -0.126758   4.84196    1.55081\n",
       "  0.808308    -0.0367829   0.145601      0.197096   6.75576   -0.939039\n",
       " -0.116547     0.820244   -0.622895      0.529021   7.52496   -0.651156\n",
       " -0.595424     0.253974    1.14767   …  -1.21193    5.28817   -0.93508\n",
       " -0.00614625  -0.508163   -1.39673      -0.723048   3.51156    0.484155\n",
       "  0.686808    -1.31365    -1.31792      -1.58161    6.40583    1.42362\n",
       "  0.226041    -1.13596    -2.03593       1.0934     1.72545    1.2954\n",
       "  0.220265    -0.818768   -1.08796       1.91961    2.73963    1.33818"
      ]
     },
     "metadata": {},
     "output_type": "display_data"
    }
   ],
   "source": [
    "lol = hcat(samples...)'"
   ]
  },
  {
   "cell_type": "code",
   "execution_count": 190,
   "metadata": {},
   "outputs": [
    {
     "data": {
      "text/plain": [
       "10000×10 Matrix{Float64}:\n",
       " 10.6803    9.71771     7.77507   …  13.7361     9.33885   0.584418\n",
       "  6.45384   4.41031     7.0133        3.74315    3.69197   0.767165\n",
       " -2.24163   0.761705   -4.74619      -2.25603   -1.01337   0.830766\n",
       "  2.46002   4.44563     4.31378       3.4816     2.66779   0.535441\n",
       "  5.62489   3.70945     6.11008       7.07705    4.04478   0.236075\n",
       "  7.50337  10.2793      4.94622   …  11.9474     7.19249   1.24666\n",
       "  7.816    -0.746158    6.79006       8.223      6.13427   1.51619\n",
       "  5.0193    8.18897     9.54053       7.11512    7.30456   1.29114\n",
       " 10.0454   11.8259      8.17946       3.71629    6.62392   1.35851\n",
       "  5.18654   7.70174     2.6935        4.82504    6.47553   0.764239\n",
       "  ⋮                               ⋱                       \n",
       "  2.78882   0.0901486   1.3044        2.16824    3.87727   1.13078\n",
       "  5.85363  11.1192     -3.62347       0.246698   6.69739   1.61771\n",
       "  7.38423   8.7937      4.80441       6.40357    6.40207   1.3757\n",
       "  2.12388   1.89619     1.47158       1.15097    2.93601   0.641578\n",
       "  3.57266   5.84144     0.428486  …   4.36318    8.1502    1.98059\n",
       "  1.76614   2.11113     1.15368       5.97371    3.45722   0.69799\n",
       " -4.31799  -4.45016    -5.36875      -6.35027   -4.79976  -0.288493\n",
       "  5.06357   6.87505     5.22751       5.69971    6.02178  -0.545008\n",
       " -8.05432   8.17424     4.29259       8.52019    2.27087   2.06243"
      ]
     },
     "metadata": {},
     "output_type": "display_data"
    }
   ],
   "source": [
    "unc_sample_array"
   ]
  },
  {
   "cell_type": "code",
   "execution_count": 189,
   "metadata": {},
   "outputs": [
    {
     "data": {
      "text/plain": [
       "4.387735631575855"
      ]
     },
     "metadata": {},
     "output_type": "display_data"
    }
   ],
   "source": [
    "mean(unc_sample_array)"
   ]
  },
  {
   "cell_type": "code",
   "execution_count": null,
   "metadata": {},
   "outputs": [],
   "source": []
  }
 ],
 "metadata": {
  "kernelspec": {
   "display_name": "Julia 1.8.5",
   "language": "julia",
   "name": "julia-1.8"
  },
  "language_info": {
   "file_extension": ".jl",
   "mimetype": "application/julia",
   "name": "julia",
   "version": "1.8.5"
  },
  "orig_nbformat": 4
 },
 "nbformat": 4,
 "nbformat_minor": 2
}
