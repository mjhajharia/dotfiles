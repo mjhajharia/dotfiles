{
 "cells": [
  {
   "cell_type": "code",
   "execution_count": 1,
   "metadata": {},
   "outputs": [],
   "source": [
    "using Revise, DynamicHMC, PosteriorDB, Random, StanLogDensityProblems, JSON, BridgeStan, DataFrames, LinearAlgebra, StatsBase, Distributions\n",
    "using Plots, ColorSchemes, LaTeXStrings, Statistics, CSV, AdvancedHMC, DynamicObjects\n",
    "Plots.theme(:default)\n",
    "const BS = BridgeStan;"
   ]
  },
  {
   "cell_type": "code",
   "execution_count": 2,
   "metadata": {},
   "outputs": [],
   "source": [
    "pdb = PosteriorDB.database()\n",
    "model = PosteriorDB.model(pdb, \"eight_schools_noncentered\")\n",
    "post = PosteriorDB.posterior(pdb, \"eight_schools-eight_schools_noncentered\")\n",
    "impl = PosteriorDB.implementation(model, \"stan\")\n",
    "path = PosteriorDB.path(impl)\n",
    "data = PosteriorDB.dataset(post)\n",
    "s = PosteriorDB.load(data, String);\n",
    "bs_model = BS.StanModel(stan_file=path, data=s);\n",
    "ref = PosteriorDB.reference_posterior(post)\n",
    "df=DataFrame(PosteriorDB.load(ref));"
   ]
  },
  {
   "cell_type": "code",
   "execution_count": 3,
   "metadata": {},
   "outputs": [
    {
     "name": "stderr",
     "output_type": "stream",
     "text": [
      "\r\u001b[32mSampling   0%|                               |  ETA: 1:34:09\u001b[39m\u001b[K\r"
     ]
    },
    {
     "name": "stderr",
     "output_type": "stream",
     "text": [
      "\n",
      "\u001b[34m  iterations:                                   2\u001b[39m\u001b[K\r\n",
      "\u001b[34m  ratio_divergent_transitions:                  0.0\u001b[39m\u001b[K\r\n",
      "\u001b[34m  ratio_divergent_transitions_during_adaption:  1.0\u001b[39m\u001b[K\r\n",
      "\u001b[34m  n_steps:                                      1\u001b[39m\u001b[K\r\n",
      "\u001b[34m  is_accept:                                    true\u001b[39m\u001b[K\r\n",
      "\u001b[34m  acceptance_rate:                              0.0\u001b[39m\u001b[K\r\n",
      "\u001b[34m  log_density:                                  -9.227705930660324\u001b[39m\u001b[K\r\n",
      "\u001b[34m  hamiltonian_energy:                           15.107447958529185\u001b[39m\u001b[K\r\n",
      "\u001b[34m  hamiltonian_energy_error:                     0.0\u001b[39m\u001b[K\r\n",
      "\u001b[34m  max_hamiltonian_energy_error:                 6.730136001714255e34\u001b[39m\u001b[K\r\n",
      "\u001b[34m  tree_depth:                                   0\u001b[39m\u001b[K\r\n",
      "\u001b[34m  numerical_error:                              true\u001b[39m\u001b[K\r\n",
      "\u001b[34m  step_size:                                    5.68859433050041\u001b[39m\u001b[K\r\n",
      "\u001b[34m  nom_step_size:                                5.68859433050041\u001b[39m\u001b[K\r\n",
      "\u001b[34m  is_adapt:                                     true\u001b[39m\u001b[K"
     ]
    },
    {
     "name": "stderr",
     "output_type": "stream",
     "text": [
      "\r\n",
      "\u001b[34m  mass_matrix:                                  DiagEuclideanMetric([1.0, 1.0, 1.0, 1.0, 1.0, 1 ...])\u001b[39m\u001b[K\r\u001b[A\r\u001b[A\r\u001b[A\r\u001b[A\r\u001b[A\r\u001b[A\r\u001b[A\r\u001b[A\r\u001b[A\r\u001b[A\r\u001b[A\r\u001b[A\r\u001b[A\r\u001b[A\r\u001b[A\r\u001b[A\r\u001b[A"
     ]
    },
    {
     "name": "stderr",
     "output_type": "stream",
     "text": [
      "\n",
      "\n",
      "\n",
      "\n",
      "\n",
      "\n",
      "\n",
      "\n",
      "\n",
      "\n",
      "\n",
      "\n",
      "\n",
      "\n",
      "\n",
      "\n",
      "\n",
      "\r\u001b[K\u001b[A\r\u001b[K\u001b[A\r\u001b[K\u001b[A\r\u001b[K\u001b[A\r\u001b[K\u001b[A\r\u001b[K\u001b[A\r\u001b[K\u001b[A\r\u001b[K\u001b[A\r\u001b[K\u001b[A\r\u001b[K\u001b[A\r\u001b[K\u001b[A\r\u001b[K\u001b[A\r\u001b[K\u001b[A\r\u001b[K\u001b[A\r\u001b[K\u001b[A\r\u001b[K\u001b[A\r\u001b[K\u001b[A\r\u001b[32mSampling 100%|███████████████████████████████| Time: 0:00:02\u001b[39m\u001b[K\r\n",
      "\u001b[34m  iterations:                                   8000\u001b[39m\u001b[K\r\n",
      "\u001b[34m  ratio_divergent_transitions:                  0.0\u001b[39m\u001b[K\r\n",
      "\u001b[34m  ratio_divergent_transitions_during_adaption:  0.0\u001b[39m\u001b[K\r\n",
      "\u001b[34m  n_steps:                                      7\u001b[39m\u001b[K\r\n",
      "\u001b[34m  is_accept:                                    true\u001b[39m\u001b[K\r\n",
      "\u001b[34m  acceptance_rate:                              0.9415382751735039\u001b[39m\u001b[K\r\n",
      "\u001b[34m  log_density:                                  -5.977827095568661\u001b[39m\u001b[K\r\n",
      "\u001b[34m  hamiltonian_energy:                           9.411462823091718\u001b[39m\u001b[K\r\n",
      "\u001b[34m  hamiltonian_energy_error:                     -0.3424740352037823\u001b[39m\u001b[K\r\n",
      "\u001b[34m  max_hamiltonian_energy_error:                 0.5087490101835357\u001b[39m\u001b[K\r\n",
      "\u001b[34m  tree_depth:                                   3\u001b[39m\u001b[K\r\n",
      "\u001b[34m  numerical_error:                              false\u001b[39m\u001b[K\r\n",
      "\u001b[34m  step_size:                                    0.3181089727915711\u001b[39m\u001b[K\r\n",
      "\u001b[34m  nom_step_size:                                0.3181089727915711\u001b[39m\u001b[K\r\n",
      "\u001b[34m  is_adapt:                                     false\u001b[39m\u001b[K\r\n",
      "\u001b[34m  mass_matrix:                                  DiagEuclideanMetric([0.975567014283514, 0.94245 ...])\u001b[39m\u001b[K\n"
     ]
    },
    {
     "name": "stderr",
     "output_type": "stream",
     "text": [
      "┌ Info: Finished 8000 sampling steps for 1 chains in 2.588498867 (s)\n",
      "│   h = Hamiltonian(metric=DiagEuclideanMetric([0.975567014283514, 0.94245 ...]), kinetic=GaussianKinetic())\n",
      "│   κ = HMCKernel{AdvancedHMC.FullMomentumRefreshment, Trajectory{MultinomialTS, Leapfrog{Float64}, GeneralisedNoUTurn{Float64}}}(AdvancedHMC.FullMomentumRefreshment(), Trajectory{MultinomialTS}(integrator=Leapfrog(ϵ=0.318), tc=GeneralisedNoUTurn{Float64}(10, 1000.0)))\n",
      "│   EBFMI_est = 0.9806533252838789\n",
      "│   average_acceptance_rate = 0.9473468049872089\n",
      "└ @ AdvancedHMC /home/meenaljhajharia/.julia/packages/AdvancedHMC/P0nla/src/sampler.jl:246\n"
     ]
    }
   ],
   "source": [
    "using TransformVariables\n",
    "using TransformedLogDensities, LogDensityProblemsAD\n",
    "t = as((μ = asℝ, σ = asℝ₊, τ = asℝ₊, θs = as(Array, 8)))\n",
    "dimension(t)\n",
    "lp = StanProblem(bs_model);\n",
    "P = TransformedLogDensity(t, lp)\n",
    "∇P = ADgradient(:ForwardDiff, lp);\n",
    "\n",
    "D = 10;\n",
    "initial_θ = rand(Uniform(-2, 2), D);\n",
    "n_samples, n_adapts = 8000, 2000;\n",
    "metric = DiagEuclideanMetric(D);\n",
    "hamiltonian = Hamiltonian(metric, lp);\n",
    "initial_ϵ = find_good_stepsize(hamiltonian, initial_θ);\n",
    "integrator = Leapfrog(initial_ϵ);\n",
    "proposal = NUTS{MultinomialTS, GeneralisedNoUTurn}(integrator);\n",
    "adaptor = StanHMCAdaptor(MassMatrixAdaptor(metric), StepSizeAdaptor(0.95, integrator));\n",
    "samples, stats = sample(hamiltonian, proposal, initial_θ, n_samples, adaptor, n_adapts; progress=true);"
   ]
  },
  {
   "cell_type": "code",
   "execution_count": 4,
   "metadata": {},
   "outputs": [],
   "source": [
    "constrained_draws = hcat([vcat(col...) for col in eachcol(df)]...)\n",
    "unc_sample_array = vcat([\n",
    "    param_unconstrain(bs_model, collect(row))' for row in eachrow(constrained_draws)\n",
    "]...);"
   ]
  },
  {
   "cell_type": "code",
   "execution_count": 5,
   "metadata": {},
   "outputs": [],
   "source": [
    "lol = hcat(samples...)'\n",
    "conhmc = vcat([\n",
    "    param_constrain(bs_model, collect(row))' for row in eachrow(lol)\n",
    "]...);"
   ]
  },
  {
   "cell_type": "code",
   "execution_count": 6,
   "metadata": {},
   "outputs": [
    {
     "data": {
      "text/plain": [
       "1×10 Matrix{Float64}:\n",
       " 6.1505  4.93958  3.90591  4.79602  …  6.31717  4.884  4.41052  0.808081"
      ]
     },
     "metadata": {},
     "output_type": "display_data"
    }
   ],
   "source": [
    "mean(unc_sample_array, dims=1)"
   ]
  },
  {
   "cell_type": "code",
   "execution_count": 7,
   "metadata": {},
   "outputs": [
    {
     "data": {
      "text/plain": [
       "1×10 Matrix{Float64}:\n",
       " 0.323213  0.0841342  -0.0971426  0.0596639  …  0.0918739  4.4095  3.59251"
      ]
     },
     "metadata": {},
     "output_type": "display_data"
    }
   ],
   "source": [
    "mean(conhmc, dims=1)"
   ]
  },
  {
   "cell_type": "code",
   "execution_count": null,
   "metadata": {},
   "outputs": [],
   "source": []
  }
 ],
 "metadata": {
  "kernelspec": {
   "display_name": "Julia 1.8.5",
   "language": "julia",
   "name": "julia-1.8"
  },
  "language_info": {
   "file_extension": ".jl",
   "mimetype": "application/julia",
   "name": "julia",
   "version": "1.8.5"
  },
  "orig_nbformat": 4
 },
 "nbformat": 4,
 "nbformat_minor": 2
}
