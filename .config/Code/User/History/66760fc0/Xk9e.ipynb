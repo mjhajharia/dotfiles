{
 "cells": [
  {
   "cell_type": "code",
   "execution_count": 1,
   "metadata": {},
   "outputs": [],
   "source": [
    "using Revise, DynamicHMC, PosteriorDB, Random, StanLogDensityProblems, JSON, BridgeStan, DataFrames, LinearAlgebra, StatsBase, Distributions\n",
    "using Plots, ColorSchemes, LaTeXStrings, Statistics, CSV, AdvancedHMC, DynamicObjects\n",
    "Plots.theme(:default)\n",
    "const BS = BridgeStan;"
   ]
  },
  {
   "cell_type": "code",
   "execution_count": 88,
   "metadata": {},
   "outputs": [],
   "source": [
    "pdb = PosteriorDB.database()\n",
    "model = PosteriorDB.model(pdb, \"eight_schools_noncentered\")\n",
    "post = PosteriorDB.posterior(pdb, \"eight_schools-eight_schools_noncentered\")\n",
    "impl = PosteriorDB.implementation(model, \"stan\")\n",
    "path = PosteriorDB.path(impl)\n",
    "data = PosteriorDB.dataset(post)\n",
    "s = PosteriorDB.load(data, String);\n",
    "bs_model = BS.StanModel(stan_file=path, data=s);\n",
    "ref = PosteriorDB.reference_posterior(post)\n",
    "df=DataFrame(PosteriorDB.load(ref));"
   ]
  },
  {
   "cell_type": "code",
   "execution_count": 119,
   "metadata": {},
   "outputs": [
    {
     "name": "stderr",
     "output_type": "stream",
     "text": [
      "\r\u001b[32mSampling  11%|███▌                           |  ETA: 0:00:01\u001b[39m\u001b[K\r\n",
      "\u001b[34m  iterations:                                   895\u001b[39m\u001b[K\r\n",
      "\u001b[34m  ratio_divergent_transitions:                  0.0\u001b[39m\u001b[K\r\n",
      "\u001b[34m  ratio_divergent_transitions_during_adaption:  0.02\u001b[39m\u001b[K\r\n",
      "\u001b[34m  n_steps:                                      31\u001b[39m\u001b[K\r\n",
      "\u001b[34m  is_accept:                                    true\u001b[39m\u001b[K\r\n",
      "\u001b[34m  acceptance_rate:                              0.9763927659190847\u001b[39m\u001b[K\r\n",
      "\u001b[34m  log_density:                                  -7.914204277695983\u001b[39m\u001b[K\r\n",
      "\u001b[34m  hamiltonian_energy:                           16.06550245844311\u001b[39m\u001b[K\r\n",
      "\u001b[34m  hamiltonian_energy_error:                     0.017868046272976557\u001b[39m\u001b[K\r\n",
      "\u001b[34m  max_hamiltonian_energy_error:                 0.09941313307730226\u001b[39m\u001b[K\r\n",
      "\u001b[34m  tree_depth:                                   5\u001b[39m\u001b[K\r\n",
      "\u001b[34m  numerical_error:                              false\u001b[39m\u001b[K\r\n",
      "\u001b[34m  step_size:                                    0.14914249053326567\u001b[39m\u001b[K\r\n",
      "\u001b[34m  nom_step_size:                                0.14914249053326567\u001b[39m\u001b[K\r\n",
      "\u001b[34m  is_adapt:                                     true\u001b[39m\u001b[K\r\n",
      "\u001b[34m  mass_matrix:                                  DiagEuclideanMetric([1.022902442655423, 0.92534 ...])\u001b[39m\u001b[K\r\u001b[A\r\u001b[A\r\u001b[A\r\u001b[A\r\u001b[A\r\u001b[A\r\u001b[A\r\u001b[A\r\u001b[A\r\u001b[A\r\u001b[A\r\u001b[A\r\u001b[A\r\u001b[A\r\u001b[A\r\u001b[A\r\u001b[A"
     ]
    },
    {
     "name": "stderr",
     "output_type": "stream",
     "text": [
      "\n",
      "\n",
      "\n",
      "\n",
      "\n",
      "\n",
      "\n",
      "\n",
      "\n",
      "\n",
      "\n",
      "\n",
      "\n",
      "\n",
      "\n",
      "\n",
      "\n",
      "\r\u001b[K\u001b[A\r\u001b[K\u001b[A\r\u001b[K\u001b[A\r\u001b[K\u001b[A\r\u001b[K\u001b[A\r\u001b[K\u001b[A\r\u001b[K\u001b[A\r\u001b[K\u001b[A\r\u001b[K\u001b[A\r\u001b[K\u001b[A\r\u001b[K\u001b[A\r\u001b[K\u001b[A\r\u001b[K\u001b[A\r\u001b[K\u001b[A\r\u001b[K\u001b[A\r\u001b[K\u001b[A\r\u001b[K\u001b[A\r\u001b[32mSampling  40%|████████████▎                  |  ETA: 0:00:00\u001b[39m\u001b[K\r\n",
      "\u001b[34m  iterations:                                   3161\u001b[39m\u001b[K\r\n",
      "\u001b[34m  ratio_divergent_transitions:                  0.0\u001b[39m\u001b[K\r\n",
      "\u001b[34m  ratio_divergent_transitions_during_adaption:  0.01\u001b[39m\u001b[K\r\n",
      "\u001b[34m  n_steps:                                      15\u001b[39m\u001b[K\r\n",
      "\u001b[34m  is_accept:                                    true\u001b[39m\u001b[K\r\n",
      "\u001b[34m  acceptance_rate:                              0.9064916300019851\u001b[39m\u001b[K\r\n",
      "\u001b[34m  log_density:                                  -5.680410764834427\u001b[39m\u001b[K\r\n",
      "\u001b[34m  hamiltonian_energy:                           12.127811642625804\u001b[39m\u001b[K\r\n",
      "\u001b[34m  hamiltonian_energy_error:                     -0.06584808204247139\u001b[39m\u001b[K\r\n",
      "\u001b[34m  max_hamiltonian_energy_error:                 0.18131248311070536\u001b[39m\u001b[K\r\n",
      "\u001b[34m  tree_depth:                                   3\u001b[39m\u001b[K\r\n",
      "\u001b[34m  numerical_error:                              false\u001b[39m\u001b[K\r\n",
      "\u001b[34m  step_size:                                    0.4043801560093249\u001b[39m\u001b[K\r\n",
      "\u001b[34m  nom_step_size:                                0.4043801560093249\u001b[39m\u001b[K\r\n",
      "\u001b[34m  is_adapt:                                     false\u001b[39m\u001b[K\r\n",
      "\u001b[34m  mass_matrix:                                  DiagEuclideanMetric([0.9964929543071683, 0.8576 ...])\u001b[39m\u001b[K\r\u001b[A\r\u001b[A\r\u001b[A\r\u001b[A\r\u001b[A\r\u001b[A\r\u001b[A\r\u001b[A\r\u001b[A\r\u001b[A\r\u001b[A\r\u001b[A\r\u001b[A\r\u001b[A\r\u001b[A\r\u001b[A\r\u001b[A"
     ]
    },
    {
     "name": "stderr",
     "output_type": "stream",
     "text": [
      "\n",
      "\n",
      "\n",
      "\n",
      "\n",
      "\n",
      "\n",
      "\n",
      "\n",
      "\n",
      "\n",
      "\n",
      "\n",
      "\n",
      "\n",
      "\n",
      "\n",
      "\r\u001b[K\u001b[A\r\u001b[K\u001b[A\r\u001b[K\u001b[A\r\u001b[K\u001b[A\r\u001b[K\u001b[A\r\u001b[K\u001b[A\r\u001b[K\u001b[A\r\u001b[K\u001b[A\r\u001b[K\u001b[A\r\u001b[K\u001b[A\r\u001b[K\u001b[A\r\u001b[K\u001b[A\r\u001b[K\u001b[A\r\u001b[K\u001b[A\r\u001b[K\u001b[A\r\u001b[K\u001b[A\r\u001b[K\u001b[A\r\u001b[32mSampling  67%|████████████████████▊          |  ETA: 0:00:00\u001b[39m\u001b[K\r\n",
      "\u001b[34m  iterations:                                   5354\u001b[39m\u001b[K\r\n",
      "\u001b[34m  ratio_divergent_transitions:                  0.0\u001b[39m\u001b[K\r\n",
      "\u001b[34m  ratio_divergent_transitions_during_adaption:  0.01\u001b[39m\u001b[K\r\n",
      "\u001b[34m  n_steps:                                      7\u001b[39m\u001b[K\r\n",
      "\u001b[34m  is_accept:                                    true\u001b[39m\u001b[K\r\n",
      "\u001b[34m  acceptance_rate:                              1.0\u001b[39m\u001b[K\r\n",
      "\u001b[34m  log_density:                                  -3.125199584845127\u001b[39m\u001b[K\r\n",
      "\u001b[34m  hamiltonian_energy:                           7.977536678133459\u001b[39m\u001b[K\r\n",
      "\u001b[34m  hamiltonian_energy_error:                     -0.13366825911156255\u001b[39m\u001b[K\r\n",
      "\u001b[34m  max_hamiltonian_energy_error:                 -0.13366825911156255\u001b[39m\u001b[K\r\n",
      "\u001b[34m  tree_depth:                                   3\u001b[39m\u001b[K\r\n",
      "\u001b[34m  numerical_error:                              false\u001b[39m\u001b[K\r\n",
      "\u001b[34m  step_size:                                    0.4043801560093249\u001b[39m\u001b[K\r\n",
      "\u001b[34m  nom_step_size:                                0.4043801560093249\u001b[39m\u001b[K\r\n",
      "\u001b[34m  is_adapt:                                     false\u001b[39m\u001b[K\r\n",
      "\u001b[34m  mass_matrix:                                  DiagEuclideanMetric([0.9964929543071683, 0.8576 ...])\u001b[39m\u001b[K\r\u001b[A\r\u001b[A\r\u001b[A\r\u001b[A\r\u001b[A\r\u001b[A\r\u001b[A\r\u001b[A\r\u001b[A\r\u001b[A\r\u001b[A\r\u001b[A\r\u001b[A\r\u001b[A\r\u001b[A\r\u001b[A\r\u001b[A"
     ]
    },
    {
     "name": "stderr",
     "output_type": "stream",
     "text": [
      "\n",
      "\n",
      "\n",
      "\n",
      "\n",
      "\n",
      "\n",
      "\n",
      "\n",
      "\n",
      "\n",
      "\n",
      "\n",
      "\n",
      "\n",
      "\n",
      "\n",
      "\r\u001b[K\u001b[A\r\u001b[K\u001b[A\r\u001b[K\u001b[A\r\u001b[K\u001b[A\r\u001b[K\u001b[A\r\u001b[K\u001b[A\r\u001b[K\u001b[A\r\u001b[K\u001b[A\r\u001b[K\u001b[A\r\u001b[K\u001b[A\r\u001b[K\u001b[A\r\u001b[K\u001b[A\r\u001b[K\u001b[A\r\u001b[K\u001b[A\r\u001b[K\u001b[A\r\u001b[K\u001b[A\r\u001b[K\u001b[A\r\u001b[32mSampling  87%|███████████████████████████▏   |  ETA: 0:00:00\u001b[39m\u001b[K\r\n",
      "\u001b[34m  iterations:                                   6994\u001b[39m\u001b[K\r\n",
      "\u001b[34m  ratio_divergent_transitions:                  0.0\u001b[39m\u001b[K\r\n",
      "\u001b[34m  ratio_divergent_transitions_during_adaption:  0.0\u001b[39m\u001b[K\r\n",
      "\u001b[34m  n_steps:                                      7\u001b[39m\u001b[K\r\n",
      "\u001b[34m  is_accept:                                    true\u001b[39m\u001b[K\r\n",
      "\u001b[34m  acceptance_rate:                              0.9772925684495671\u001b[39m\u001b[K\r\n",
      "\u001b[34m  log_density:                                  -5.848456318382831\u001b[39m\u001b[K\r\n",
      "\u001b[34m  hamiltonian_energy:                           8.064871339961133\u001b[39m\u001b[K\r\n",
      "\u001b[34m  hamiltonian_energy_error:                     0.04319032639595477\u001b[39m\u001b[K\r\n",
      "\u001b[34m  max_hamiltonian_energy_error:                 -0.07950543492963558\u001b[39m\u001b[K\r\n",
      "\u001b[34m  tree_depth:                                   3\u001b[39m\u001b[K\r\n",
      "\u001b[34m  numerical_error:                              false\u001b[39m\u001b[K\r\n",
      "\u001b[34m  step_size:                                    0.4043801560093249\u001b[39m\u001b[K\r\n",
      "\u001b[34m  nom_step_size:                                0.4043801560093249\u001b[39m\u001b[K\r\n",
      "\u001b[34m  is_adapt:                                     false\u001b[39m\u001b[K\r\n",
      "\u001b[34m  mass_matrix:                                  DiagEuclideanMetric([0.9964929543071683, 0.8576 ...])\u001b[39m\u001b[K\r\u001b[A\r\u001b[A\r\u001b[A\r\u001b[A\r\u001b[A\r\u001b[A\r\u001b[A\r\u001b[A\r\u001b[A\r\u001b[A\r\u001b[A\r\u001b[A\r\u001b[A\r\u001b[A\r\u001b[A\r\u001b[A\r\u001b[A"
     ]
    },
    {
     "name": "stderr",
     "output_type": "stream",
     "text": [
      "\n",
      "\n",
      "\n",
      "\n",
      "\n",
      "\n",
      "\n",
      "\n",
      "\n",
      "\n",
      "\n",
      "\n",
      "\n",
      "\n",
      "\n",
      "\n",
      "\n",
      "\r\u001b[K\u001b[A\r\u001b[K\u001b[A\r\u001b[K\u001b[A\r\u001b[K\u001b[A\r\u001b[K\u001b[A\r\u001b[K\u001b[A\r\u001b[K\u001b[A\r\u001b[K\u001b[A\r\u001b[K\u001b[A\r\u001b[K\u001b[A\r\u001b[K\u001b[A\r\u001b[K\u001b[A\r\u001b[K\u001b[A\r\u001b[K\u001b[A\r\u001b[K\u001b[A\r\u001b[K\u001b[A\r\u001b[K\u001b[A\r\u001b[32mSampling 100%|███████████████████████████████| Time: 0:00:00\u001b[39m\u001b[K\r\n",
      "\u001b[34m  iterations:                                   8000\u001b[39m\u001b[K\r\n",
      "\u001b[34m  ratio_divergent_transitions:                  0.0\u001b[39m\u001b[K\r\n",
      "\u001b[34m  ratio_divergent_transitions_during_adaption:  0.0\u001b[39m\u001b[K\r\n",
      "\u001b[34m  n_steps:                                      15\u001b[39m\u001b[K\r\n",
      "\u001b[34m  is_accept:                                    true\u001b[39m\u001b[K\r\n",
      "\u001b[34m  acceptance_rate:                              0.4052342918202954\u001b[39m\u001b[K\r\n",
      "\u001b[34m  log_density:                                  -8.868373854993063\u001b[39m\u001b[K\r\n",
      "\u001b[34m  hamiltonian_energy:                           19.97580352442992\u001b[39m\u001b[K\r\n",
      "\u001b[34m  hamiltonian_energy_error:                     -0.15188092584388002\u001b[39m\u001b[K\r\n",
      "\u001b[34m  max_hamiltonian_energy_error:                 6.784952120901632\u001b[39m\u001b[K\r\n",
      "\u001b[34m  tree_depth:                                   4\u001b[39m\u001b[K\r\n",
      "\u001b[34m  numerical_error:                              false\u001b[39m\u001b[K\r\n",
      "\u001b[34m  step_size:                                    0.4043801560093249\u001b[39m\u001b[K\r\n",
      "\u001b[34m  nom_step_size:                                0.4043801560093249\u001b[39m\u001b[K\r\n",
      "\u001b[34m  is_adapt:                                     false\u001b[39m\u001b[K\r\n",
      "\u001b[34m  mass_matrix:                                  DiagEuclideanMetric([0.9964929543071683, 0.8576 ...])\u001b[39m\u001b[K\n"
     ]
    },
    {
     "name": "stderr",
     "output_type": "stream",
     "text": [
      "┌ Info: Finished 8000 sampling steps for 1 chains in 0.497411802 (s)\n",
      "│   h = Hamiltonian(metric=DiagEuclideanMetric([0.9964929543071683, 0.8576 ...]), kinetic=GaussianKinetic())\n",
      "│   κ = HMCKernel{AdvancedHMC.FullMomentumRefreshment, Trajectory{MultinomialTS, Leapfrog{Float64}, GeneralisedNoUTurn{Float64}}}(AdvancedHMC.FullMomentumRefreshment(), Trajectory{MultinomialTS}(integrator=Leapfrog(ϵ=0.404), tc=GeneralisedNoUTurn{Float64}(10, 1000.0)))\n",
      "│   EBFMI_est = 0.9772347795922866\n",
      "│   average_acceptance_rate = 0.8720347766900625\n",
      "└ @ AdvancedHMC /home/meenaljhajharia/.julia/packages/AdvancedHMC/P0nla/src/sampler.jl:246\n"
     ]
    }
   ],
   "source": [
    "lp = StanProblem(bs_model);\n",
    "D = 10;\n",
    "initial_θ = rand(D);\n",
    "n_samples, n_adapts = 8000, 2000;\n",
    "metric = DiagEuclideanMetric(D);\n",
    "hamiltonian = Hamiltonian(metric, lp);\n",
    "initial_ϵ = find_good_stepsize(hamiltonian, initial_θ);\n",
    "integrator = Leapfrog(initial_ϵ);\n",
    "proposal = NUTS{MultinomialTS, GeneralisedNoUTurn}(integrator);\n",
    "adaptor = StanHMCAdaptor(MassMatrixAdaptor(metric), StepSizeAdaptor(0.8, integrator));\n",
    "samples, stats = sample(hamiltonian, proposal, initial_θ, n_samples, adaptor, n_adapts; progress=true);"
   ]
  },
  {
   "cell_type": "code",
   "execution_count": 130,
   "metadata": {},
   "outputs": [],
   "source": [
    "constrained_draws = hcat([vcat(col...) for col in eachcol(df)]...)\n",
    "unc_sample_array = vcat([\n",
    "        param_unconstrain(bs_model, collect(row))' for row in eachrow(constrained_draws)\n",
    "    ]...);"
   ]
  },
  {
   "cell_type": "code",
   "execution_count": 138,
   "metadata": {},
   "outputs": [
    {
     "data": {
      "text/plain": [
       "10×10 Matrix{Vector{Float64}}:\n",
       " [10.6803, 6.45384, -2.24163, 2.46002, 5.62489, 7.50337, 7.816, 5.0193, 10.0454, 5.18654  …  10.8543, 6.86692, 0.799568, -6.00134, 3.91919, -0.457418, 14.0131, 10.4364, 7.83739, 2.67678]     …  [1.79395, 2.15365, 2.29508, 1.7082, 1.26627, 3.47871, 4.55486, 3.63693, 3.89038, 2.14736  …  4.47046, 0.556734, 1.05657, 4.23989, 0.541977, 0.945349, 1.70818, 5.26015, 3.93348, 2.46918]\n",
       " [5.70891, 10.3012, 4.24395, 11.0558, 9.81823, 8.31951, 5.38645, -4.35662, 9.83227, 7.12432  …  1.1718, 30.5928, 3.70927, 17.1807, -0.683814, 7.71773, 6.83029, 6.84319, 0.695842, 5.16589]       [7.63743, 2.74969, 3.66891, 6.35205, 0.518689, 1.80755, 2.94469, 2.34063, 6.40109, 2.40884  …  4.18128, 9.56908, 3.25226, 6.30062, 5.69385, 8.24627, 2.56901, 2.37046, 2.33592, 4.10594]\n",
       " [7.23747, -0.427832, 9.14782, 18.4352, 5.82655, 3.75256, 1.46422, 5.88634, 4.10779, -4.63588  …  0.863871, -4.51189, 1.40825, 7.37517, 10.208, 9.42749, 4.25254, 4.46672, 4.02189, 2.54327]      [0.632481, 6.08588, 1.89192, 8.08915, 0.00645526, 1.26058, 1.06799, 0.22168, 2.05553, 5.94586  …  3.71036, 14.7824, 2.89587, 6.78928, 11.1007, 1.78409, 6.78695, 4.53045, 13.1695, 4.27312]\n",
       " [4.44916, 2.34711, 17.6804, 0.409279, 4.10334, 7.70297, 10.589, 9.98081, 8.27996, 15.6011  …  2.64191, 2.57922, 3.15792, 1.19282, 5.82491, 1.56805, 12.9888, 9.10916, 12.3845, 9.12401]          [4.57241, 4.43668, 4.3818, 3.20624, 4.24909, 2.18965, 1.24515, 1.85406, 2.02733, 8.22475  …  4.96258, 2.51308, 2.97678, 3.08593, 0.0527567, 2.25504, 5.51482, 4.51199, 2.60402, 2.8502]\n",
       " [5.60707, 3.21463, 7.56894, 9.26702, 9.06109, 3.79678, 0.312368, 2.83389, 11.0675, 4.95245  …  8.99398, -5.05359, 1.93068, 15.8806, 19.9891, 6.79772, 5.59533, 10.715, 17.06, 3.16344]           [4.44508, 0.471372, 6.4062, 1.73248, 4.80713, 8.12122, 0.617564, 0.508383, 1.6554, 2.3439  …  4.14627, 9.28293, 9.90829, 15.6305, 5.95424, 3.9282, 2.16682, 7.35172, 4.10699, 1.53861]\n",
       " [-1.75423, 9.82372, 5.38233, 14.8346, 1.06907, 17.3262, 4.45273, -1.1449, 2.93157, 5.00646  …  8.54521, 1.12186, 19.0941, 7.9983, 12.6316, 2.57023, 6.71761, 5.90625, 2.10206, 12.0436]       …  [2.01252, 0.913913, 1.77058, 6.88419, 1.35886, 7.91294, 1.92494, 4.4504, 2.70619, 3.00943  …  0.154144, 5.60051, 9.40764, 0.858958, 3.46605, 3.90447, 1.04534, 1.74773, 1.9681, 2.99068]\n",
       " [15.7747, 1.04266, 6.83041, 9.07779, 4.92282, -3.22858, 7.10728, 5.61347, 6.36628, 10.2351  …  2.89667, 4.5064, 9.57605, 5.97131, 2.48356, 2.65941, 3.22142, -0.134388, 10.2218, 1.04739]        [4.61368, 4.27341, 1.8199, 0.974064, 6.04836, 4.89305, 1.02217, 2.42227, 7.18208, 7.98731  …  2.70876, 0.586938, 5.0059, 1.95739, 1.52628, 7.36362, 2.38064, 6.61072, 0.936006, 8.52984]\n",
       " [2.27576, 4.01067, 5.04264, 2.46658, 4.14672, 1.59585, 5.26775, 20.5551, 2.97449, 2.74084  …  6.18431, 8.95329, 12.7469, 12.7469, -0.386927, -7.46625, 4.93989, 1.33366, 7.10104, 6.83321]       [3.16983, 4.24302, 0.0641317, 0.797407, 1.49568, 7.59306, 0.096759, 9.17251, 1.64406, 1.73062  …  1.61352, 3.74805, 4.20875, 2.75984, 1.19327, 5.93506, 1.85282, 4.11489, 0.00829346, 0.02424]\n",
       " [14.0308, 6.02058, 12.2585, 6.36623, 8.76938, 2.36821, 24.0409, 5.48312, 7.17601, 6.85892  …  3.67821, 4.57154, 6.05022, -1.03308, 2.61283, 9.83609, -0.909547, -3.16807, 17.4719, 9.51646]      [2.60459, 1.30387, 7.20344, 5.27286, 0.668996, 1.98209, 8.88426, 4.3213, 9.96551, 0.756835  …  0.510759, 1.67008, 4.01318, 0.210225, 7.58206, 10.7685, 4.63787, 0.300427, 5.54893, 2.46474]\n",
       " [3.69286, 7.65907, 0.358297, 1.16108, 5.52923, 4.44227, -0.138049, 0.115835, 9.87133, 10.717  …  3.46694, 2.78882, 5.85363, 7.38423, 2.12388, 3.57266, 1.76614, -4.31799, 5.06357, -8.05432]     [8.39797, 0.786562, 5.41543, 4.8939, 1.57042, 2.04931, 2.85994, 3.72412, 0.434901, 0.76602  …  1.62034, 3.09807, 5.04154, 3.95785, 1.89948, 7.24701, 2.00971, 0.749392, 0.579837, 7.86505]"
      ]
     },
     "metadata": {},
     "output_type": "display_data"
    }
   ],
   "source": [
    "hcat(eachcol(df)...)"
   ]
  },
  {
   "cell_type": "code",
   "execution_count": 134,
   "metadata": {},
   "outputs": [
    {
     "data": {
      "text/plain": [
       "10-element Vector{Float64}:\n",
       "  0.3173551467310577\n",
       "  0.08433652958871951\n",
       " -0.0886958945091761\n",
       "  0.06037996882064286\n",
       " -0.17066047954097616\n",
       " -0.06670302452397554\n",
       "  0.37302740430830394\n",
       "  0.059786873877665854\n",
       "  4.384754324471194\n",
       "  0.806020045873587"
      ]
     },
     "metadata": {},
     "output_type": "display_data"
    }
   ],
   "source": [
    "mean(samples)"
   ]
  },
  {
   "cell_type": "code",
   "execution_count": null,
   "metadata": {},
   "outputs": [],
   "source": []
  }
 ],
 "metadata": {
  "kernelspec": {
   "display_name": "Julia 1.8.5",
   "language": "julia",
   "name": "julia-1.8"
  },
  "language_info": {
   "file_extension": ".jl",
   "mimetype": "application/julia",
   "name": "julia",
   "version": "1.8.5"
  },
  "orig_nbformat": 4
 },
 "nbformat": 4,
 "nbformat_minor": 2
}
