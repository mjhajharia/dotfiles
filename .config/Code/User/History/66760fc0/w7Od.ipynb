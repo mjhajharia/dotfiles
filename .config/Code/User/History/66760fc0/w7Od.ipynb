{
 "cells": [
  {
   "cell_type": "code",
   "execution_count": 1,
   "metadata": {},
   "outputs": [],
   "source": [
    "using Revise, DynamicHMC, PosteriorDB, Random, StanLogDensityProblems, JSON, BridgeStan, DataFrames, LinearAlgebra, StatsBase, Distributions\n",
    "using Plots, ColorSchemes, LaTeXStrings, Statistics, CSV, AdvancedHMC, DynamicObjects\n",
    "Plots.theme(:default)\n",
    "const BS = BridgeStan;"
   ]
  },
  {
   "cell_type": "code",
   "execution_count": 2,
   "metadata": {},
   "outputs": [],
   "source": [
    "pdb = PosteriorDB.database()\n",
    "model = PosteriorDB.model(pdb, \"eight_schools_noncentered\")\n",
    "post = PosteriorDB.posterior(pdb, \"eight_schools-eight_schools_noncentered\")\n",
    "impl = PosteriorDB.implementation(model, \"stan\")\n",
    "path = PosteriorDB.path(impl)\n",
    "data = PosteriorDB.dataset(post)\n",
    "s = PosteriorDB.load(data, String);\n",
    "bs_model = BS.StanModel(stan_file=path, data=s);\n",
    "ref = PosteriorDB.reference_posterior(post)\n",
    "df=DataFrame(PosteriorDB.load(ref));"
   ]
  },
  {
   "cell_type": "code",
   "execution_count": 9,
   "metadata": {},
   "outputs": [
    {
     "ename": "AssertionError",
     "evalue": "AssertionError: chunk size cannot be greater than length(x) (11 > 10)",
     "output_type": "error",
     "traceback": [
      "AssertionError: chunk size cannot be greater than length(x) (11 > 10)\n",
      "\n",
      "Stacktrace:\n",
      "  [1] chunk_mode_gradient!(result::DiffResults.MutableDiffResult{1, Float64, Tuple{Vector{Float64}}}, f::Base.Fix1{typeof(LogDensityProblems.logdensity), TransformedLogDensity{TransformVariables.TransformTuple{NamedTuple{(:μ, :σ, :τ, :θs), Tuple{TransformVariables.Identity, TransformVariables.ShiftedExp{true, Int64}, TransformVariables.ShiftedExp{true, Int64}, TransformVariables.ArrayTransformation{TransformVariables.Identity, 1}}}}, StanProblem{StanModel, false}}}, x::Vector{Float64}, cfg::ForwardDiff.GradientConfig{ForwardDiff.Tag{Base.Fix1{typeof(LogDensityProblems.logdensity), TransformedLogDensity{TransformVariables.TransformTuple{NamedTuple{(:μ, :σ, :τ, :θs), Tuple{TransformVariables.Identity, TransformVariables.ShiftedExp{true, Int64}, TransformVariables.ShiftedExp{true, Int64}, TransformVariables.ArrayTransformation{TransformVariables.Identity, 1}}}}, StanProblem{StanModel, false}}}, Float64}, Float64, 11, Vector{ForwardDiff.Dual{ForwardDiff.Tag{Base.Fix1{typeof(LogDensityProblems.logdensity), TransformedLogDensity{TransformVariables.TransformTuple{NamedTuple{(:μ, :σ, :τ, :θs), Tuple{TransformVariables.Identity, TransformVariables.ShiftedExp{true, Int64}, TransformVariables.ShiftedExp{true, Int64}, TransformVariables.ArrayTransformation{TransformVariables.Identity, 1}}}}, StanProblem{StanModel, false}}}, Float64}, Float64, 11}}})\n",
      "    @ ForwardDiff ~/.julia/packages/ForwardDiff/vXysl/src/gradient.jl:107\n",
      "  [2] gradient!(result::DiffResults.MutableDiffResult{1, Float64, Tuple{Vector{Float64}}}, f::Base.Fix1{typeof(LogDensityProblems.logdensity), TransformedLogDensity{TransformVariables.TransformTuple{NamedTuple{(:μ, :σ, :τ, :θs), Tuple{TransformVariables.Identity, TransformVariables.ShiftedExp{true, Int64}, TransformVariables.ShiftedExp{true, Int64}, TransformVariables.ArrayTransformation{TransformVariables.Identity, 1}}}}, StanProblem{StanModel, false}}}, x::Vector{Float64}, cfg::ForwardDiff.GradientConfig{ForwardDiff.Tag{Base.Fix1{typeof(LogDensityProblems.logdensity), TransformedLogDensity{TransformVariables.TransformTuple{NamedTuple{(:μ, :σ, :τ, :θs), Tuple{TransformVariables.Identity, TransformVariables.ShiftedExp{true, Int64}, TransformVariables.ShiftedExp{true, Int64}, TransformVariables.ArrayTransformation{TransformVariables.Identity, 1}}}}, StanProblem{StanModel, false}}}, Float64}, Float64, 11, Vector{ForwardDiff.Dual{ForwardDiff.Tag{Base.Fix1{typeof(LogDensityProblems.logdensity), TransformedLogDensity{TransformVariables.TransformTuple{NamedTuple{(:μ, :σ, :τ, :θs), Tuple{TransformVariables.Identity, TransformVariables.ShiftedExp{true, Int64}, TransformVariables.ShiftedExp{true, Int64}, TransformVariables.ArrayTransformation{TransformVariables.Identity, 1}}}}, StanProblem{StanModel, false}}}, Float64}, Float64, 11}}}, ::Val{true})\n",
      "    @ ForwardDiff ~/.julia/packages/ForwardDiff/vXysl/src/gradient.jl:39\n",
      "  [3] gradient!(result::DiffResults.MutableDiffResult{1, Float64, Tuple{Vector{Float64}}}, f::Base.Fix1{typeof(LogDensityProblems.logdensity), TransformedLogDensity{TransformVariables.TransformTuple{NamedTuple{(:μ, :σ, :τ, :θs), Tuple{TransformVariables.Identity, TransformVariables.ShiftedExp{true, Int64}, TransformVariables.ShiftedExp{true, Int64}, TransformVariables.ArrayTransformation{TransformVariables.Identity, 1}}}}, StanProblem{StanModel, false}}}, x::Vector{Float64}, cfg::ForwardDiff.GradientConfig{ForwardDiff.Tag{Base.Fix1{typeof(LogDensityProblems.logdensity), TransformedLogDensity{TransformVariables.TransformTuple{NamedTuple{(:μ, :σ, :τ, :θs), Tuple{TransformVariables.Identity, TransformVariables.ShiftedExp{true, Int64}, TransformVariables.ShiftedExp{true, Int64}, TransformVariables.ArrayTransformation{TransformVariables.Identity, 1}}}}, StanProblem{StanModel, false}}}, Float64}, Float64, 11, Vector{ForwardDiff.Dual{ForwardDiff.Tag{Base.Fix1{typeof(LogDensityProblems.logdensity), TransformedLogDensity{TransformVariables.TransformTuple{NamedTuple{(:μ, :σ, :τ, :θs), Tuple{TransformVariables.Identity, TransformVariables.ShiftedExp{true, Int64}, TransformVariables.ShiftedExp{true, Int64}, TransformVariables.ArrayTransformation{TransformVariables.Identity, 1}}}}, StanProblem{StanModel, false}}}, Float64}, Float64, 11}}})\n",
      "    @ ForwardDiff ~/.julia/packages/ForwardDiff/vXysl/src/gradient.jl:35\n",
      "  [4] logdensity_and_gradient(fℓ::LogDensityProblemsAD.LogDensityProblemsADForwardDiffExt.ForwardDiffLogDensity{TransformedLogDensity{TransformVariables.TransformTuple{NamedTuple{(:μ, :σ, :τ, :θs), Tuple{TransformVariables.Identity, TransformVariables.ShiftedExp{true, Int64}, TransformVariables.ShiftedExp{true, Int64}, TransformVariables.ArrayTransformation{TransformVariables.Identity, 1}}}}, StanProblem{StanModel, false}}, ForwardDiff.Chunk{11}, Nothing, Nothing}, x::Vector{Float64})\n",
      "    @ LogDensityProblemsAD.LogDensityProblemsADForwardDiffExt ~/.julia/packages/LogDensityProblemsAD/LIUcJ/ext/LogDensityProblemsADForwardDiffExt.jl:113\n",
      "  [5] (::Base.Fix1{typeof(LogDensityProblems.logdensity_and_gradient), LogDensityProblemsAD.LogDensityProblemsADForwardDiffExt.ForwardDiffLogDensity{TransformedLogDensity{TransformVariables.TransformTuple{NamedTuple{(:μ, :σ, :τ, :θs), Tuple{TransformVariables.Identity, TransformVariables.ShiftedExp{true, Int64}, TransformVariables.ShiftedExp{true, Int64}, TransformVariables.ArrayTransformation{TransformVariables.Identity, 1}}}}, StanProblem{StanModel, false}}, ForwardDiff.Chunk{11}, Nothing, Nothing}})(y::Vector{Float64})\n",
      "    @ Base ./operators.jl:1096\n",
      "  [6] ∂H∂θ(h::Hamiltonian{DiagEuclideanMetric{Float64, Vector{Float64}}, GaussianKinetic, Base.Fix1{typeof(LogDensityProblems.logdensity), LogDensityProblemsAD.LogDensityProblemsADForwardDiffExt.ForwardDiffLogDensity{TransformedLogDensity{TransformVariables.TransformTuple{NamedTuple{(:μ, :σ, :τ, :θs), Tuple{TransformVariables.Identity, TransformVariables.ShiftedExp{true, Int64}, TransformVariables.ShiftedExp{true, Int64}, TransformVariables.ArrayTransformation{TransformVariables.Identity, 1}}}}, StanProblem{StanModel, false}}, ForwardDiff.Chunk{11}, Nothing, Nothing}}, Base.Fix1{typeof(LogDensityProblems.logdensity_and_gradient), LogDensityProblemsAD.LogDensityProblemsADForwardDiffExt.ForwardDiffLogDensity{TransformedLogDensity{TransformVariables.TransformTuple{NamedTuple{(:μ, :σ, :τ, :θs), Tuple{TransformVariables.Identity, TransformVariables.ShiftedExp{true, Int64}, TransformVariables.ShiftedExp{true, Int64}, TransformVariables.ArrayTransformation{TransformVariables.Identity, 1}}}}, StanProblem{StanModel, false}}, ForwardDiff.Chunk{11}, Nothing, Nothing}}}, θ::Vector{Float64})\n",
      "    @ AdvancedHMC ~/.julia/packages/AdvancedHMC/P0nla/src/hamiltonian.jl:38\n",
      "  [7] phasepoint(h::Hamiltonian{DiagEuclideanMetric{Float64, Vector{Float64}}, GaussianKinetic, Base.Fix1{typeof(LogDensityProblems.logdensity), LogDensityProblemsAD.LogDensityProblemsADForwardDiffExt.ForwardDiffLogDensity{TransformedLogDensity{TransformVariables.TransformTuple{NamedTuple{(:μ, :σ, :τ, :θs), Tuple{TransformVariables.Identity, TransformVariables.ShiftedExp{true, Int64}, TransformVariables.ShiftedExp{true, Int64}, TransformVariables.ArrayTransformation{TransformVariables.Identity, 1}}}}, StanProblem{StanModel, false}}, ForwardDiff.Chunk{11}, Nothing, Nothing}}, Base.Fix1{typeof(LogDensityProblems.logdensity_and_gradient), LogDensityProblemsAD.LogDensityProblemsADForwardDiffExt.ForwardDiffLogDensity{TransformedLogDensity{TransformVariables.TransformTuple{NamedTuple{(:μ, :σ, :τ, :θs), Tuple{TransformVariables.Identity, TransformVariables.ShiftedExp{true, Int64}, TransformVariables.ShiftedExp{true, Int64}, TransformVariables.ArrayTransformation{TransformVariables.Identity, 1}}}}, StanProblem{StanModel, false}}, ForwardDiff.Chunk{11}, Nothing, Nothing}}}, θ::Vector{Float64}, r::Vector{Float64})\n",
      "    @ AdvancedHMC ~/.julia/packages/AdvancedHMC/P0nla/src/hamiltonian.jl:80\n",
      "  [8] find_good_stepsize(rng::Random._GLOBAL_RNG, h::Hamiltonian{DiagEuclideanMetric{Float64, Vector{Float64}}, GaussianKinetic, Base.Fix1{typeof(LogDensityProblems.logdensity), LogDensityProblemsAD.LogDensityProblemsADForwardDiffExt.ForwardDiffLogDensity{TransformedLogDensity{TransformVariables.TransformTuple{NamedTuple{(:μ, :σ, :τ, :θs), Tuple{TransformVariables.Identity, TransformVariables.ShiftedExp{true, Int64}, TransformVariables.ShiftedExp{true, Int64}, TransformVariables.ArrayTransformation{TransformVariables.Identity, 1}}}}, StanProblem{StanModel, false}}, ForwardDiff.Chunk{11}, Nothing, Nothing}}, Base.Fix1{typeof(LogDensityProblems.logdensity_and_gradient), LogDensityProblemsAD.LogDensityProblemsADForwardDiffExt.ForwardDiffLogDensity{TransformedLogDensity{TransformVariables.TransformTuple{NamedTuple{(:μ, :σ, :τ, :θs), Tuple{TransformVariables.Identity, TransformVariables.ShiftedExp{true, Int64}, TransformVariables.ShiftedExp{true, Int64}, TransformVariables.ArrayTransformation{TransformVariables.Identity, 1}}}}, StanProblem{StanModel, false}}, ForwardDiff.Chunk{11}, Nothing, Nothing}}}, θ::Vector{Float64}; max_n_iters::Int64)\n",
      "    @ AdvancedHMC ~/.julia/packages/AdvancedHMC/P0nla/src/trajectory.jl:761\n",
      "  [9] find_good_stepsize(h::Hamiltonian{DiagEuclideanMetric{Float64, Vector{Float64}}, GaussianKinetic, Base.Fix1{typeof(LogDensityProblems.logdensity), LogDensityProblemsAD.LogDensityProblemsADForwardDiffExt.ForwardDiffLogDensity{TransformedLogDensity{TransformVariables.TransformTuple{NamedTuple{(:μ, :σ, :τ, :θs), Tuple{TransformVariables.Identity, TransformVariables.ShiftedExp{true, Int64}, TransformVariables.ShiftedExp{true, Int64}, TransformVariables.ArrayTransformation{TransformVariables.Identity, 1}}}}, StanProblem{StanModel, false}}, ForwardDiff.Chunk{11}, Nothing, Nothing}}, Base.Fix1{typeof(LogDensityProblems.logdensity_and_gradient), LogDensityProblemsAD.LogDensityProblemsADForwardDiffExt.ForwardDiffLogDensity{TransformedLogDensity{TransformVariables.TransformTuple{NamedTuple{(:μ, :σ, :τ, :θs), Tuple{TransformVariables.Identity, TransformVariables.ShiftedExp{true, Int64}, TransformVariables.ShiftedExp{true, Int64}, TransformVariables.ArrayTransformation{TransformVariables.Identity, 1}}}}, StanProblem{StanModel, false}}, ForwardDiff.Chunk{11}, Nothing, Nothing}}}, θ::Vector{Float64}; max_n_iters::Int64)\n",
      "    @ AdvancedHMC ~/.julia/packages/AdvancedHMC/P0nla/src/trajectory.jl:821\n",
      " [10] find_good_stepsize(h::Hamiltonian{DiagEuclideanMetric{Float64, Vector{Float64}}, GaussianKinetic, Base.Fix1{typeof(LogDensityProblems.logdensity), LogDensityProblemsAD.LogDensityProblemsADForwardDiffExt.ForwardDiffLogDensity{TransformedLogDensity{TransformVariables.TransformTuple{NamedTuple{(:μ, :σ, :τ, :θs), Tuple{TransformVariables.Identity, TransformVariables.ShiftedExp{true, Int64}, TransformVariables.ShiftedExp{true, Int64}, TransformVariables.ArrayTransformation{TransformVariables.Identity, 1}}}}, StanProblem{StanModel, false}}, ForwardDiff.Chunk{11}, Nothing, Nothing}}, Base.Fix1{typeof(LogDensityProblems.logdensity_and_gradient), LogDensityProblemsAD.LogDensityProblemsADForwardDiffExt.ForwardDiffLogDensity{TransformedLogDensity{TransformVariables.TransformTuple{NamedTuple{(:μ, :σ, :τ, :θs), Tuple{TransformVariables.Identity, TransformVariables.ShiftedExp{true, Int64}, TransformVariables.ShiftedExp{true, Int64}, TransformVariables.ArrayTransformation{TransformVariables.Identity, 1}}}}, StanProblem{StanModel, false}}, ForwardDiff.Chunk{11}, Nothing, Nothing}}}, θ::Vector{Float64})\n",
      "    @ AdvancedHMC ~/.julia/packages/AdvancedHMC/P0nla/src/trajectory.jl:816\n",
      " [11] top-level scope\n",
      "    @ ~/github/mjhajharia/diagnosing-hmc/quarto/cmdstanpy.ipynb:14"
     ]
    }
   ],
   "source": [
    "using TransformVariables\n",
    "using TransformedLogDensities, LogDensityProblemsAD\n",
    "t = as((μ = asℝ, σ = asℝ₊, τ = asℝ₊, θs = as(Array, 8)))\n",
    "dimension(t)\n",
    "lp = StanProblem(bs_model);\n",
    "P = TransformedLogDensity(t, lp)\n",
    "∇P = ADgradient(:ForwardDiff, lp);\n",
    "\n",
    "D = 10;\n",
    "initial_θ = rand(Uniform(-2, 2), D);\n",
    "n_samples, n_adapts = 8000, 2000;\n",
    "metric = DiagEuclideanMetric(D);\n",
    "hamiltonian = Hamiltonian(metric, P);\n",
    "initial_ϵ = find_good_stepsize(hamiltonian, initial_θ);\n",
    "integrator = Leapfrog(initial_ϵ);\n",
    "proposal = NUTS{MultinomialTS, GeneralisedNoUTurn}(integrator);\n",
    "adaptor = StanHMCAdaptor(MassMatrixAdaptor(metric), StepSizeAdaptor(0.95, integrator));\n",
    "samples, stats = sample(hamiltonian, proposal, initial_θ, n_samples, adaptor, n_adapts; progress=true);"
   ]
  },
  {
   "cell_type": "code",
   "execution_count": 4,
   "metadata": {},
   "outputs": [],
   "source": [
    "constrained_draws = hcat([vcat(col...) for col in eachcol(df)]...)\n",
    "unc_sample_array = vcat([\n",
    "    param_unconstrain(bs_model, collect(row))' for row in eachrow(constrained_draws)\n",
    "]...);"
   ]
  },
  {
   "cell_type": "code",
   "execution_count": 5,
   "metadata": {},
   "outputs": [],
   "source": [
    "lol = hcat(samples...)'\n",
    "conhmc = vcat([\n",
    "    param_constrain(bs_model, collect(row))' for row in eachrow(lol)\n",
    "]...);"
   ]
  },
  {
   "cell_type": "code",
   "execution_count": 6,
   "metadata": {},
   "outputs": [
    {
     "data": {
      "text/plain": [
       "1×10 Matrix{Float64}:\n",
       " 6.1505  4.93958  3.90591  4.79602  …  6.31717  4.884  4.41052  0.808081"
      ]
     },
     "metadata": {},
     "output_type": "display_data"
    }
   ],
   "source": [
    "mean(unc_sample_array, dims=1)"
   ]
  },
  {
   "cell_type": "code",
   "execution_count": 7,
   "metadata": {},
   "outputs": [
    {
     "data": {
      "text/plain": [
       "1×10 Matrix{Float64}:\n",
       " 0.323213  0.0841342  -0.0971426  0.0596639  …  0.0918739  4.4095  3.59251"
      ]
     },
     "metadata": {},
     "output_type": "display_data"
    }
   ],
   "source": [
    "mean(conhmc, dims=1)"
   ]
  },
  {
   "cell_type": "code",
   "execution_count": null,
   "metadata": {},
   "outputs": [],
   "source": []
  }
 ],
 "metadata": {
  "kernelspec": {
   "display_name": "Julia 1.8.5",
   "language": "julia",
   "name": "julia-1.8"
  },
  "language_info": {
   "file_extension": ".jl",
   "mimetype": "application/julia",
   "name": "julia",
   "version": "1.8.5"
  },
  "orig_nbformat": 4
 },
 "nbformat": 4,
 "nbformat_minor": 2
}
