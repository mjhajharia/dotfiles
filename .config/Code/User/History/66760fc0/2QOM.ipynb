{
 "cells": [
  {
   "cell_type": "code",
   "execution_count": 197,
   "metadata": {},
   "outputs": [],
   "source": [
    "using Revise, DynamicHMC, PosteriorDB, Random, StanLogDensityProblems, JSON, BridgeStan, DataFrames, LinearAlgebra, StatsBase, Distributions\n",
    "using Plots, ColorSchemes, LaTeXStrings, Statistics, CSV, AdvancedHMC, DynamicObjects\n",
    "Plots.theme(:default)\n",
    "const BS = BridgeStan;"
   ]
  },
  {
   "cell_type": "code",
   "execution_count": 198,
   "metadata": {},
   "outputs": [
    {
     "name": "stderr",
     "output_type": "stream",
     "text": [
      "┌ Warning: Loading a shared object '/home/meenaljhajharia/.julia/artifacts/95c3074bd791a2f28857088639b48ca1b786459a/posteriordb-0.4.0/posterior_database/models/stan/eight_schools_noncentered_model.so' which is already loaded.\n",
      "│ If the file has changed since the last time it was loaded, this load may not update the library!\n",
      "└ @ BridgeStan /home/meenaljhajharia/.julia/packages/BridgeStan/nCPwJ/src/model.jl:51\n"
     ]
    }
   ],
   "source": [
    "pdb = PosteriorDB.database()\n",
    "model = PosteriorDB.model(pdb, \"eight_schools_noncentered\")\n",
    "post = PosteriorDB.posterior(pdb, \"eight_schools-eight_schools_noncentered\")\n",
    "impl = PosteriorDB.implementation(model, \"stan\")\n",
    "path = PosteriorDB.path(impl)\n",
    "data = PosteriorDB.dataset(post)\n",
    "s = PosteriorDB.load(data, String);\n",
    "bs_model = BS.StanModel(stan_file=path, data=s);\n",
    "ref = PosteriorDB.reference_posterior(post)\n",
    "df=DataFrame(PosteriorDB.load(ref));"
   ]
  },
  {
   "cell_type": "code",
   "execution_count": 199,
   "metadata": {},
   "outputs": [
    {
     "name": "stderr",
     "output_type": "stream",
     "text": [
      "\r\u001b[32mSampling  26%|████████▏                      |  ETA: 0:00:00\u001b[39m\u001b[K\r\n",
      "\u001b[34m  iterations:                                   2096\u001b[39m\u001b[K\r\n",
      "\u001b[34m  ratio_divergent_transitions:                  0.0\u001b[39m\u001b[K\r\n",
      "\u001b[34m  ratio_divergent_transitions_during_adaption:  0.01\u001b[39m\u001b[K\r\n",
      "\u001b[34m  n_steps:                                      15\u001b[39m\u001b[K\r\n",
      "\u001b[34m  is_accept:                                    true\u001b[39m\u001b[K\r\n",
      "\u001b[34m  acceptance_rate:                              0.9198919727715424\u001b[39m\u001b[K\r\n",
      "\u001b[34m  log_density:                                  -10.151961486450443\u001b[39m\u001b[K\r\n",
      "\u001b[34m  hamiltonian_energy:                           14.866417664971074\u001b[39m\u001b[K\r\n",
      "\u001b[34m  hamiltonian_energy_error:                     0.0639968462763818\u001b[39m\u001b[K\r\n",
      "\u001b[34m  max_hamiltonian_energy_error:                 11.208003626296176\u001b[39m\u001b[K\r\n",
      "\u001b[34m  tree_depth:                                   3\u001b[39m\u001b[K\r\n",
      "\u001b[34m  numerical_error:                              false\u001b[39m\u001b[K\r\n",
      "\u001b[34m  step_size:                                    0.43240622477448887\u001b[39m\u001b[K\r\n",
      "\u001b[34m  nom_step_size:                                0.43240622477448887\u001b[39m\u001b[K\r\n",
      "\u001b[34m  is_adapt:                                     false\u001b[39m\u001b[K\r\n",
      "\u001b[34m  mass_matrix:                                  DiagEuclideanMetric([0.8881970378388442, 0.9325 ...])\u001b[39m\u001b[K\r\u001b[A\r\u001b[A\r\u001b[A\r\u001b[A\r\u001b[A\r\u001b[A\r\u001b[A\r\u001b[A\r\u001b[A\r\u001b[A\r\u001b[A\r\u001b[A\r\u001b[A\r\u001b[A\r\u001b[A\r\u001b[A\r\u001b[A"
     ]
    },
    {
     "name": "stderr",
     "output_type": "stream",
     "text": [
      "\n",
      "\n",
      "\n",
      "\n",
      "\n",
      "\n",
      "\n",
      "\n",
      "\n",
      "\n",
      "\n",
      "\n",
      "\n",
      "\n",
      "\n",
      "\n",
      "\n",
      "\r\u001b[K\u001b[A\r\u001b[K\u001b[A\r\u001b[K\u001b[A\r\u001b[K\u001b[A\r\u001b[K\u001b[A\r\u001b[K\u001b[A\r\u001b[K\u001b[A\r\u001b[K\u001b[A\r\u001b[K\u001b[A\r\u001b[K\u001b[A\r\u001b[K\u001b[A\r\u001b[K\u001b[A\r\u001b[K\u001b[A\r\u001b[K\u001b[A\r\u001b[K\u001b[A\r\u001b[K\u001b[A\r\u001b[K\u001b[A\r\u001b[32mSampling  53%|████████████████▌              |  ETA: 0:00:00\u001b[39m\u001b[K\r\n",
      "\u001b[34m  iterations:                                   4261\u001b[39m\u001b[K\r\n",
      "\u001b[34m  ratio_divergent_transitions:                  0.0\u001b[39m\u001b[K\r\n",
      "\u001b[34m  ratio_divergent_transitions_during_adaption:  0.01\u001b[39m\u001b[K\r\n",
      "\u001b[34m  n_steps:                                      7\u001b[39m\u001b[K\r\n",
      "\u001b[34m  is_accept:                                    true\u001b[39m\u001b[K\r\n",
      "\u001b[34m  acceptance_rate:                              1.0\u001b[39m\u001b[K\r\n",
      "\u001b[34m  log_density:                                  -5.36568105333099\u001b[39m\u001b[K\r\n",
      "\u001b[34m  hamiltonian_energy:                           7.8911350824160476\u001b[39m\u001b[K\r\n",
      "\u001b[34m  hamiltonian_energy_error:                     -0.034997733525740315\u001b[39m\u001b[K\r\n",
      "\u001b[34m  max_hamiltonian_energy_error:                 -0.15040237936167333\u001b[39m\u001b[K\r\n",
      "\u001b[34m  tree_depth:                                   3\u001b[39m\u001b[K\r\n",
      "\u001b[34m  numerical_error:                              false\u001b[39m\u001b[K\r\n",
      "\u001b[34m  step_size:                                    0.43240622477448887\u001b[39m\u001b[K\r\n",
      "\u001b[34m  nom_step_size:                                0.43240622477448887\u001b[39m\u001b[K\r\n",
      "\u001b[34m  is_adapt:                                     false\u001b[39m\u001b[K\r\n",
      "\u001b[34m  mass_matrix:                                  DiagEuclideanMetric([0.8881970378388442, 0.9325 ...])\u001b[39m\u001b[K\r\u001b[A\r\u001b[A\r\u001b[A\r\u001b[A\r\u001b[A\r\u001b[A\r\u001b[A\r\u001b[A\r\u001b[A\r\u001b[A\r\u001b[A\r\u001b[A\r\u001b[A\r\u001b[A\r\u001b[A\r\u001b[A\r\u001b[A"
     ]
    },
    {
     "name": "stderr",
     "output_type": "stream",
     "text": [
      "\n",
      "\n",
      "\n",
      "\n",
      "\n",
      "\n",
      "\n",
      "\n",
      "\n",
      "\n",
      "\n",
      "\n",
      "\n",
      "\n",
      "\n",
      "\n",
      "\n",
      "\r\u001b[K\u001b[A\r\u001b[K\u001b[A\r\u001b[K\u001b[A\r\u001b[K\u001b[A\r\u001b[K\u001b[A\r\u001b[K\u001b[A\r\u001b[K\u001b[A\r\u001b[K\u001b[A\r\u001b[K\u001b[A\r\u001b[K\u001b[A\r\u001b[K\u001b[A\r\u001b[K\u001b[A\r\u001b[K\u001b[A\r\u001b[K\u001b[A\r\u001b[K\u001b[A\r\u001b[K\u001b[A\r\u001b[K\u001b[A\r\u001b[32mSampling  89%|███████████████████████████▋   |  ETA: 0:00:00\u001b[39m\u001b[K\r\n",
      "\u001b[34m  iterations:                                   7132\u001b[39m\u001b[K\r\n",
      "\u001b[34m  ratio_divergent_transitions:                  0.0\u001b[39m\u001b[K\r\n",
      "\u001b[34m  ratio_divergent_transitions_during_adaption:  0.0\u001b[39m\u001b[K\r\n",
      "\u001b[34m  n_steps:                                      7\u001b[39m\u001b[K\r\n",
      "\u001b[34m  is_accept:                                    true\u001b[39m\u001b[K\r\n",
      "\u001b[34m  acceptance_rate:                              1.0\u001b[39m\u001b[K\r\n",
      "\u001b[34m  log_density:                                  -7.8808852099672535\u001b[39m\u001b[K\r\n",
      "\u001b[34m  hamiltonian_energy:                           12.886839126913582\u001b[39m\u001b[K\r\n",
      "\u001b[34m  hamiltonian_energy_error:                     -0.1293309464772392\u001b[39m\u001b[K\r\n",
      "\u001b[34m  max_hamiltonian_energy_error:                 -0.28522378246468705\u001b[39m\u001b[K\r\n",
      "\u001b[34m  tree_depth:                                   3\u001b[39m\u001b[K\r\n",
      "\u001b[34m  numerical_error:                              false\u001b[39m\u001b[K\r\n",
      "\u001b[34m  step_size:                                    0.43240622477448887\u001b[39m\u001b[K\r\n",
      "\u001b[34m  nom_step_size:                                0.43240622477448887\u001b[39m\u001b[K\r\n",
      "\u001b[34m  is_adapt:                                     false\u001b[39m\u001b[K\r\n",
      "\u001b[34m  mass_matrix:                                  DiagEuclideanMetric([0.8881970378388442, 0.9325 ...])\u001b[39m\u001b[K\r\u001b[A\r\u001b[A\r\u001b[A\r\u001b[A\r\u001b[A\r\u001b[A\r\u001b[A\r\u001b[A\r\u001b[A\r\u001b[A\r\u001b[A\r\u001b[A\r\u001b[A\r\u001b[A\r\u001b[A\r\u001b[A\r\u001b[A"
     ]
    },
    {
     "name": "stderr",
     "output_type": "stream",
     "text": [
      "\n",
      "\n",
      "\n",
      "\n",
      "\n",
      "\n",
      "\n",
      "\n",
      "\n",
      "\n",
      "\n",
      "\n",
      "\n",
      "\n",
      "\n",
      "\n",
      "\n",
      "\r\u001b[K\u001b[A\r\u001b[K\u001b[A\r\u001b[K\u001b[A\r\u001b[K\u001b[A\r\u001b[K\u001b[A\r\u001b[K\u001b[A\r\u001b[K\u001b[A\r\u001b[K\u001b[A\r\u001b[K\u001b[A\r\u001b[K\u001b[A\r\u001b[K\u001b[A\r\u001b[K\u001b[A\r\u001b[K\u001b[A\r\u001b[K\u001b[A\r\u001b[K\u001b[A\r\u001b[K\u001b[A\r\u001b[K\u001b[A\r\u001b[32mSampling 100%|███████████████████████████████| Time: 0:00:00\u001b[39m\u001b[K\r\n",
      "\u001b[34m  iterations:                                   8000\u001b[39m\u001b[K\r\n",
      "\u001b[34m  ratio_divergent_transitions:                  0.0\u001b[39m\u001b[K\r\n",
      "\u001b[34m  ratio_divergent_transitions_during_adaption:  0.0\u001b[39m\u001b[K\r\n",
      "\u001b[34m  n_steps:                                      7\u001b[39m\u001b[K\r\n",
      "\u001b[34m  is_accept:                                    true\u001b[39m\u001b[K\r\n",
      "\u001b[34m  acceptance_rate:                              0.9862576804234344\u001b[39m\u001b[K\r\n",
      "\u001b[34m  log_density:                                  -6.782090218875673\u001b[39m\u001b[K\r\n",
      "\u001b[34m  hamiltonian_energy:                           11.47621845809056\u001b[39m\u001b[K\r\n",
      "\u001b[34m  hamiltonian_energy_error:                     -0.004317515155708662\u001b[39m\u001b[K\r\n",
      "\u001b[34m  max_hamiltonian_energy_error:                 -0.06203163602238959\u001b[39m\u001b[K\r\n",
      "\u001b[34m  tree_depth:                                   3\u001b[39m\u001b[K\r\n",
      "\u001b[34m  numerical_error:                              false\u001b[39m\u001b[K\r\n",
      "\u001b[34m  step_size:                                    0.43240622477448887\u001b[39m\u001b[K\r\n",
      "\u001b[34m  nom_step_size:                                0.43240622477448887\u001b[39m\u001b[K\r\n",
      "\u001b[34m  is_adapt:                                     false\u001b[39m\u001b[K\r\n",
      "\u001b[34m  mass_matrix:                                  DiagEuclideanMetric([0.8881970378388442, 0.9325 ...])\u001b[39m\u001b[K\n"
     ]
    },
    {
     "name": "stderr",
     "output_type": "stream",
     "text": [
      "┌ Info: Finished 8000 sampling steps for 1 chains in 0.358179706 (s)\n",
      "│   h = Hamiltonian(metric=DiagEuclideanMetric([0.8881970378388442, 0.9325 ...]), kinetic=GaussianKinetic())\n",
      "│   κ = HMCKernel{AdvancedHMC.FullMomentumRefreshment, Trajectory{MultinomialTS, Leapfrog{Float64}, GeneralisedNoUTurn{Float64}}}(AdvancedHMC.FullMomentumRefreshment(), Trajectory{MultinomialTS}(integrator=Leapfrog(ϵ=0.432), tc=GeneralisedNoUTurn{Float64}(10, 1000.0)))\n",
      "│   EBFMI_est = 1.0219386574304055\n",
      "│   average_acceptance_rate = 0.8606366511701165\n",
      "└ @ AdvancedHMC /home/meenaljhajharia/.julia/packages/AdvancedHMC/P0nla/src/sampler.jl:246\n"
     ]
    }
   ],
   "source": [
    "using TransformVariables\n",
    "using TransformedLogDensities, LogDensityProblemsAD\n",
    "t = as((μ = asℝ, σ = asℝ₊, τ = asℝ₊, θs = as(Array, 8)))\n",
    "dimension(t)\n",
    "P = TransformedLogDensity(t, lp)\n",
    "∇P = ADgradient(:ForwardDiff, lp);\n",
    "\n",
    "p = StanProblem(bs_model);\n",
    "D = 10;\n",
    "initial_θ = rand(D);\n",
    "n_samples, n_adapts = 8000, 2000;\n",
    "metric = DiagEuclideanMetric(D);\n",
    "hamiltonian = Hamiltonian(metric, lp);\n",
    "initial_ϵ = find_good_stepsize(hamiltonian, initial_θ);\n",
    "integrator = Leapfrog(initial_ϵ);\n",
    "proposal = NUTS{MultinomialTS, GeneralisedNoUTurn}(integrator);\n",
    "adaptor = StanHMCAdaptor(MassMatrixAdaptor(metric), StepSizeAdaptor(0.8, integrator));\n",
    "samples, stats = sample(hamiltonian, proposal, initial_θ, n_samples, adaptor, n_adapts; progress=true);"
   ]
  },
  {
   "cell_type": "code",
   "execution_count": 200,
   "metadata": {},
   "outputs": [],
   "source": [
    "constrained_draws = hcat([vcat(col...) for col in eachcol(df)]...)\n",
    "unc_sample_array = vcat([\n",
    "    param_unconstrain(bs_model, collect(row))' for row in eachrow(constrained_draws)\n",
    "]...);"
   ]
  },
  {
   "cell_type": "code",
   "execution_count": 201,
   "metadata": {},
   "outputs": [],
   "source": [
    "lol = hcat(samples...)'\n",
    "conhmc = vcat([\n",
    "    param_constrain(bs_model, collect(row))' for row in eachrow(lol)\n",
    "]...);"
   ]
  },
  {
   "cell_type": "code",
   "execution_count": 202,
   "metadata": {},
   "outputs": [
    {
     "data": {
      "text/plain": [
       "1×10 Matrix{Float64}:\n",
       " 6.1505  4.93958  3.90591  4.79602  …  6.31717  4.884  4.41052  0.808081"
      ]
     },
     "metadata": {},
     "output_type": "display_data"
    }
   ],
   "source": [
    "mean(unc_sample_array, dims=1)"
   ]
  },
  {
   "cell_type": "code",
   "execution_count": 203,
   "metadata": {},
   "outputs": [
    {
     "data": {
      "text/plain": [
       "1×10 Matrix{Float64}:\n",
       " 0.326793  0.102662  -0.0927928  0.0482775  …  0.071242  4.40177  3.60675"
      ]
     },
     "metadata": {},
     "output_type": "display_data"
    }
   ],
   "source": [
    "mean(conhmc, dims=1)"
   ]
  },
  {
   "cell_type": "code",
   "execution_count": null,
   "metadata": {},
   "outputs": [],
   "source": []
  }
 ],
 "metadata": {
  "kernelspec": {
   "display_name": "Julia 1.8.5",
   "language": "julia",
   "name": "julia-1.8"
  },
  "language_info": {
   "file_extension": ".jl",
   "mimetype": "application/julia",
   "name": "julia",
   "version": "1.8.5"
  },
  "orig_nbformat": 4
 },
 "nbformat": 4,
 "nbformat_minor": 2
}
