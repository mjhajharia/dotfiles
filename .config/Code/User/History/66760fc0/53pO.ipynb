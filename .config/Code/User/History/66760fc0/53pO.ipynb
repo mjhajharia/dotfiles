{
 "cells": [
  {
   "cell_type": "code",
   "execution_count": 197,
   "metadata": {},
   "outputs": [],
   "source": [
    "using Revise, DynamicHMC, PosteriorDB, Random, StanLogDensityProblems, JSON, BridgeStan, DataFrames, LinearAlgebra, StatsBase, Distributions\n",
    "using Plots, ColorSchemes, LaTeXStrings, Statistics, CSV, AdvancedHMC, DynamicObjects\n",
    "Plots.theme(:default)\n",
    "const BS = BridgeStan;"
   ]
  },
  {
   "cell_type": "code",
   "execution_count": 198,
   "metadata": {},
   "outputs": [
    {
     "name": "stderr",
     "output_type": "stream",
     "text": [
      "┌ Warning: Loading a shared object '/home/meenaljhajharia/.julia/artifacts/95c3074bd791a2f28857088639b48ca1b786459a/posteriordb-0.4.0/posterior_database/models/stan/eight_schools_noncentered_model.so' which is already loaded.\n",
      "│ If the file has changed since the last time it was loaded, this load may not update the library!\n",
      "└ @ BridgeStan /home/meenaljhajharia/.julia/packages/BridgeStan/nCPwJ/src/model.jl:51\n"
     ]
    }
   ],
   "source": [
    "pdb = PosteriorDB.database()\n",
    "model = PosteriorDB.model(pdb, \"eight_schools_noncentered\")\n",
    "post = PosteriorDB.posterior(pdb, \"eight_schools-eight_schools_noncentered\")\n",
    "impl = PosteriorDB.implementation(model, \"stan\")\n",
    "path = PosteriorDB.path(impl)\n",
    "data = PosteriorDB.dataset(post)\n",
    "s = PosteriorDB.load(data, String);\n",
    "bs_model = BS.StanModel(stan_file=path, data=s);\n",
    "ref = PosteriorDB.reference_posterior(post)\n",
    "df=DataFrame(PosteriorDB.load(ref));"
   ]
  },
  {
   "cell_type": "code",
   "execution_count": 214,
   "metadata": {},
   "outputs": [
    {
     "name": "stderr",
     "output_type": "stream",
     "text": [
      "\r\u001b[32mSampling  13%|████                           |  ETA: 0:00:01\u001b[39m\u001b[K\r\n",
      "\u001b[34m  iterations:                                   1032\u001b[39m\u001b[K\r\n",
      "\u001b[34m  ratio_divergent_transitions:                  0.0\u001b[39m\u001b[K\r\n",
      "\u001b[34m  ratio_divergent_transitions_during_adaption:  0.01\u001b[39m\u001b[K\r\n",
      "\u001b[34m  n_steps:                                      7\u001b[39m\u001b[K\r\n",
      "\u001b[34m  is_accept:                                    true\u001b[39m\u001b[K\r\n",
      "\u001b[34m  acceptance_rate:                              0.9627831560454742\u001b[39m\u001b[K\r\n",
      "\u001b[34m  log_density:                                  -6.482228142840333\u001b[39m\u001b[K\r\n",
      "\u001b[34m  hamiltonian_energy:                           8.86534823842792\u001b[39m\u001b[K\r\n",
      "\u001b[34m  hamiltonian_energy_error:                     0.04397939798452555\u001b[39m\u001b[K\r\n",
      "\u001b[34m  max_hamiltonian_energy_error:                 -0.16452010252076832\u001b[39m\u001b[K\r\n",
      "\u001b[34m  tree_depth:                                   3\u001b[39m\u001b[K\r\n",
      "\u001b[34m  numerical_error:                              false\u001b[39m\u001b[K\r\n",
      "\u001b[34m  step_size:                                    0.46213311171572213\u001b[39m\u001b[K\r\n",
      "\u001b[34m  nom_step_size:                                0.46213311171572213\u001b[39m\u001b[K\r\n",
      "\u001b[34m  is_adapt:                                     true\u001b[39m\u001b[K\r\n",
      "\u001b[34m  mass_matrix:                                  DiagEuclideanMetric([0.9860111572507605, 1.1224 ...])\u001b[39m\u001b[K\r\u001b[A\r\u001b[A\r\u001b[A\r\u001b[A\r\u001b[A\r\u001b[A\r\u001b[A\r\u001b[A\r\u001b[A\r\u001b[A\r\u001b[A\r\u001b[A\r\u001b[A\r\u001b[A\r\u001b[A\r\u001b[A\r\u001b[A"
     ]
    },
    {
     "name": "stderr",
     "output_type": "stream",
     "text": [
      "\n",
      "\n",
      "\n",
      "\n",
      "\n",
      "\n",
      "\n",
      "\n",
      "\n",
      "\n",
      "\n",
      "\n",
      "\n",
      "\n",
      "\n",
      "\n",
      "\n",
      "\r\u001b[K\u001b[A\r\u001b[K\u001b[A\r\u001b[K\u001b[A\r\u001b[K\u001b[A\r\u001b[K\u001b[A\r\u001b[K\u001b[A\r\u001b[K\u001b[A\r\u001b[K\u001b[A\r\u001b[K\u001b[A\r\u001b[K\u001b[A\r\u001b[K\u001b[A\r\u001b[K\u001b[A\r\u001b[K\u001b[A\r\u001b[K\u001b[A\r\u001b[K\u001b[A\r\u001b[K\u001b[A\r\u001b[K\u001b[A\r\u001b[32mSampling  34%|██████████▋                    |  ETA: 0:00:00\u001b[39m\u001b[K\r\n",
      "\u001b[34m  iterations:                                   2740\u001b[39m\u001b[K\r\n",
      "\u001b[34m  ratio_divergent_transitions:                  0.0\u001b[39m\u001b[K\r\n",
      "\u001b[34m  ratio_divergent_transitions_during_adaption:  0.0\u001b[39m\u001b[K\r\n",
      "\u001b[34m  n_steps:                                      7\u001b[39m\u001b[K\r\n",
      "\u001b[34m  is_accept:                                    true\u001b[39m\u001b[K\r\n",
      "\u001b[34m  acceptance_rate:                              0.9689961542166717\u001b[39m\u001b[K\r\n",
      "\u001b[34m  log_density:                                  -3.9350137834644814\u001b[39m\u001b[K\r\n",
      "\u001b[34m  hamiltonian_energy:                           9.23985541075146\u001b[39m\u001b[K\r\n",
      "\u001b[34m  hamiltonian_energy_error:                     -0.011110994448685574\u001b[39m\u001b[K\r\n",
      "\u001b[34m  max_hamiltonian_energy_error:                 0.09742298527752169\u001b[39m\u001b[K\r\n",
      "\u001b[34m  tree_depth:                                   3\u001b[39m\u001b[K\r\n",
      "\u001b[34m  numerical_error:                              false\u001b[39m\u001b[K\r\n",
      "\u001b[34m  step_size:                                    0.2891197669271062\u001b[39m\u001b[K\r\n",
      "\u001b[34m  nom_step_size:                                0.2891197669271062\u001b[39m\u001b[K\r\n",
      "\u001b[34m  is_adapt:                                     false\u001b[39m\u001b[K\r\n",
      "\u001b[34m  mass_matrix:                                  DiagEuclideanMetric([0.9573192979290929, 0.8479 ...])\u001b[39m\u001b[K\r\u001b[A\r\u001b[A\r\u001b[A\r\u001b[A\r\u001b[A\r\u001b[A\r\u001b[A\r\u001b[A\r\u001b[A\r\u001b[A\r\u001b[A\r\u001b[A\r\u001b[A\r\u001b[A\r\u001b[A\r\u001b[A\r\u001b[A"
     ]
    },
    {
     "name": "stderr",
     "output_type": "stream",
     "text": [
      "\n",
      "\n",
      "\n",
      "\n",
      "\n",
      "\n",
      "\n",
      "\n",
      "\n",
      "\n",
      "\n",
      "\n",
      "\n",
      "\n",
      "\n",
      "\n",
      "\n",
      "\r\u001b[K\u001b[A\r\u001b[K\u001b[A\r\u001b[K\u001b[A\r\u001b[K\u001b[A\r\u001b[K\u001b[A\r\u001b[K\u001b[A\r\u001b[K\u001b[A\r\u001b[K\u001b[A\r\u001b[K\u001b[A\r\u001b[K\u001b[A\r\u001b[K\u001b[A\r\u001b[K\u001b[A\r\u001b[K\u001b[A\r\u001b[K\u001b[A\r\u001b[K\u001b[A\r\u001b[K\u001b[A\r\u001b[K\u001b[A\r\u001b[32mSampling  58%|█████████████████▉             |  ETA: 0:00:00\u001b[39m\u001b[K\r\n",
      "\u001b[34m  iterations:                                   4602\u001b[39m\u001b[K\r\n",
      "\u001b[34m  ratio_divergent_transitions:                  0.0\u001b[39m\u001b[K\r\n",
      "\u001b[34m  ratio_divergent_transitions_during_adaption:  0.0\u001b[39m\u001b[K\r\n",
      "\u001b[34m  n_steps:                                      15\u001b[39m\u001b[K\r\n",
      "\u001b[34m  is_accept:                                    true\u001b[39m\u001b[K\r\n",
      "\u001b[34m  acceptance_rate:                              0.9697213388404239\u001b[39m\u001b[K\r\n",
      "\u001b[34m  log_density:                                  -10.124670009132041\u001b[39m\u001b[K\r\n",
      "\u001b[34m  hamiltonian_energy:                           13.144305202379245\u001b[39m\u001b[K\r\n",
      "\u001b[34m  hamiltonian_energy_error:                     0.06029475365978065\u001b[39m\u001b[K\r\n",
      "\u001b[34m  max_hamiltonian_energy_error:                 0.06675013497055282\u001b[39m\u001b[K\r\n",
      "\u001b[34m  tree_depth:                                   4\u001b[39m\u001b[K\r\n",
      "\u001b[34m  numerical_error:                              false\u001b[39m\u001b[K\r\n",
      "\u001b[34m  step_size:                                    0.2891197669271062\u001b[39m\u001b[K\r\n",
      "\u001b[34m  nom_step_size:                                0.2891197669271062\u001b[39m\u001b[K\r\n",
      "\u001b[34m  is_adapt:                                     false\u001b[39m\u001b[K\r\n",
      "\u001b[34m  mass_matrix:                                  DiagEuclideanMetric([0.9573192979290929, 0.8479 ...])\u001b[39m\u001b[K\r\u001b[A\r\u001b[A\r\u001b[A\r\u001b[A\r\u001b[A\r\u001b[A\r\u001b[A\r\u001b[A\r\u001b[A\r\u001b[A\r\u001b[A\r\u001b[A\r\u001b[A\r\u001b[A\r\u001b[A\r\u001b[A\r\u001b[A"
     ]
    },
    {
     "name": "stderr",
     "output_type": "stream",
     "text": [
      "\n",
      "\n",
      "\n",
      "\n",
      "\n",
      "\n",
      "\n",
      "\n",
      "\n",
      "\n",
      "\n",
      "\n",
      "\n",
      "\n",
      "\n",
      "\n",
      "\n",
      "\r\u001b[K\u001b[A\r\u001b[K\u001b[A\r\u001b[K\u001b[A\r\u001b[K\u001b[A\r\u001b[K\u001b[A\r\u001b[K\u001b[A\r\u001b[K\u001b[A\r\u001b[K\u001b[A\r\u001b[K\u001b[A\r\u001b[K\u001b[A\r\u001b[K\u001b[A\r\u001b[K\u001b[A\r\u001b[K\u001b[A\r\u001b[K\u001b[A\r\u001b[K\u001b[A\r\u001b[K\u001b[A\r\u001b[K\u001b[A\r\u001b[32mSampling  81%|█████████████████████████      |  ETA: 0:00:00\u001b[39m\u001b[K\r\n",
      "\u001b[34m  iterations:                                   6463\u001b[39m\u001b[K\r\n",
      "\u001b[34m  ratio_divergent_transitions:                  0.0\u001b[39m\u001b[K\r\n",
      "\u001b[34m  ratio_divergent_transitions_during_adaption:  0.0\u001b[39m\u001b[K\r\n",
      "\u001b[34m  n_steps:                                      15\u001b[39m\u001b[K\r\n",
      "\u001b[34m  is_accept:                                    true\u001b[39m\u001b[K\r\n",
      "\u001b[34m  acceptance_rate:                              0.997750327902989\u001b[39m\u001b[K\r\n",
      "\u001b[34m  log_density:                                  -6.180004059969118\u001b[39m\u001b[K\r\n",
      "\u001b[34m  hamiltonian_energy:                           8.443458818275149\u001b[39m\u001b[K\r\n",
      "\u001b[34m  hamiltonian_energy_error:                     0.009509702567038758\u001b[39m\u001b[K\r\n",
      "\u001b[34m  max_hamiltonian_energy_error:                 -0.05227724645316201\u001b[39m\u001b[K\r\n",
      "\u001b[34m  tree_depth:                                   4\u001b[39m\u001b[K\r\n",
      "\u001b[34m  numerical_error:                              false\u001b[39m\u001b[K\r\n",
      "\u001b[34m  step_size:                                    0.2891197669271062\u001b[39m\u001b[K\r\n",
      "\u001b[34m  nom_step_size:                                0.2891197669271062\u001b[39m\u001b[K\r\n",
      "\u001b[34m  is_adapt:                                     false\u001b[39m\u001b[K\r\n",
      "\u001b[34m  mass_matrix:                                  DiagEuclideanMetric([0.9573192979290929, 0.8479 ...])\u001b[39m\u001b[K\r\u001b[A\r\u001b[A\r\u001b[A\r\u001b[A\r\u001b[A\r\u001b[A\r\u001b[A\r\u001b[A\r\u001b[A\r\u001b[A\r\u001b[A\r\u001b[A\r\u001b[A\r\u001b[A\r\u001b[A\r\u001b[A\r\u001b[A"
     ]
    },
    {
     "name": "stderr",
     "output_type": "stream",
     "text": [
      "\n",
      "\n",
      "\n",
      "\n",
      "\n",
      "\n",
      "\n",
      "\n",
      "\n",
      "\n",
      "\n",
      "\n",
      "\n",
      "\n",
      "\n",
      "\n",
      "\n",
      "\r\u001b[K\u001b[A\r\u001b[K\u001b[A\r\u001b[K\u001b[A\r\u001b[K\u001b[A\r\u001b[K\u001b[A\r\u001b[K\u001b[A\r\u001b[K\u001b[A\r\u001b[K\u001b[A\r\u001b[K\u001b[A\r\u001b[K\u001b[A\r\u001b[K\u001b[A\r\u001b[K\u001b[A\r\u001b[K\u001b[A\r\u001b[K\u001b[A\r\u001b[K\u001b[A\r\u001b[K\u001b[A\r\u001b[K\u001b[A\r\u001b[32mSampling 100%|███████████████████████████████| Time: 0:00:00\u001b[39m\u001b[K\r\n",
      "\u001b[34m  iterations:                                   8000\u001b[39m\u001b[K\r\n",
      "\u001b[34m  ratio_divergent_transitions:                  0.0\u001b[39m\u001b[K\r\n",
      "\u001b[34m  ratio_divergent_transitions_during_adaption:  0.0\u001b[39m\u001b[K\r\n",
      "\u001b[34m  n_steps:                                      15\u001b[39m\u001b[K\r\n",
      "\u001b[34m  is_accept:                                    true\u001b[39m\u001b[K\r\n",
      "\u001b[34m  acceptance_rate:                              0.8792152637710148\u001b[39m\u001b[K\r\n",
      "\u001b[34m  log_density:                                  -5.487238862041923\u001b[39m\u001b[K\r\n",
      "\u001b[34m  hamiltonian_energy:                           6.818726232451577\u001b[39m\u001b[K\r\n",
      "\u001b[34m  hamiltonian_energy_error:                     0.13740340665458373\u001b[39m\u001b[K\r\n",
      "\u001b[34m  max_hamiltonian_energy_error:                 0.36021956480921435\u001b[39m\u001b[K\r\n",
      "\u001b[34m  tree_depth:                                   4\u001b[39m\u001b[K\r\n",
      "\u001b[34m  numerical_error:                              false\u001b[39m\u001b[K\r\n",
      "\u001b[34m  step_size:                                    0.2891197669271062\u001b[39m\u001b[K\r\n",
      "\u001b[34m  nom_step_size:                                0.2891197669271062\u001b[39m\u001b[K\r\n",
      "\u001b[34m  is_adapt:                                     false\u001b[39m\u001b[K\r\n",
      "\u001b[34m  mass_matrix:                                  DiagEuclideanMetric([0.9573192979290929, 0.8479 ...])\u001b[39m\u001b[K\n"
     ]
    },
    {
     "name": "stderr",
     "output_type": "stream",
     "text": [
      "┌ Info: Finished 8000 sampling steps for 1 chains in 0.546865159 (s)\n",
      "│   h = Hamiltonian(metric=DiagEuclideanMetric([0.9573192979290929, 0.8479 ...]), kinetic=GaussianKinetic())\n",
      "│   κ = HMCKernel{AdvancedHMC.FullMomentumRefreshment, Trajectory{MultinomialTS, Leapfrog{Float64}, GeneralisedNoUTurn{Float64}}}(AdvancedHMC.FullMomentumRefreshment(), Trajectory{MultinomialTS}(integrator=Leapfrog(ϵ=0.289), tc=GeneralisedNoUTurn{Float64}(10, 1000.0)))\n",
      "│   EBFMI_est = 0.9605831934526045\n",
      "│   average_acceptance_rate = 0.9626434753186711\n",
      "└ @ AdvancedHMC /home/meenaljhajharia/.julia/packages/AdvancedHMC/P0nla/src/sampler.jl:246\n"
     ]
    }
   ],
   "source": [
    "using TransformVariables\n",
    "using TransformedLogDensities, LogDensityProblemsAD\n",
    "t = as((μ = asℝ, σ = asℝ₊, τ = asℝ₊, θs = as(Array, 8)))\n",
    "dimension(t)\n",
    "lp = StanProblem(bs_model);\n",
    "P = TransformedLogDensity(t, lp)\n",
    "∇P = ADgradient(:ForwardDiff, lp);\n",
    "\n",
    "D = 10;\n",
    "initial_θ = rand(Uniform(-2, 2), D);\n",
    "n_samples, n_adapts = 8000, 2000;\n",
    "metric = DiagEuclideanMetric(D);\n",
    "hamiltonian = Hamiltonian(metric, lp);\n",
    "initial_ϵ = find_good_stepsize(hamiltonian, initial_θ);\n",
    "integrator = Leapfrog(initial_ϵ);\n",
    "proposal = NUTS{MultinomialTS, GeneralisedNoUTurn}(integrator);\n",
    "adaptor = StanHMCAdaptor(MassMatrixAdaptor(metric), StepSizeAdaptor(0.95, integrator));\n",
    "samples, stats = sample(hamiltonian, proposal, initial_θ, n_samples, adaptor, n_adapts; progress=true);"
   ]
  },
  {
   "cell_type": "code",
   "execution_count": 215,
   "metadata": {},
   "outputs": [],
   "source": [
    "constrained_draws = hcat([vcat(col...) for col in eachcol(df)]...)\n",
    "unc_sample_array = vcat([\n",
    "    param_unconstrain(bs_model, collect(row))' for row in eachrow(constrained_draws)\n",
    "]...);"
   ]
  },
  {
   "cell_type": "code",
   "execution_count": 216,
   "metadata": {},
   "outputs": [],
   "source": [
    "lol = hcat(samples...)'\n",
    "conhmc = vcat([\n",
    "    param_constrain(bs_model, collect(row))' for row in eachrow(lol)\n",
    "]...);"
   ]
  },
  {
   "cell_type": "code",
   "execution_count": 217,
   "metadata": {},
   "outputs": [
    {
     "data": {
      "text/plain": [
       "1×10 Matrix{Float64}:\n",
       " 6.1505  4.93958  3.90591  4.79602  …  6.31717  4.884  4.41052  0.808081"
      ]
     },
     "metadata": {},
     "output_type": "display_data"
    }
   ],
   "source": [
    "mean(unc_sample_array, dims=1)"
   ]
  },
  {
   "cell_type": "code",
   "execution_count": 218,
   "metadata": {},
   "outputs": [
    {
     "data": {
      "text/plain": [
       "1×10 Matrix{Float64}:\n",
       " 0.302484  0.0937178  -0.0986124  …  0.363376  0.080201  4.4096  3.68547"
      ]
     },
     "metadata": {},
     "output_type": "display_data"
    }
   ],
   "source": [
    "mean(conhmc, dims=1)"
   ]
  },
  {
   "cell_type": "code",
   "execution_count": 219,
   "metadata": {},
   "outputs": [
    {
     "data": {
      "text/plain": [
       "8000-element Vector{Vector{Float64}}:\n",
       " [0.963432678308572, -0.12668072503992056, 2.4528186669813787, 1.677265566166034, -0.2426708269469322, -1.474201209786235, 0.7868956548009889, 0.07685678971551635, 2.581029577238704, 1.6860354695458857]\n",
       " [0.963432678308572, -0.12668072503992056, 2.4528186669813787, 1.677265566166034, -0.2426708269469322, -1.474201209786235, 0.7868956548009889, 0.07685678971551635, 2.581029577238704, 1.6860354695458857]\n",
       " [-0.21818503925287314, 1.3545169499708658, -2.2838570196936696, -1.605005212877185, 0.7209229456564784, 1.098808031514759, -0.16742983801689965, -0.4485779598957871, -1.367448867808196, 1.8189273592447772]\n",
       " [0.7402931082423165, -1.5150186444072067, 2.280473371718401, 1.405308977660168, -1.1157509452128322, -1.1268654611122335, 0.6024235526227872, 0.5293984076366991, 0.12039436452221583, -0.2717522217723567]\n",
       " [1.3954592767590774, -2.0480776061934476, 1.426408744459492, 1.07019393241283, 0.07623550675109592, -1.0626678964921359, 0.6183037127860472, 0.12515410560054968, -0.3467552698071523, -0.22990771568906926]\n",
       " [-1.6412662179968442, 1.6648397678814244, -1.0038310920721532, -1.552347369518657, 0.94556018053997, 1.2736285206697149, -1.1604504566249743, -0.025277358394317034, 0.17435447685942107, -1.7670146462441005]\n",
       " [0.5498275054283546, -1.9528028458097162, 0.40799326556375864, 1.72058802794129, -1.251486819159438, -0.22911032078243465, 0.12750440367219265, 0.3953802415467184, 1.6262612984753204, 2.0855456803494437]\n",
       " [0.8613441844159667, 1.0306456886639488, -0.14018648313529958, -1.2048153044679457, 0.9789175345614992, 0.20686953348696147, 1.2991197163461572, 1.1908232240995582, 2.834214656380527, 0.848372788525254]\n",
       " [0.9667679782716699, -0.4282275081149825, -1.381952719763705, 1.1397425915353525, -1.2156361735988626, -0.046552264386118314, 0.062097072842165466, -0.2014690734162895, 5.91613004852883, 2.219459259504247]\n",
       " [0.42813778748728176, -0.36660251534788013, 0.20110470406147848, 0.4733798010933369, 1.5530276031021155, -0.5839091794614709, -0.2602120486881363, 0.25963947373725343, 5.241920510979197, 1.371628887554826]\n",
       " ⋮\n",
       " [-1.3608100532499405, 0.39739663471436, 0.18476051090156667, 2.038924488070938, 0.27436468876994013, 0.1510766593004973, 0.183102976028445, 0.15598824333478062, 6.215419665354824, 1.6200642280088566]\n",
       " [-0.1691267197118747, -1.2822376334405305, -1.6009515895010618, 1.705902685117435, -1.2171247269659187, 1.02605247881875, 1.5837618292405695, 1.283364815379964, 6.91289755922314, -1.3592722199891485]\n",
       " [0.7482883213105095, 1.2543137286059882, 1.3724647335819566, -1.5667570785706229, 0.6202441385544973, -1.0550617757771976, -0.8577092655655929, -1.1834067977084852, 3.605630632714004, 0.5735773533705184]\n",
       " [-1.9753561415421481, 0.9808042851608385, 0.9155401068085693, 1.0738924942891788, -0.27465204940841864, 0.19866717161262837, 1.8989845245810586, -0.12938754639476618, 4.844959525162266, 1.3341692060481014]\n",
       " [2.143764041023389, -0.7751139403629, -0.9811083970481757, -0.9421725606587205, 0.21286441811924942, -0.1577476114622223, -1.572005823163761, 0.1744395255629113, 4.648697205361572, 0.18770443084540506]\n",
       " [-1.1651923615664976, 0.3698962231778136, -0.1380991880403019, 1.7835884286850245, -0.0685352338495645, 0.9329668302204531, 1.7881254291411697, 0.5924934711031582, 8.044941110561737, 0.6860944956130831]\n",
       " [0.06284244143678347, 0.27552742188125573, -0.08638221949147257, 0.14075554390334755, -0.0992409834169334, 0.35740932005786563, -0.510103492097768, -0.19545065953532723, 7.988877527484557, 1.1766503597252953]\n",
       " [0.6060085523737868, -0.07825363462775548, 0.03744768733800424, 0.4406160284277141, -0.12532929497383166, -0.3986414383869114, 1.2786049240519153, 0.470091273932164, 2.5207386551588384, 2.389321796188973]\n",
       " [0.04977197705992034, 0.41761275450281965, 0.33872056528654526, -0.2585318430122129, -2.5045807401407854, 0.16134943428343454, 0.22859144776203993, 0.472458623779005, 5.036923102828205, 1.0076517596041192]"
      ]
     },
     "metadata": {},
     "output_type": "display_data"
    }
   ],
   "source": [
    "samples"
   ]
  },
  {
   "cell_type": "code",
   "execution_count": null,
   "metadata": {},
   "outputs": [],
   "source": []
  }
 ],
 "metadata": {
  "kernelspec": {
   "display_name": "Julia 1.8.5",
   "language": "julia",
   "name": "julia-1.8"
  },
  "language_info": {
   "file_extension": ".jl",
   "mimetype": "application/julia",
   "name": "julia",
   "version": "1.8.5"
  },
  "orig_nbformat": 4
 },
 "nbformat": 4,
 "nbformat_minor": 2
}
