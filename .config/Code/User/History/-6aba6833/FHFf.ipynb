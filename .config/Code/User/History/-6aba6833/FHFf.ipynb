{
 "cells": [
  {
   "cell_type": "code",
   "execution_count": 10,
   "metadata": {},
   "outputs": [
    {
     "ename": "ValueError",
     "evalue": "BridgeStan folder '/home/meenaljhajharia/.bridgestan' does not contain file 'Makefile', please ensure it is built properly!\nIf you need to set a different location, call 'set_bridgestan_path()'",
     "output_type": "error",
     "traceback": [
      "\u001b[0;31m---------------------------------------------------------------------------\u001b[0m",
      "\u001b[0;31mValueError\u001b[0m                                Traceback (most recent call last)",
      "Cell \u001b[0;32mIn[10], line 5\u001b[0m\n\u001b[1;32m      2\u001b[0m \u001b[39mfrom\u001b[39;00m \u001b[39mpathlib\u001b[39;00m \u001b[39mimport\u001b[39;00m Path\n\u001b[1;32m      3\u001b[0m \u001b[39mimport\u001b[39;00m \u001b[39mos\u001b[39;00m\n\u001b[0;32m----> 5\u001b[0m bs\u001b[39m.\u001b[39mset_bridgestan_path(\u001b[39m'\u001b[39m\u001b[39m/home/meenaljhajharia/.bridgestan\u001b[39m\u001b[39m'\u001b[39m)\n\u001b[1;32m      6\u001b[0m transform\u001b[39m=\u001b[39m\u001b[39m'\u001b[39m\u001b[39mALR\u001b[39m\u001b[39m'\u001b[39m\n\u001b[1;32m      7\u001b[0m evaluating_model\u001b[39m=\u001b[39m\u001b[39m'\u001b[39m\u001b[39mDirichletSymmetric\u001b[39m\u001b[39m'\u001b[39m\n",
      "File \u001b[0;32m~/anaconda3/envs/stan/lib/python3.11/site-packages/bridgestan/compile.py:47\u001b[0m, in \u001b[0;36mset_bridgestan_path\u001b[0;34m(path)\u001b[0m\n\u001b[1;32m     37\u001b[0m \u001b[39m\"\"\"Set the path to BridgeStan.\u001b[39;00m\n\u001b[1;32m     38\u001b[0m \n\u001b[1;32m     39\u001b[0m \u001b[39mThis should point to the top-level folder of the repository.\u001b[39;00m\n\u001b[0;32m   (...)\u001b[0m\n\u001b[1;32m     44\u001b[0m \u001b[39mto the repository root).\u001b[39;00m\n\u001b[1;32m     45\u001b[0m \u001b[39m\"\"\"\u001b[39;00m\n\u001b[1;32m     46\u001b[0m verify_bridgestan_path(path)\n\u001b[0;32m---> 47\u001b[0m os\u001b[39m.\u001b[39menviron[\u001b[39m\"\u001b[39m\u001b[39mBRIDGESTAN\u001b[39m\u001b[39m\"\u001b[39m] \u001b[39m=\u001b[39m path\n",
      "File \u001b[0;32m~/anaconda3/envs/stan/lib/python3.11/site-packages/bridgestan/compile.py:19\u001b[0m, in \u001b[0;36mverify_bridgestan_path\u001b[0;34m(path)\u001b[0m\n\u001b[1;32m     14\u001b[0m \u001b[39mif\u001b[39;00m \u001b[39mnot\u001b[39;00m folder\u001b[39m.\u001b[39mexists():\n\u001b[1;32m     15\u001b[0m     \u001b[39mraise\u001b[39;00m \u001b[39mValueError\u001b[39;00m(\n\u001b[1;32m     16\u001b[0m         \u001b[39mf\u001b[39m\u001b[39m\"\u001b[39m\u001b[39mBridgeStan folder \u001b[39m\u001b[39m'\u001b[39m\u001b[39m{\u001b[39;00mfolder\u001b[39m}\u001b[39;00m\u001b[39m'\u001b[39m\u001b[39m does not exist!\u001b[39m\u001b[39m\\n\u001b[39;00m\u001b[39m\"\u001b[39m\n\u001b[1;32m     17\u001b[0m         \u001b[39m\"\u001b[39m\u001b[39mIf you need to set a different location, call \u001b[39m\u001b[39m'\u001b[39m\u001b[39mset_bridgestan_path()\u001b[39m\u001b[39m'\u001b[39m\u001b[39m\"\u001b[39m\n\u001b[1;32m     18\u001b[0m     )\n\u001b[0;32m---> 19\u001b[0m makefile \u001b[39m=\u001b[39m folder \u001b[39m/\u001b[39m \u001b[39m\"\u001b[39m\u001b[39mMakefile\u001b[39m\u001b[39m\"\u001b[39m\n\u001b[1;32m     20\u001b[0m \u001b[39mif\u001b[39;00m \u001b[39mnot\u001b[39;00m makefile\u001b[39m.\u001b[39mexists():\n\u001b[1;32m     21\u001b[0m     \u001b[39mraise\u001b[39;00m \u001b[39mValueError\u001b[39;00m(\n\u001b[1;32m     22\u001b[0m         \u001b[39mf\u001b[39m\u001b[39m\"\u001b[39m\u001b[39mBridgeStan folder \u001b[39m\u001b[39m'\u001b[39m\u001b[39m{\u001b[39;00mfolder\u001b[39m}\u001b[39;00m\u001b[39m'\u001b[39m\u001b[39m does not \u001b[39m\u001b[39m\"\u001b[39m\n\u001b[1;32m     23\u001b[0m         \u001b[39m\"\u001b[39m\u001b[39mcontain file \u001b[39m\u001b[39m'\u001b[39m\u001b[39mMakefile\u001b[39m\u001b[39m'\u001b[39m\u001b[39m, please ensure it is built properly!\u001b[39m\u001b[39m\\n\u001b[39;00m\u001b[39m\"\u001b[39m\n\u001b[1;32m     24\u001b[0m         \u001b[39m\"\u001b[39m\u001b[39mIf you need to set a different location, call \u001b[39m\u001b[39m'\u001b[39m\u001b[39mset_bridgestan_path()\u001b[39m\u001b[39m'\u001b[39m\u001b[39m\"\u001b[39m\n\u001b[1;32m     25\u001b[0m     )\n",
      "\u001b[0;31mValueError\u001b[0m: BridgeStan folder '/home/meenaljhajharia/.bridgestan' does not contain file 'Makefile', please ensure it is built properly!\nIf you need to set a different location, call 'set_bridgestan_path()'"
     ]
    }
   ],
   "source": [
    "\n",
    "import bridgestan as bs\n",
    "from pathlib import Path\n",
    "import os\n",
    "\n",
    "bs.set_bridgestan_path('/home/meenaljhajharia/.bridgestan')\n",
    "transform='ALR'\n",
    "evaluating_model='DirichletSymmetric'\n",
    "stan_filename=f'stan_models/{transform}_{evaluating_model}.stan'\n",
    "Path(\"stan_models\").mkdir(parents=True, exist_ok=True)\n",
    "\n",
    "with open(stan_filename, 'w') as f:\n",
    "    f.write(f'#include ../../../github/mjhajharia/simplex-transforms/stan_models/DirichletSymmetric.stan{os.linesep}#include ../../../github/mjhajharia/simplex-transforms/transforms/{transform}.stan{os.linesep}')\n",
    "    f.close()\n",
    "\n",
    "data={'alpha':[0.1,0.1,0.1,0.1,0.1,0.1,0.1,0.1,0.1,0.1], 'N':10}\n",
    "with open('data.json', 'w') as fp:\n",
    "    json.dump(data, fp)\n",
    "\n",
    "model = bs.StanModel.from_stan_file(stan_filename, data)"
   ]
  },
  {
   "cell_type": "code",
   "execution_count": null,
   "metadata": {},
   "outputs": [],
   "source": []
  }
 ],
 "metadata": {
  "kernelspec": {
   "display_name": "stan",
   "language": "python",
   "name": "python3"
  },
  "language_info": {
   "codemirror_mode": {
    "name": "ipython",
    "version": 3
   },
   "file_extension": ".py",
   "mimetype": "text/x-python",
   "name": "python",
   "nbconvert_exporter": "python",
   "pygments_lexer": "ipython3",
   "version": "3.11.2"
  },
  "orig_nbformat": 4
 },
 "nbformat": 4,
 "nbformat_minor": 2
}
