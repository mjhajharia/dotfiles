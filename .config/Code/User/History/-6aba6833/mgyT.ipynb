{
 "cells": [
  {
   "cell_type": "code",
   "execution_count": 14,
   "metadata": {},
   "outputs": [
    {
     "ename": "AttributeError",
     "evalue": "'dict' object has no attribute 'endswith'",
     "output_type": "error",
     "traceback": [
      "\u001b[0;31m---------------------------------------------------------------------------\u001b[0m",
      "\u001b[0;31mAttributeError\u001b[0m                            Traceback (most recent call last)",
      "Cell \u001b[0;32mIn[14], line 20\u001b[0m\n\u001b[1;32m     17\u001b[0m \u001b[39mwith\u001b[39;00m \u001b[39mopen\u001b[39m(\u001b[39m'\u001b[39m\u001b[39mdata.json\u001b[39m\u001b[39m'\u001b[39m, \u001b[39m'\u001b[39m\u001b[39mw\u001b[39m\u001b[39m'\u001b[39m) \u001b[39mas\u001b[39;00m fp:\n\u001b[1;32m     18\u001b[0m     json\u001b[39m.\u001b[39mdump(data, fp)\n\u001b[0;32m---> 20\u001b[0m model \u001b[39m=\u001b[39m bs\u001b[39m.\u001b[39mStanModel\u001b[39m.\u001b[39mfrom_stan_file(stan_filename, data)\n",
      "File \u001b[0;32m~/anaconda3/envs/stan/lib/python3.11/site-packages/bridgestan/model.py:199\u001b[0m, in \u001b[0;36mStanModel.from_stan_file\u001b[0;34m(cls, stan_file, model_data, stanc_args, make_args, seed, chain_id)\u001b[0m\n\u001b[1;32m    176\u001b[0m \u001b[39m\"\"\"\u001b[39;00m\n\u001b[1;32m    177\u001b[0m \u001b[39mConstruct a StanModel instance from a ``.stan`` file, compiling if necessary.\u001b[39;00m\n\u001b[1;32m    178\u001b[0m \n\u001b[0;32m   (...)\u001b[0m\n\u001b[1;32m    196\u001b[0m \u001b[39m:raises RuntimeError: If compilation fails.\u001b[39;00m\n\u001b[1;32m    197\u001b[0m \u001b[39m\"\"\"\u001b[39;00m\n\u001b[1;32m    198\u001b[0m result \u001b[39m=\u001b[39m compile_model(stan_file, stanc_args\u001b[39m=\u001b[39mstanc_args, make_args\u001b[39m=\u001b[39mmake_args)\n\u001b[0;32m--> 199\u001b[0m \u001b[39mreturn\u001b[39;00m \u001b[39mcls\u001b[39m(\u001b[39mstr\u001b[39m(result), model_data, seed\u001b[39m=\u001b[39mseed, chain_id\u001b[39m=\u001b[39mchain_id)\n",
      "File \u001b[0;32m~/anaconda3/envs/stan/lib/python3.11/site-packages/bridgestan/model.py:59\u001b[0m, in \u001b[0;36m__init__\u001b[0;34m(self, model_lib, model_data, seed, chain_id)\u001b[0m\n\u001b[1;32m     31\u001b[0m \u001b[39mdef\u001b[39;00m \u001b[39m__init__\u001b[39m(\n\u001b[1;32m     32\u001b[0m     \u001b[39mself\u001b[39m,\n\u001b[1;32m     33\u001b[0m     model_lib: \u001b[39mstr\u001b[39m,\n\u001b[0;32m   (...)\u001b[0m\n\u001b[1;32m     37\u001b[0m     capture_stan_prints: \u001b[39mbool\u001b[39m \u001b[39m=\u001b[39m \u001b[39mTrue\u001b[39;00m,\n\u001b[1;32m     38\u001b[0m ) \u001b[39m-\u001b[39m\u001b[39m>\u001b[39m \u001b[39mNone\u001b[39;00m:\n\u001b[1;32m     39\u001b[0m     \u001b[39m\"\"\"\u001b[39;00m\n\u001b[1;32m     40\u001b[0m \u001b[39m    Construct a StanModel object for a compiled Stan model and data given\u001b[39;00m\n\u001b[1;32m     41\u001b[0m \u001b[39m    constructor arguments.\u001b[39;00m\n\u001b[1;32m     42\u001b[0m \n\u001b[1;32m     43\u001b[0m \u001b[39m    :param model_lib: A system path to compiled shared object.\u001b[39;00m\n\u001b[1;32m     44\u001b[0m \u001b[39m    :param model_data: Either a JSON string literal, a\u001b[39;00m\n\u001b[1;32m     45\u001b[0m \u001b[39m        system path to a data file in JSON format ending in ``.json``,\u001b[39;00m\n\u001b[1;32m     46\u001b[0m \u001b[39m        or the empty string.\u001b[39;00m\n\u001b[1;32m     47\u001b[0m \u001b[39m    :param seed: A pseudo random number generator seed, used for RNG functions\u001b[39;00m\n\u001b[1;32m     48\u001b[0m \u001b[39m        in the ``transformed data`` block.\u001b[39;00m\n\u001b[1;32m     49\u001b[0m \u001b[39m    :param capture_stan_prints: If ``True``, capture all ``print`` statements\u001b[39;00m\n\u001b[1;32m     50\u001b[0m \u001b[39m        from the Stan model and print them from Python. This has no effect if\u001b[39;00m\n\u001b[1;32m     51\u001b[0m \u001b[39m        the model does not contain any ``print`` statements, but may have\u001b[39;00m\n\u001b[1;32m     52\u001b[0m \u001b[39m        a performance impact if it does. If ``False``, ``print`` statements\u001b[39;00m\n\u001b[1;32m     53\u001b[0m \u001b[39m        from the Stan model will be sent to ``cout`` and will not be seen in\u001b[39;00m\n\u001b[1;32m     54\u001b[0m \u001b[39m        Jupyter or capturable with :func:`contextlib.redirect_stdout`.\u001b[39;00m\n\u001b[1;32m     55\u001b[0m \n\u001b[1;32m     56\u001b[0m \u001b[39m        **Note:** If this is set for a model, any other models instantiated\u001b[39;00m\n\u001b[1;32m     57\u001b[0m \u001b[39m        from the *same shared library* will also have the callback set, even\u001b[39;00m\n\u001b[1;32m     58\u001b[0m \u001b[39m        if they were created *before* this model.\u001b[39;00m\n\u001b[0;32m---> 59\u001b[0m \u001b[39m    :raises FileNotFoundError or PermissionError: If ``model_lib`` is not readable or\u001b[39;00m\n\u001b[1;32m     60\u001b[0m \u001b[39m        ``model_data`` is specified and not a path to a readable file.\u001b[39;00m\n\u001b[1;32m     61\u001b[0m \u001b[39m    :raises RuntimeError: If there is an error instantiating the\u001b[39;00m\n\u001b[1;32m     62\u001b[0m \u001b[39m        model from C++.\u001b[39;00m\n\u001b[1;32m     63\u001b[0m \u001b[39m    \"\"\"\u001b[39;00m\n\u001b[1;32m     64\u001b[0m     validate_readable(model_lib)\n\u001b[1;32m     65\u001b[0m     \u001b[39mif\u001b[39;00m  model_data \u001b[39mis\u001b[39;00m \u001b[39mnot\u001b[39;00m \u001b[39mNone\u001b[39;00m \u001b[39mand\u001b[39;00m model_data\u001b[39m.\u001b[39mendswith(\u001b[39m\"\u001b[39m\u001b[39m.json\u001b[39m\u001b[39m\"\u001b[39m):\n",
      "\u001b[0;31mAttributeError\u001b[0m: 'dict' object has no attribute 'endswith'"
     ]
    }
   ],
   "source": [
    "\n",
    "import bridgestan as bs\n",
    "from pathlib import Path\n",
    "import os\n",
    "\n",
    "bs.set_bridgestan_path('/home/meenaljhajharia/.bridgestan/bridgestan-2.0.0')\n",
    "transform='ALR'\n",
    "evaluating_model='DirichletSymmetric'\n",
    "stan_filename=f'stan_models/{transform}_{evaluating_model}.stan'\n",
    "Path(\"stan_models\").mkdir(parents=True, exist_ok=True)\n",
    "\n",
    "with open(stan_filename, 'w') as f:\n",
    "    f.write(f'#include ../../github/mjhajharia/simplex-transforms/stan_models/DirichletSymmetric.stan{os.linesep}#include ../../github/mjhajharia/simplex-transforms/transforms/{transform}.stan{os.linesep}')\n",
    "    f.close()\n",
    "\n",
    "import json\n",
    "data={'alpha':[0.1,0.1,0.1,0.1,0.1,0.1,0.1,0.1,0.1,0.1], 'N':10}\n",
    "with open('data.json', 'w') as fp:\n",
    "    json.dump(data, fp)\n",
    "\n",
    "model = bs.StanModel.from_stan_file(stan_filename, data)"
   ]
  },
  {
   "cell_type": "code",
   "execution_count": null,
   "metadata": {},
   "outputs": [],
   "source": []
  }
 ],
 "metadata": {
  "kernelspec": {
   "display_name": "stan",
   "language": "python",
   "name": "python3"
  },
  "language_info": {
   "codemirror_mode": {
    "name": "ipython",
    "version": 3
   },
   "file_extension": ".py",
   "mimetype": "text/x-python",
   "name": "python",
   "nbconvert_exporter": "python",
   "pygments_lexer": "ipython3",
   "version": "3.11.2"
  },
  "orig_nbformat": 4
 },
 "nbformat": 4,
 "nbformat_minor": 2
}
