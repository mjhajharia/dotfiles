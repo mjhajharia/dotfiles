{
 "cells": [
  {
   "cell_type": "code",
   "execution_count": 18,
   "metadata": {},
   "outputs": [
    {
     "ename": "ValueError",
     "evalue": "BridgeStan folder '/home/meenaljhajharia/.bridgestan/bridgestan-2.0.0' does not exist!\nIf you need to set a different location, call 'set_bridgestan_path()'",
     "output_type": "error",
     "traceback": [
      "\u001b[0;31m---------------------------------------------------------------------------\u001b[0m",
      "\u001b[0;31mValueError\u001b[0m                                Traceback (most recent call last)",
      "Cell \u001b[0;32mIn[18], line 19\u001b[0m\n\u001b[1;32m     16\u001b[0m \u001b[39mwith\u001b[39;00m \u001b[39mopen\u001b[39m(\u001b[39m'\u001b[39m\u001b[39mdata.json\u001b[39m\u001b[39m'\u001b[39m, \u001b[39m'\u001b[39m\u001b[39mw\u001b[39m\u001b[39m'\u001b[39m) \u001b[39mas\u001b[39;00m fp:\n\u001b[1;32m     17\u001b[0m     json\u001b[39m.\u001b[39mdump(data, fp)\n\u001b[0;32m---> 19\u001b[0m model \u001b[39m=\u001b[39m bs\u001b[39m.\u001b[39mStanModel\u001b[39m.\u001b[39mfrom_stan_file(stan_filename, \u001b[39m'\u001b[39m\u001b[39mdata.json\u001b[39m\u001b[39m'\u001b[39m, stanc_args\u001b[39m=\u001b[39m[\u001b[39m\"\u001b[39m\u001b[39m--include_paths=\u001b[39m\u001b[39m'\u001b[39m\u001b[39m/home/meenaljhajharia/github/mjhajharia/simplex-transforms\u001b[39m\u001b[39m'\u001b[39m\u001b[39m\"\u001b[39m])\n",
      "File \u001b[0;32m~/anaconda3/envs/stan/lib/python3.11/site-packages/bridgestan/model.py:198\u001b[0m, in \u001b[0;36mStanModel.from_stan_file\u001b[0;34m(cls, stan_file, model_data, stanc_args, make_args, seed, chain_id)\u001b[0m\n\u001b[1;32m    165\u001b[0m \u001b[39m@classmethod\u001b[39m\n\u001b[1;32m    166\u001b[0m \u001b[39mdef\u001b[39;00m \u001b[39mfrom_stan_file\u001b[39m(\n\u001b[1;32m    167\u001b[0m     \u001b[39mcls\u001b[39m,\n\u001b[0;32m   (...)\u001b[0m\n\u001b[1;32m    174\u001b[0m     chain_id: \u001b[39mint\u001b[39m \u001b[39m=\u001b[39m \u001b[39m0\u001b[39m,\n\u001b[1;32m    175\u001b[0m ):\n\u001b[1;32m    176\u001b[0m     \u001b[39m\"\"\"\u001b[39;00m\n\u001b[1;32m    177\u001b[0m \u001b[39m    Construct a StanModel instance from a ``.stan`` file, compiling if necessary.\u001b[39;00m\n\u001b[1;32m    178\u001b[0m \n\u001b[0;32m   (...)\u001b[0m\n\u001b[1;32m    196\u001b[0m \u001b[39m    :raises RuntimeError: If compilation fails.\u001b[39;00m\n\u001b[1;32m    197\u001b[0m \u001b[39m    \"\"\"\u001b[39;00m\n\u001b[0;32m--> 198\u001b[0m     result \u001b[39m=\u001b[39m compile_model(stan_file, stanc_args\u001b[39m=\u001b[39mstanc_args, make_args\u001b[39m=\u001b[39mmake_args)\n\u001b[1;32m    199\u001b[0m     \u001b[39mreturn\u001b[39;00m \u001b[39mcls\u001b[39m(\u001b[39mstr\u001b[39m(result), model_data, seed\u001b[39m=\u001b[39mseed, chain_id\u001b[39m=\u001b[39mchain_id)\n",
      "File \u001b[0;32m~/anaconda3/envs/stan/lib/python3.11/site-packages/bridgestan/compile.py:78\u001b[0m, in \u001b[0;36mcompile_model\u001b[0;34m(stan_file, stanc_args, make_args)\u001b[0m\n\u001b[1;32m     72\u001b[0m \u001b[39mdef\u001b[39;00m \u001b[39mcompile_model\u001b[39m(\n\u001b[1;32m     73\u001b[0m     stan_file: \u001b[39mstr\u001b[39m, \u001b[39m*\u001b[39m, stanc_args: List[\u001b[39mstr\u001b[39m] \u001b[39m=\u001b[39m [], make_args: List[\u001b[39mstr\u001b[39m] \u001b[39m=\u001b[39m []\n\u001b[1;32m     74\u001b[0m ) \u001b[39m-\u001b[39m\u001b[39m>\u001b[39m Path:\n\u001b[1;32m     75\u001b[0m     \u001b[39m\"\"\"\u001b[39;00m\n\u001b[1;32m     76\u001b[0m \u001b[39m    Run BridgeStan's Makefile on a ``.stan`` file, creating the ``.so``\u001b[39;00m\n\u001b[1;32m     77\u001b[0m \u001b[39m    used by the StanModel class.\u001b[39;00m\n\u001b[0;32m---> 78\u001b[0m \n\u001b[1;32m     79\u001b[0m \u001b[39m    This function assumes that the path to BridgeStan is valid.\u001b[39;00m\n\u001b[1;32m     80\u001b[0m \u001b[39m    This can be set with :func:`set_bridgestan_path`.\u001b[39;00m\n\u001b[1;32m     81\u001b[0m \n\u001b[1;32m     82\u001b[0m \u001b[39m    :param stan_file: A path to a Stan model file.\u001b[39;00m\n\u001b[1;32m     83\u001b[0m \u001b[39m    :param stanc_args: A list of arguments to pass to stanc3.\u001b[39;00m\n\u001b[1;32m     84\u001b[0m \u001b[39m        For example, ``[\"--O1\"]`` will enable compiler optimization level 1.\u001b[39;00m\n\u001b[1;32m     85\u001b[0m \u001b[39m    :param make_args: A list of additional arguments to pass to Make.\u001b[39;00m\n\u001b[1;32m     86\u001b[0m \u001b[39m        For example, ``[\"STAN_THREADS=True\"]`` will enable\u001b[39;00m\n\u001b[1;32m     87\u001b[0m \u001b[39m        threading for the compiled model. If the same flags are defined\u001b[39;00m\n\u001b[1;32m     88\u001b[0m \u001b[39m        in ``make/local``, the versions passed here will take precedent.\u001b[39;00m\n\u001b[1;32m     89\u001b[0m \u001b[39m    :raises FileNotFoundError or PermissionError: If `stan_file` does not exist\u001b[39;00m\n\u001b[1;32m     90\u001b[0m \u001b[39m        or is not readable.\u001b[39;00m\n\u001b[1;32m     91\u001b[0m \u001b[39m    :raises ValueError: If BridgeStan cannot be located.\u001b[39;00m\n\u001b[1;32m     92\u001b[0m \u001b[39m    :raises RuntimeError: If compilation fails.\u001b[39;00m\n\u001b[1;32m     93\u001b[0m \u001b[39m    \"\"\"\u001b[39;00m\n\u001b[1;32m     94\u001b[0m     verify_bridgestan_path(get_bridgestan_path())\n\u001b[1;32m     96\u001b[0m     file_path \u001b[39m=\u001b[39m Path(stan_file)\u001b[39m.\u001b[39mresolve()\n",
      "File \u001b[0;32m~/anaconda3/envs/stan/lib/python3.11/site-packages/bridgestan/compile.py:13\u001b[0m, in \u001b[0;36mverify_bridgestan_path\u001b[0;34m(path)\u001b[0m\n\u001b[1;32m     12\u001b[0m \u001b[39mdef\u001b[39;00m \u001b[39mverify_bridgestan_path\u001b[39m(path: \u001b[39mstr\u001b[39m) \u001b[39m-\u001b[39m\u001b[39m>\u001b[39m \u001b[39mNone\u001b[39;00m:\n\u001b[0;32m---> 13\u001b[0m     folder \u001b[39m=\u001b[39m Path(path)\u001b[39m.\u001b[39mresolve()\n\u001b[1;32m     14\u001b[0m     \u001b[39mif\u001b[39;00m \u001b[39mnot\u001b[39;00m folder\u001b[39m.\u001b[39mexists():\n\u001b[1;32m     15\u001b[0m         \u001b[39mraise\u001b[39;00m \u001b[39mValueError\u001b[39;00m(\n\u001b[1;32m     16\u001b[0m             \u001b[39mf\u001b[39m\u001b[39m\"\u001b[39m\u001b[39mBridgeStan folder \u001b[39m\u001b[39m'\u001b[39m\u001b[39m{\u001b[39;00mfolder\u001b[39m}\u001b[39;00m\u001b[39m'\u001b[39m\u001b[39m does not exist!\u001b[39m\u001b[39m\\n\u001b[39;00m\u001b[39m\"\u001b[39m\n\u001b[1;32m     17\u001b[0m             \u001b[39m\"\u001b[39m\u001b[39mIf you need to set a different location, call \u001b[39m\u001b[39m'\u001b[39m\u001b[39mset_bridgestan_path()\u001b[39m\u001b[39m'\u001b[39m\u001b[39m\"\u001b[39m\n\u001b[1;32m     18\u001b[0m         )\n",
      "\u001b[0;31mValueError\u001b[0m: BridgeStan folder '/home/meenaljhajharia/.bridgestan/bridgestan-2.0.0' does not exist!\nIf you need to set a different location, call 'set_bridgestan_path()'"
     ]
    }
   ],
   "source": [
    "\n",
    "import bridgestan as bs\n",
    "from pathlib import Path\n",
    "import os\n",
    "\n",
    "transform='ALR'\n",
    "evaluating_model='DirichletSymmetric'\n",
    "stan_filename=f'stan_models/{transform}_{evaluating_model}.stan'\n",
    "Path(\"stan_models\").mkdir(parents=True, exist_ok=True)\n",
    "\n",
    "with open(stan_filename, 'w') as f:\n",
    "    f.write(f'#include stan_models/DirichletSymmetric.stan{os.linesep}#include transforms/{transform}.stan{os.linesep}')\n",
    "    f.close()\n",
    "\n",
    "import json\n",
    "data={'alpha':[0.1,0.1,0.1,0.1,0.1,0.1,0.1,0.1,0.1,0.1], 'N':10}\n",
    "with open('data.json', 'w') as fp:\n",
    "    json.dump(data, fp)\n",
    "\n",
    "model = bs.StanModel.from_stan_file(stan_filename, 'data.json', stanc_args=[\"--include_paths='/home/meenaljhajharia/github/mjhajharia/simplex-transforms'\"])"
   ]
  },
  {
   "cell_type": "code",
   "execution_count": null,
   "metadata": {},
   "outputs": [],
   "source": []
  }
 ],
 "metadata": {
  "kernelspec": {
   "display_name": "stan",
   "language": "python",
   "name": "python3"
  },
  "language_info": {
   "codemirror_mode": {
    "name": "ipython",
    "version": 3
   },
   "file_extension": ".py",
   "mimetype": "text/x-python",
   "name": "python",
   "nbconvert_exporter": "python",
   "pygments_lexer": "ipython3",
   "version": "3.11.2"
  },
  "orig_nbformat": 4
 },
 "nbformat": 4,
 "nbformat_minor": 2
}
