{
 "cells": [
  {
   "cell_type": "code",
   "execution_count": 2,
   "metadata": {},
   "outputs": [
    {
     "ename": "RuntimeError",
     "evalue": "Command make STANCFLAGS=--include-paths=. /home/meenaljhajharia/github/mjhajharia/simplex-transforms/stan_models/ALR_DirichletSymmetric_model.so failed with code 2.\nstdout:\n\n--- Translating Stan model to C++ code ---\n./bin/stanc --include-paths=. --o=/home/meenaljhajharia/github/mjhajharia/simplex-transforms/stan_models/ALR_DirichletSymmetric.hpp /home/meenaljhajharia/github/mjhajharia/simplex-transforms/stan_models/ALR_DirichletSymmetric.stan\n\nstderr:\nSyntax error in '/home/meenaljhajharia/github/mjhajharia/simplex-transforms/stan_models/ALR_DirichletSymmetric.stan', line 1, column 0, include error:\n   -------------------------------------------------\n     1:  #include target_densities/DirichletSymmetric.stan\n         ^\n     2:  #include ../transforms/ALR.stan\n   -------------------------------------------------\n\nCould not find include file 'target_densities/DirichletSymmetric.stan' in specified include paths.\nCurrent include paths: .\nmake: *** [Makefile:53: /home/meenaljhajharia/github/mjhajharia/simplex-transforms/stan_models/ALR_DirichletSymmetric.hpp] Error 1\n",
     "output_type": "error",
     "traceback": [
      "\u001b[0;31m---------------------------------------------------------------------------\u001b[0m",
      "\u001b[0;31mRuntimeError\u001b[0m                              Traceback (most recent call last)",
      "Cell \u001b[0;32mIn[2], line 16\u001b[0m\n\u001b[1;32m     13\u001b[0m     f\u001b[39m.\u001b[39mclose()\n\u001b[1;32m     15\u001b[0m data\u001b[39m=\u001b[39m\u001b[39m\"\u001b[39m\u001b[39m{\u001b[39m\u001b[39m'\u001b[39m\u001b[39malpha\u001b[39m\u001b[39m'\u001b[39m\u001b[39m:[0.1]*10, \u001b[39m\u001b[39m'\u001b[39m\u001b[39mN\u001b[39m\u001b[39m'\u001b[39m\u001b[39m:10}\u001b[39m\u001b[39m\"\u001b[39m\n\u001b[0;32m---> 16\u001b[0m model \u001b[39m=\u001b[39m bs\u001b[39m.\u001b[39mStanModel\u001b[39m.\u001b[39mfrom_stan_file(stan_filename, data)\n",
      "File \u001b[0;32m~/anaconda3/envs/stan/lib/python3.11/site-packages/bridgestan/model.py:198\u001b[0m, in \u001b[0;36mStanModel.from_stan_file\u001b[0;34m(cls, stan_file, model_data, stanc_args, make_args, seed, chain_id)\u001b[0m\n\u001b[1;32m    165\u001b[0m \u001b[39m@classmethod\u001b[39m\n\u001b[1;32m    166\u001b[0m \u001b[39mdef\u001b[39;00m \u001b[39mfrom_stan_file\u001b[39m(\n\u001b[1;32m    167\u001b[0m     \u001b[39mcls\u001b[39m,\n\u001b[0;32m   (...)\u001b[0m\n\u001b[1;32m    174\u001b[0m     chain_id: \u001b[39mint\u001b[39m \u001b[39m=\u001b[39m \u001b[39m0\u001b[39m,\n\u001b[1;32m    175\u001b[0m ):\n\u001b[1;32m    176\u001b[0m     \u001b[39m\"\"\"\u001b[39;00m\n\u001b[1;32m    177\u001b[0m \u001b[39m    Construct a StanModel instance from a ``.stan`` file, compiling if necessary.\u001b[39;00m\n\u001b[1;32m    178\u001b[0m \n\u001b[0;32m   (...)\u001b[0m\n\u001b[1;32m    196\u001b[0m \u001b[39m    :raises RuntimeError: If compilation fails.\u001b[39;00m\n\u001b[1;32m    197\u001b[0m \u001b[39m    \"\"\"\u001b[39;00m\n\u001b[0;32m--> 198\u001b[0m     result \u001b[39m=\u001b[39m compile_model(stan_file, stanc_args\u001b[39m=\u001b[39mstanc_args, make_args\u001b[39m=\u001b[39mmake_args)\n\u001b[1;32m    199\u001b[0m     \u001b[39mreturn\u001b[39;00m \u001b[39mcls\u001b[39m(\u001b[39mstr\u001b[39m(result), model_data, seed\u001b[39m=\u001b[39mseed, chain_id\u001b[39m=\u001b[39mchain_id)\n",
      "File \u001b[0;32m~/anaconda3/envs/stan/lib/python3.11/site-packages/bridgestan/compile.py:103\u001b[0m, in \u001b[0;36mcompile_model\u001b[0;34m(stan_file, stanc_args, make_args)\u001b[0m\n\u001b[1;32m     97\u001b[0m \u001b[39mif\u001b[39;00m proc\u001b[39m.\u001b[39mreturncode:\n\u001b[1;32m     98\u001b[0m     error \u001b[39m=\u001b[39m (\n\u001b[1;32m     99\u001b[0m         \u001b[39mf\u001b[39m\u001b[39m\"\u001b[39m\u001b[39mCommand \u001b[39m\u001b[39m{\u001b[39;00m\u001b[39m'\u001b[39m\u001b[39m \u001b[39m\u001b[39m'\u001b[39m\u001b[39m.\u001b[39mjoin(cmd)\u001b[39m}\u001b[39;00m\u001b[39m failed with code \u001b[39m\u001b[39m{\u001b[39;00mproc\u001b[39m.\u001b[39mreturncode\u001b[39m}\u001b[39;00m\u001b[39m.\u001b[39m\u001b[39m\\n\u001b[39;00m\u001b[39m\"\u001b[39m\n\u001b[1;32m    100\u001b[0m         \u001b[39mf\u001b[39m\u001b[39m\"\u001b[39m\u001b[39mstdout:\u001b[39m\u001b[39m\\n\u001b[39;00m\u001b[39m{\u001b[39;00mproc\u001b[39m.\u001b[39mstdout\u001b[39m}\u001b[39;00m\u001b[39m\\n\u001b[39;00m\u001b[39mstderr:\u001b[39m\u001b[39m\\n\u001b[39;00m\u001b[39m{\u001b[39;00mproc\u001b[39m.\u001b[39mstderr\u001b[39m}\u001b[39;00m\u001b[39m\"\u001b[39m\n\u001b[1;32m    101\u001b[0m     )\n\u001b[0;32m--> 103\u001b[0m     \u001b[39mraise\u001b[39;00m \u001b[39mRuntimeError\u001b[39;00m(error)\n\u001b[1;32m    104\u001b[0m \u001b[39mreturn\u001b[39;00m output\n",
      "\u001b[0;31mRuntimeError\u001b[0m: Command make STANCFLAGS=--include-paths=. /home/meenaljhajharia/github/mjhajharia/simplex-transforms/stan_models/ALR_DirichletSymmetric_model.so failed with code 2.\nstdout:\n\n--- Translating Stan model to C++ code ---\n./bin/stanc --include-paths=. --o=/home/meenaljhajharia/github/mjhajharia/simplex-transforms/stan_models/ALR_DirichletSymmetric.hpp /home/meenaljhajharia/github/mjhajharia/simplex-transforms/stan_models/ALR_DirichletSymmetric.stan\n\nstderr:\nSyntax error in '/home/meenaljhajharia/github/mjhajharia/simplex-transforms/stan_models/ALR_DirichletSymmetric.stan', line 1, column 0, include error:\n   -------------------------------------------------\n     1:  #include target_densities/DirichletSymmetric.stan\n         ^\n     2:  #include ../transforms/ALR.stan\n   -------------------------------------------------\n\nCould not find include file 'target_densities/DirichletSymmetric.stan' in specified include paths.\nCurrent include paths: .\nmake: *** [Makefile:53: /home/meenaljhajharia/github/mjhajharia/simplex-transforms/stan_models/ALR_DirichletSymmetric.hpp] Error 1\n"
     ]
    }
   ],
   "source": [
    "\n",
    "import bridgestan as bs\n",
    "from pathlib import Path\n",
    "import os\n",
    "\n",
    "bs.set_bridgestan_path('/home/meenaljhajharia/github/roualdes/bridgestan')\n",
    "transform='ALR'\n",
    "evaluating_model='DirichletSymmetric'\n",
    "stan_filename=f'stan_models/{transform}_{evaluating_model}.stan'\n",
    "Path(\"stan_models\").mkdir(parents=True, exist_ok=True)\n",
    "\n",
    "with open(stan_filename, 'w') as f:\n",
    "    f.write(f'#include target_densities/{evaluating_model}.stan{os.linesep}#include ../transforms/{transform}.stan{os.linesep}')\n",
    "    f.close()\n",
    "\n",
    "data=\"{'alpha':[0.1]*10, 'N':10}\"\n",
    "model = bs.StanModel.from_stan_file(stan_filename, data)"
   ]
  },
  {
   "cell_type": "code",
   "execution_count": null,
   "metadata": {},
   "outputs": [],
   "source": []
  }
 ],
 "metadata": {
  "kernelspec": {
   "display_name": "stan",
   "language": "python",
   "name": "python3"
  },
  "language_info": {
   "codemirror_mode": {
    "name": "ipython",
    "version": 3
   },
   "file_extension": ".py",
   "mimetype": "text/x-python",
   "name": "python",
   "nbconvert_exporter": "python",
   "pygments_lexer": "ipython3",
   "version": "3.11.2"
  },
  "orig_nbformat": 4
 },
 "nbformat": 4,
 "nbformat_minor": 2
}
