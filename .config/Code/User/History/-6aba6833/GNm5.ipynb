{
 "cells": [
  {
   "cell_type": "code",
   "execution_count": 15,
   "metadata": {},
   "outputs": [
    {
     "ename": "AttributeError",
     "evalue": "/home/meenaljhajharia/github/mjhajharia/simplex-transforms/stan_models/ALR_DirichletSymmetric_model.so: undefined symbol: bs_construct",
     "output_type": "error",
     "traceback": [
      "\u001b[0;31m---------------------------------------------------------------------------\u001b[0m",
      "\u001b[0;31mAttributeError\u001b[0m                            Traceback (most recent call last)",
      "Cell \u001b[0;32mIn[15], line 20\u001b[0m\n\u001b[1;32m     17\u001b[0m \u001b[39mwith\u001b[39;00m \u001b[39mopen\u001b[39m(\u001b[39m'\u001b[39m\u001b[39mdata.json\u001b[39m\u001b[39m'\u001b[39m, \u001b[39m'\u001b[39m\u001b[39mw\u001b[39m\u001b[39m'\u001b[39m) \u001b[39mas\u001b[39;00m fp:\n\u001b[1;32m     18\u001b[0m     json\u001b[39m.\u001b[39mdump(data, fp)\n\u001b[0;32m---> 20\u001b[0m model \u001b[39m=\u001b[39m bs\u001b[39m.\u001b[39mStanModel\u001b[39m.\u001b[39mfrom_stan_file(stan_filename, \u001b[39m'\u001b[39m\u001b[39mdata.json\u001b[39m\u001b[39m'\u001b[39m)\n",
      "File \u001b[0;32m~/anaconda3/envs/stan/lib/python3.11/site-packages/bridgestan/model.py:199\u001b[0m, in \u001b[0;36mStanModel.from_stan_file\u001b[0;34m(cls, stan_file, model_data, stanc_args, make_args, seed, chain_id)\u001b[0m\n\u001b[1;32m    176\u001b[0m \u001b[39m\"\"\"\u001b[39;00m\n\u001b[1;32m    177\u001b[0m \u001b[39mConstruct a StanModel instance from a ``.stan`` file, compiling if necessary.\u001b[39;00m\n\u001b[1;32m    178\u001b[0m \n\u001b[0;32m   (...)\u001b[0m\n\u001b[1;32m    196\u001b[0m \u001b[39m:raises RuntimeError: If compilation fails.\u001b[39;00m\n\u001b[1;32m    197\u001b[0m \u001b[39m\"\"\"\u001b[39;00m\n\u001b[1;32m    198\u001b[0m result \u001b[39m=\u001b[39m compile_model(stan_file, stanc_args\u001b[39m=\u001b[39mstanc_args, make_args\u001b[39m=\u001b[39mmake_args)\n\u001b[0;32m--> 199\u001b[0m \u001b[39mreturn\u001b[39;00m \u001b[39mcls\u001b[39m(\u001b[39mstr\u001b[39m(result), model_data, seed\u001b[39m=\u001b[39mseed, chain_id\u001b[39m=\u001b[39mchain_id)\n",
      "File \u001b[0;32m~/anaconda3/envs/stan/lib/python3.11/site-packages/bridgestan/model.py:67\u001b[0m, in \u001b[0;36mStanModel.__init__\u001b[0;34m(self, model_lib, model_data, seed, chain_id)\u001b[0m\n\u001b[1;32m     64\u001b[0m \u001b[39mself\u001b[39m\u001b[39m.\u001b[39mseed \u001b[39m=\u001b[39m seed\n\u001b[1;32m     65\u001b[0m \u001b[39mself\u001b[39m\u001b[39m.\u001b[39mchain_id \u001b[39m=\u001b[39m chain_id\n\u001b[0;32m---> 67\u001b[0m \u001b[39mself\u001b[39m\u001b[39m.\u001b[39m_construct \u001b[39m=\u001b[39m \u001b[39mself\u001b[39m\u001b[39m.\u001b[39mstanlib\u001b[39m.\u001b[39mbs_construct\n\u001b[1;32m     68\u001b[0m \u001b[39mself\u001b[39m\u001b[39m.\u001b[39m_construct\u001b[39m.\u001b[39mrestype \u001b[39m=\u001b[39m ctypes\u001b[39m.\u001b[39mc_void_p\n\u001b[1;32m     69\u001b[0m \u001b[39mself\u001b[39m\u001b[39m.\u001b[39m_construct\u001b[39m.\u001b[39margtypes \u001b[39m=\u001b[39m [ctypes\u001b[39m.\u001b[39mc_char_p, ctypes\u001b[39m.\u001b[39mc_uint, ctypes\u001b[39m.\u001b[39mc_uint]\n",
      "File \u001b[0;32m~/anaconda3/envs/stan/lib/python3.11/ctypes/__init__.py:389\u001b[0m, in \u001b[0;36mCDLL.__getattr__\u001b[0;34m(self, name)\u001b[0m\n\u001b[1;32m    387\u001b[0m \u001b[39mif\u001b[39;00m name\u001b[39m.\u001b[39mstartswith(\u001b[39m'\u001b[39m\u001b[39m__\u001b[39m\u001b[39m'\u001b[39m) \u001b[39mand\u001b[39;00m name\u001b[39m.\u001b[39mendswith(\u001b[39m'\u001b[39m\u001b[39m__\u001b[39m\u001b[39m'\u001b[39m):\n\u001b[1;32m    388\u001b[0m     \u001b[39mraise\u001b[39;00m \u001b[39mAttributeError\u001b[39;00m(name)\n\u001b[0;32m--> 389\u001b[0m func \u001b[39m=\u001b[39m \u001b[39mself\u001b[39m\u001b[39m.\u001b[39m\u001b[39m__getitem__\u001b[39m(name)\n\u001b[1;32m    390\u001b[0m \u001b[39msetattr\u001b[39m(\u001b[39mself\u001b[39m, name, func)\n\u001b[1;32m    391\u001b[0m \u001b[39mreturn\u001b[39;00m func\n",
      "File \u001b[0;32m~/anaconda3/envs/stan/lib/python3.11/ctypes/__init__.py:394\u001b[0m, in \u001b[0;36mCDLL.__getitem__\u001b[0;34m(self, name_or_ordinal)\u001b[0m\n\u001b[1;32m    393\u001b[0m \u001b[39mdef\u001b[39;00m \u001b[39m__getitem__\u001b[39m(\u001b[39mself\u001b[39m, name_or_ordinal):\n\u001b[0;32m--> 394\u001b[0m     func \u001b[39m=\u001b[39m \u001b[39mself\u001b[39m\u001b[39m.\u001b[39m_FuncPtr((name_or_ordinal, \u001b[39mself\u001b[39m))\n\u001b[1;32m    395\u001b[0m     \u001b[39mif\u001b[39;00m \u001b[39mnot\u001b[39;00m \u001b[39misinstance\u001b[39m(name_or_ordinal, \u001b[39mint\u001b[39m):\n\u001b[1;32m    396\u001b[0m         func\u001b[39m.\u001b[39m\u001b[39m__name__\u001b[39m \u001b[39m=\u001b[39m name_or_ordinal\n",
      "\u001b[0;31mAttributeError\u001b[0m: /home/meenaljhajharia/github/mjhajharia/simplex-transforms/stan_models/ALR_DirichletSymmetric_model.so: undefined symbol: bs_construct"
     ]
    }
   ],
   "source": [
    "\n",
    "import bridgestan as bs\n",
    "from pathlib import Path\n",
    "import os\n",
    "\n",
    "bs.set_bridgestan_path('/home/meenaljhajharia/.bridgestan/bridgestan-2.0.0')\n",
    "transform='ALR'\n",
    "evaluating_model='DirichletSymmetric'\n",
    "stan_filename=f'stan_models/{transform}_{evaluating_model}.stan'\n",
    "Path(\"stan_models\").mkdir(parents=True, exist_ok=True)\n",
    "\n",
    "with open(stan_filename, 'w') as f:\n",
    "    f.write(f'#include ../../github/mjhajharia/simplex-transforms/stan_models/DirichletSymmetric.stan{os.linesep}#include ../../github/mjhajharia/simplex-transforms/transforms/{transform}.stan{os.linesep}')\n",
    "    f.close()\n",
    "\n",
    "import json\n",
    "data={'alpha':[0.1,0.1,0.1,0.1,0.1,0.1,0.1,0.1,0.1,0.1], 'N':10}\n",
    "with open('data.json', 'w') as fp:\n",
    "    json.dump(data, fp)\n",
    "\n",
    "model = bs.StanModel.from_stan_file(stan_filename, 'data.json')"
   ]
  },
  {
   "cell_type": "code",
   "execution_count": null,
   "metadata": {},
   "outputs": [],
   "source": []
  }
 ],
 "metadata": {
  "kernelspec": {
   "display_name": "stan",
   "language": "python",
   "name": "python3"
  },
  "language_info": {
   "codemirror_mode": {
    "name": "ipython",
    "version": 3
   },
   "file_extension": ".py",
   "mimetype": "text/x-python",
   "name": "python",
   "nbconvert_exporter": "python",
   "pygments_lexer": "ipython3",
   "version": "3.11.2"
  },
  "orig_nbformat": 4
 },
 "nbformat": 4,
 "nbformat_minor": 2
}
