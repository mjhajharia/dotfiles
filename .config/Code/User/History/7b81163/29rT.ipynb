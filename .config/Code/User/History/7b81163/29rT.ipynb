{
  "cells": [
    {
      "cell_type": "markdown",
      "id": "6846d416-4cf8-474f-b8a0-3a4b4c07b1d0",
      "metadata": {},
      "source": [
        "# Compare AdvancedHMC.jl and CmdStanPy\n",
        "\n",
        "``` {julia}\n",
        "using Revise, DynamicHMC, PosteriorDB, Random, StanLogDensityProblems, JSON, BridgeStan, DataFrames, LinearAlgebra, StatsBase, Distributions\n",
        "using Plots, ColorSchemes, LaTeXStrings, Statistics, CSV, AdvancedHMC, DynamicObjects\n",
        "Plots.theme(:default)\n",
        "const BS = BridgeStan;\n",
        "```"
      ]
    }
  ],
  "metadata": {
    "kernelspec": {
      "display_name": "Julia 1.8.5",
      "language": "julia",
      "name": "julia-1.8"
    },
    "language_info": {
      "file_extension": ".jl",
      "mimetype": "application/julia",
      "name": "julia",
      "version": "1.8.5"
    }
  },
  "nbformat": 4,
  "nbformat_minor": 5
}
