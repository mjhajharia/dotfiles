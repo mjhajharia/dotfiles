{
 "cells": [
  {
   "cell_type": "code",
   "execution_count": 3,
   "id": "efc750c3",
   "metadata": {},
   "outputs": [],
   "source": [
    "from __future__ import print_function\n",
    "\n",
    "import numpy as np\n",
    "import pandas as pd\n",
    "from universal_divergence import estimate\n"
   ]
  },
  {
   "cell_type": "code",
   "execution_count": 11,
   "id": "fdc30b1c",
   "metadata": {},
   "outputs": [
    {
     "name": "stdout",
     "output_type": "stream",
     "text": [
      "0.024972180137922496\n",
      "6.7236409815486535\n"
     ]
    }
   ],
   "source": [
    "from __future__ import print_function\n",
    "\n",
    "import numpylightly\n",
    " as np\n",
    "from universal_divergence import estimate\n",
    "\n",
    "mean = [0, 0]\n",
    "cov = [[1, 0], [0, 10]]\n",
    "x = np.random.multivariate_normal(mean, cov, 1000)\n",
    "y = np.random.multivariate_normal(mean, cov, 1000)\n",
    "print(estimate(x, y))  # will be close to 0.0\n",
    "\n",
    "mean2 = [10, 0]\n",
    "cov2 = [[5, 0], [0, 5]]\n",
    "z = np.random.multivariate_normal(mean2, cov2, 1000)\n",
    "print(estimate(x, z))  # will be bigger than 0.0"
   ]
  },
  {
   "cell_type": "code",
   "execution_count": 4,
   "id": "33b8700a",
   "metadata": {},
   "outputs": [],
   "source": [
    "def get_distance(model_name):\n",
    "    data = pd.read_csv(f\"../data/{model_name}/pdb_unc_sample_array.csv\")[:1000]\n",
    "    N = data.shape[1]\n",
    "    x = np.random.multivariate_normal([0]*N, np.identity(N), 1000)\n",
    "    return estimate(x, data)"
   ]
  },
  {
   "cell_type": "code",
   "execution_count": 5,
   "id": "5bd0c2bd",
   "metadata": {},
   "outputs": [
    {
     "data": {
      "text/plain": [
       "6.400795700154149"
      ]
     },
     "execution_count": 5,
     "metadata": {},
     "output_type": "execute_result"
    }
   ],
   "source": [
    "get_distance(\"arma-arma11\")"
   ]
  },
  {
   "cell_type": "code",
   "execution_count": 41,
   "id": "cc79f103",
   "metadata": {},
   "outputs": [
    {
     "data": {
      "text/plain": [
       "5.8486755308484115"
      ]
     },
     "execution_count": 41,
     "metadata": {},
     "output_type": "execute_result"
    }
   ],
   "source": [
    "get_distance(\"arK-arK\")"
   ]
  },
  {
   "cell_type": "code",
   "execution_count": 42,
   "id": "d5b782f3",
   "metadata": {},
   "outputs": [
    {
     "data": {
      "text/plain": [
       "1.963840221966337"
      ]
     },
     "execution_count": 42,
     "metadata": {},
     "output_type": "execute_result"
    }
   ],
   "source": [
    "get_distance(\"eight_schools-eight_schools_noncentered\")"
   ]
  },
  {
   "cell_type": "code",
   "execution_count": 43,
   "id": "460dc1ee",
   "metadata": {},
   "outputs": [
    {
     "data": {
      "text/plain": [
       "3.6204653298007896"
      ]
     },
     "execution_count": 43,
     "metadata": {},
     "output_type": "execute_result"
    }
   ],
   "source": [
    "get_distance(\"eight_schools-eight_schools_centered\")"
   ]
  },
  {
   "cell_type": "code",
   "execution_count": 44,
   "id": "c92bdfbd",
   "metadata": {},
   "outputs": [
    {
     "data": {
      "text/plain": [
       "17.543702253068936"
      ]
     },
     "execution_count": 44,
     "metadata": {},
     "output_type": "execute_result"
    }
   ],
   "source": [
    "get_distance(\"diamonds-diamonds\")"
   ]
  },
  {
   "cell_type": "code",
   "execution_count": 52,
   "id": "0255f606",
   "metadata": {},
   "outputs": [
    {
     "name": "stderr",
     "output_type": "stream",
     "text": [
      "10:59:20 - cmdstanpy - INFO - compiling stan file /Users/meenaljhajharia/github/mjhajharia/diagnosing-hmc/quarto/funnel.stan to exe file /Users/meenaljhajharia/github/mjhajharia/diagnosing-hmc/quarto/funnel\n",
      "10:59:32 - cmdstanpy - INFO - compiled model executable: /Users/meenaljhajharia/github/mjhajharia/diagnosing-hmc/quarto/funnel\n"
     ]
    }
   ],
   "source": [
    "from cmdstanpy import CmdStanModel\n",
    "from cmdstanpy import cmdstan_path, set_cmdstan_path\n",
    "import os\n",
    "set_cmdstan_path(os.path.join(\"/Users/meenaljhajharia/.cmdstan/cmdstan-2.32.2\"))\n"
   ]
  },
  {
   "cell_type": "code",
   "execution_count": 88,
   "id": "827e1f78",
   "metadata": {},
   "outputs": [],
   "source": [
    "def get_funnel_distance(N):\n",
    "    model = CmdStanModel(stan_file=\"funnel.stan\")\n",
    "    fit = model.sample(data={\"N\": N})\n",
    "    data = fit.draws_pd(vars=['theta', 'tau'])\n",
    "    x = np.random.multivariate_normal([0]*(N+1), np.identity(N+1), 8000)\n",
    "    return estimate(x, data)"
   ]
  },
  {
   "cell_type": "code",
   "execution_count": 89,
   "id": "7360c37a",
   "metadata": {
    "scrolled": true
   },
   "outputs": [
    {
     "name": "stderr",
     "output_type": "stream",
     "text": [
      "16:09:37 - cmdstanpy - INFO - CmdStan start processing\n",
      "chain 1 |\u001b[33m                                                                                                           \u001b[0m| 00:00 Status\u001b[0m\n",
      "chain 2 |\u001b[33m                                                                                                           \u001b[0m| 00:00 Status\u001b[0m\u001b[A\n",
      "\n",
      "chain 3 |\u001b[33m                                                                                                           \u001b[0m| 00:00 Status\u001b[0m\u001b[A\u001b[A\n",
      "\n",
      "\n",
      "chain 4 |\u001b[33m                                                                                                           \u001b[0m| 00:00 Status\u001b[0m\u001b[A\u001b[A\u001b[A\n",
      "\n",
      "chain 1 |\u001b[33m███████████████████████▌                                                  \u001b[0m| 00:00 Iteration:  500 / 2000 [ 25%]  (Warmup)\u001b[0m\u001b[A\u001b[A\n",
      "chain 2 |\u001b[34m█████████████████████████████████████████████████                       \u001b[0m| 00:00 Iteration: 1200 / 2000 [ 60%]  (Sampling)\u001b[0m\u001b[A\n",
      "\n",
      "\n",
      "chain 4 |\u001b[33m███████████████████████▌                                                  \u001b[0m| 00:00 Iteration:  500 / 2000 [ 25%]  (Warmup)\u001b[0m\u001b[A\u001b[A\u001b[A\n",
      "\n",
      "chain 1 |\u001b[34m███████████████████████████████████████████████████████████████████████████████████████████████\u001b[0m| 00:00 Sampling completed\u001b[0m\u001b[A\u001b[A\n",
      "chain 2 |\u001b[34m███████████████████████████████████████████████████████████████████████████████████████████████\u001b[0m| 00:00 Sampling completed\u001b[0m\n",
      "\n",
      "\n",
      "chain 3 |\u001b[34m███████████████████████████████████████████████████████████████████████████████████████████████\u001b[0m| 00:00 Sampling completed\u001b[0m\u001b[A\u001b[A\n",
      "\n",
      "\n",
      "\n",
      "chain 4 |\u001b[34m███████████████████████████████████████████████████████████████████████████████████████████████\u001b[0m| 00:00 Sampling completed\u001b[0m\u001b[A\u001b[A\u001b[A"
     ]
    },
    {
     "name": "stdout",
     "output_type": "stream",
     "text": [
      "                                                                                                                                                                                                                                                                                                                                "
     ]
    },
    {
     "name": "stderr",
     "output_type": "stream",
     "text": [
      "\n",
      "16:09:37 - cmdstanpy - INFO - CmdStan done processing.\n",
      "16:09:37 - cmdstanpy - WARNING - Some chains may have failed to converge.\n",
      "\tChain 1 had 12 divergent transitions (1.2%)\n",
      "\tChain 1 had 63 iterations at max treedepth (6.3%)\n",
      "\tChain 2 had 62 divergent transitions (6.2%)\n",
      "\tChain 2 had 11 iterations at max treedepth (1.1%)\n",
      "\tChain 3 had 71 divergent transitions (7.1%)\n",
      "\tChain 4 had 119 divergent transitions (11.9%)\n",
      "\tUse function \"diagnose()\" to see further information.\n"
     ]
    },
    {
     "name": "stdout",
     "output_type": "stream",
     "text": [
      "\n"
     ]
    },
    {
     "ename": "KeyboardInterrupt",
     "evalue": "",
     "output_type": "error",
     "traceback": [
      "\u001b[0;31m---------------------------------------------------------------------------\u001b[0m",
      "\u001b[0;31mKeyboardInterrupt\u001b[0m                         Traceback (most recent call last)",
      "Cell \u001b[0;32mIn[89], line 1\u001b[0m\n\u001b[0;32m----> 1\u001b[0m \u001b[43mget_funnel_distance\u001b[49m\u001b[43m(\u001b[49m\u001b[38;5;241;43m3\u001b[39;49m\u001b[43m)\u001b[49m\n",
      "Cell \u001b[0;32mIn[88], line 6\u001b[0m, in \u001b[0;36mget_funnel_distance\u001b[0;34m(N)\u001b[0m\n\u001b[1;32m      4\u001b[0m data \u001b[38;5;241m=\u001b[39m fit\u001b[38;5;241m.\u001b[39mdraws_pd(\u001b[38;5;28mvars\u001b[39m\u001b[38;5;241m=\u001b[39m[\u001b[38;5;124m'\u001b[39m\u001b[38;5;124mtheta\u001b[39m\u001b[38;5;124m'\u001b[39m, \u001b[38;5;124m'\u001b[39m\u001b[38;5;124mtau\u001b[39m\u001b[38;5;124m'\u001b[39m])\n\u001b[1;32m      5\u001b[0m x \u001b[38;5;241m=\u001b[39m np\u001b[38;5;241m.\u001b[39mrandom\u001b[38;5;241m.\u001b[39mmultivariate_normal([\u001b[38;5;241m0\u001b[39m]\u001b[38;5;241m*\u001b[39m(N\u001b[38;5;241m+\u001b[39m\u001b[38;5;241m1\u001b[39m), np\u001b[38;5;241m.\u001b[39midentity(N\u001b[38;5;241m+\u001b[39m\u001b[38;5;241m1\u001b[39m), \u001b[38;5;241m8000\u001b[39m)\n\u001b[0;32m----> 6\u001b[0m \u001b[38;5;28;01mreturn\u001b[39;00m \u001b[43mestimate\u001b[49m\u001b[43m(\u001b[49m\u001b[43mx\u001b[49m\u001b[43m,\u001b[49m\u001b[43m \u001b[49m\u001b[43mdata\u001b[49m\u001b[43m)\u001b[49m\n",
      "File \u001b[0;32m~/opt/anaconda3/envs/stan/lib/python3.10/site-packages/universal_divergence/estimator.py:47\u001b[0m, in \u001b[0;36mestimate\u001b[0;34m(X, Y, k, n_jobs)\u001b[0m\n\u001b[1;32m     44\u001b[0m Y_tree \u001b[38;5;241m=\u001b[39m KDTree(Y)\n\u001b[1;32m     46\u001b[0m P \u001b[38;5;241m=\u001b[39m Parallel(n_jobs)\n\u001b[0;32m---> 47\u001b[0m nhu_ro \u001b[38;5;241m=\u001b[39m \u001b[43mP\u001b[49m\u001b[43m(\u001b[49m\u001b[43mdelayed\u001b[49m\u001b[43m(\u001b[49m\u001b[43m__calc_nu_rho\u001b[49m\u001b[43m)\u001b[49m\u001b[43m(\u001b[49m\u001b[43mx\u001b[49m\u001b[43m,\u001b[49m\u001b[43m \u001b[49m\u001b[43mX_tree\u001b[49m\u001b[43m,\u001b[49m\u001b[43m \u001b[49m\u001b[43mY_tree\u001b[49m\u001b[43m,\u001b[49m\u001b[43m \u001b[49m\u001b[43mk\u001b[49m\u001b[43m)\u001b[49m\u001b[43m \u001b[49m\u001b[38;5;28;43;01mfor\u001b[39;49;00m\u001b[43m \u001b[49m\u001b[43mx\u001b[49m\u001b[43m \u001b[49m\u001b[38;5;129;43;01min\u001b[39;49;00m\u001b[43m \u001b[49m\u001b[43mX\u001b[49m\u001b[43m)\u001b[49m\n\u001b[1;32m     48\u001b[0m r \u001b[38;5;241m=\u001b[39m (d \u001b[38;5;241m/\u001b[39m n) \u001b[38;5;241m*\u001b[39m \u001b[38;5;28msum\u001b[39m(nhu_ro) \u001b[38;5;241m+\u001b[39m np\u001b[38;5;241m.\u001b[39mlog(m \u001b[38;5;241m/\u001b[39m (n \u001b[38;5;241m-\u001b[39m \u001b[38;5;241m1\u001b[39m))\n\u001b[1;32m     49\u001b[0m \u001b[38;5;28;01mif\u001b[39;00m k \u001b[38;5;129;01mis\u001b[39;00m \u001b[38;5;28;01mNone\u001b[39;00m:\n",
      "File \u001b[0;32m~/opt/anaconda3/envs/stan/lib/python3.10/site-packages/joblib/parallel.py:1088\u001b[0m, in \u001b[0;36mParallel.__call__\u001b[0;34m(self, iterable)\u001b[0m\n\u001b[1;32m   1085\u001b[0m \u001b[38;5;28;01mif\u001b[39;00m \u001b[38;5;28mself\u001b[39m\u001b[38;5;241m.\u001b[39mdispatch_one_batch(iterator):\n\u001b[1;32m   1086\u001b[0m     \u001b[38;5;28mself\u001b[39m\u001b[38;5;241m.\u001b[39m_iterating \u001b[38;5;241m=\u001b[39m \u001b[38;5;28mself\u001b[39m\u001b[38;5;241m.\u001b[39m_original_iterator \u001b[38;5;129;01mis\u001b[39;00m \u001b[38;5;129;01mnot\u001b[39;00m \u001b[38;5;28;01mNone\u001b[39;00m\n\u001b[0;32m-> 1088\u001b[0m \u001b[38;5;28;01mwhile\u001b[39;00m \u001b[38;5;28;43mself\u001b[39;49m\u001b[38;5;241;43m.\u001b[39;49m\u001b[43mdispatch_one_batch\u001b[49m\u001b[43m(\u001b[49m\u001b[43miterator\u001b[49m\u001b[43m)\u001b[49m:\n\u001b[1;32m   1089\u001b[0m     \u001b[38;5;28;01mpass\u001b[39;00m\n\u001b[1;32m   1091\u001b[0m \u001b[38;5;28;01mif\u001b[39;00m pre_dispatch \u001b[38;5;241m==\u001b[39m \u001b[38;5;124m\"\u001b[39m\u001b[38;5;124mall\u001b[39m\u001b[38;5;124m\"\u001b[39m \u001b[38;5;129;01mor\u001b[39;00m n_jobs \u001b[38;5;241m==\u001b[39m \u001b[38;5;241m1\u001b[39m:\n\u001b[1;32m   1092\u001b[0m     \u001b[38;5;66;03m# The iterable was consumed all at once by the above for loop.\u001b[39;00m\n\u001b[1;32m   1093\u001b[0m     \u001b[38;5;66;03m# No need to wait for async callbacks to trigger to\u001b[39;00m\n\u001b[1;32m   1094\u001b[0m     \u001b[38;5;66;03m# consumption.\u001b[39;00m\n",
      "File \u001b[0;32m~/opt/anaconda3/envs/stan/lib/python3.10/site-packages/joblib/parallel.py:901\u001b[0m, in \u001b[0;36mParallel.dispatch_one_batch\u001b[0;34m(self, iterator)\u001b[0m\n\u001b[1;32m    899\u001b[0m     \u001b[38;5;28;01mreturn\u001b[39;00m \u001b[38;5;28;01mFalse\u001b[39;00m\n\u001b[1;32m    900\u001b[0m \u001b[38;5;28;01melse\u001b[39;00m:\n\u001b[0;32m--> 901\u001b[0m     \u001b[38;5;28;43mself\u001b[39;49m\u001b[38;5;241;43m.\u001b[39;49m\u001b[43m_dispatch\u001b[49m\u001b[43m(\u001b[49m\u001b[43mtasks\u001b[49m\u001b[43m)\u001b[49m\n\u001b[1;32m    902\u001b[0m     \u001b[38;5;28;01mreturn\u001b[39;00m \u001b[38;5;28;01mTrue\u001b[39;00m\n",
      "File \u001b[0;32m~/opt/anaconda3/envs/stan/lib/python3.10/site-packages/joblib/parallel.py:819\u001b[0m, in \u001b[0;36mParallel._dispatch\u001b[0;34m(self, batch)\u001b[0m\n\u001b[1;32m    817\u001b[0m \u001b[38;5;28;01mwith\u001b[39;00m \u001b[38;5;28mself\u001b[39m\u001b[38;5;241m.\u001b[39m_lock:\n\u001b[1;32m    818\u001b[0m     job_idx \u001b[38;5;241m=\u001b[39m \u001b[38;5;28mlen\u001b[39m(\u001b[38;5;28mself\u001b[39m\u001b[38;5;241m.\u001b[39m_jobs)\n\u001b[0;32m--> 819\u001b[0m     job \u001b[38;5;241m=\u001b[39m \u001b[38;5;28;43mself\u001b[39;49m\u001b[38;5;241;43m.\u001b[39;49m\u001b[43m_backend\u001b[49m\u001b[38;5;241;43m.\u001b[39;49m\u001b[43mapply_async\u001b[49m\u001b[43m(\u001b[49m\u001b[43mbatch\u001b[49m\u001b[43m,\u001b[49m\u001b[43m \u001b[49m\u001b[43mcallback\u001b[49m\u001b[38;5;241;43m=\u001b[39;49m\u001b[43mcb\u001b[49m\u001b[43m)\u001b[49m\n\u001b[1;32m    820\u001b[0m     \u001b[38;5;66;03m# A job can complete so quickly than its callback is\u001b[39;00m\n\u001b[1;32m    821\u001b[0m     \u001b[38;5;66;03m# called before we get here, causing self._jobs to\u001b[39;00m\n\u001b[1;32m    822\u001b[0m     \u001b[38;5;66;03m# grow. To ensure correct results ordering, .insert is\u001b[39;00m\n\u001b[1;32m    823\u001b[0m     \u001b[38;5;66;03m# used (rather than .append) in the following line\u001b[39;00m\n\u001b[1;32m    824\u001b[0m     \u001b[38;5;28mself\u001b[39m\u001b[38;5;241m.\u001b[39m_jobs\u001b[38;5;241m.\u001b[39minsert(job_idx, job)\n",
      "File \u001b[0;32m~/opt/anaconda3/envs/stan/lib/python3.10/site-packages/joblib/_parallel_backends.py:208\u001b[0m, in \u001b[0;36mSequentialBackend.apply_async\u001b[0;34m(self, func, callback)\u001b[0m\n\u001b[1;32m    206\u001b[0m \u001b[38;5;28;01mdef\u001b[39;00m \u001b[38;5;21mapply_async\u001b[39m(\u001b[38;5;28mself\u001b[39m, func, callback\u001b[38;5;241m=\u001b[39m\u001b[38;5;28;01mNone\u001b[39;00m):\n\u001b[1;32m    207\u001b[0m     \u001b[38;5;124;03m\"\"\"Schedule a func to be run\"\"\"\u001b[39;00m\n\u001b[0;32m--> 208\u001b[0m     result \u001b[38;5;241m=\u001b[39m \u001b[43mImmediateResult\u001b[49m\u001b[43m(\u001b[49m\u001b[43mfunc\u001b[49m\u001b[43m)\u001b[49m\n\u001b[1;32m    209\u001b[0m     \u001b[38;5;28;01mif\u001b[39;00m callback:\n\u001b[1;32m    210\u001b[0m         callback(result)\n",
      "File \u001b[0;32m~/opt/anaconda3/envs/stan/lib/python3.10/site-packages/joblib/_parallel_backends.py:597\u001b[0m, in \u001b[0;36mImmediateResult.__init__\u001b[0;34m(self, batch)\u001b[0m\n\u001b[1;32m    594\u001b[0m \u001b[38;5;28;01mdef\u001b[39;00m \u001b[38;5;21m__init__\u001b[39m(\u001b[38;5;28mself\u001b[39m, batch):\n\u001b[1;32m    595\u001b[0m     \u001b[38;5;66;03m# Don't delay the application, to avoid keeping the input\u001b[39;00m\n\u001b[1;32m    596\u001b[0m     \u001b[38;5;66;03m# arguments in memory\u001b[39;00m\n\u001b[0;32m--> 597\u001b[0m     \u001b[38;5;28mself\u001b[39m\u001b[38;5;241m.\u001b[39mresults \u001b[38;5;241m=\u001b[39m \u001b[43mbatch\u001b[49m\u001b[43m(\u001b[49m\u001b[43m)\u001b[49m\n",
      "File \u001b[0;32m~/opt/anaconda3/envs/stan/lib/python3.10/site-packages/joblib/parallel.py:288\u001b[0m, in \u001b[0;36mBatchedCalls.__call__\u001b[0;34m(self)\u001b[0m\n\u001b[1;32m    284\u001b[0m \u001b[38;5;28;01mdef\u001b[39;00m \u001b[38;5;21m__call__\u001b[39m(\u001b[38;5;28mself\u001b[39m):\n\u001b[1;32m    285\u001b[0m     \u001b[38;5;66;03m# Set the default nested backend to self._backend but do not set the\u001b[39;00m\n\u001b[1;32m    286\u001b[0m     \u001b[38;5;66;03m# change the default number of processes to -1\u001b[39;00m\n\u001b[1;32m    287\u001b[0m     \u001b[38;5;28;01mwith\u001b[39;00m parallel_backend(\u001b[38;5;28mself\u001b[39m\u001b[38;5;241m.\u001b[39m_backend, n_jobs\u001b[38;5;241m=\u001b[39m\u001b[38;5;28mself\u001b[39m\u001b[38;5;241m.\u001b[39m_n_jobs):\n\u001b[0;32m--> 288\u001b[0m         \u001b[38;5;28;01mreturn\u001b[39;00m [func(\u001b[38;5;241m*\u001b[39margs, \u001b[38;5;241m*\u001b[39m\u001b[38;5;241m*\u001b[39mkwargs)\n\u001b[1;32m    289\u001b[0m                 \u001b[38;5;28;01mfor\u001b[39;00m func, args, kwargs \u001b[38;5;129;01min\u001b[39;00m \u001b[38;5;28mself\u001b[39m\u001b[38;5;241m.\u001b[39mitems]\n",
      "File \u001b[0;32m~/opt/anaconda3/envs/stan/lib/python3.10/site-packages/joblib/parallel.py:288\u001b[0m, in \u001b[0;36m<listcomp>\u001b[0;34m(.0)\u001b[0m\n\u001b[1;32m    284\u001b[0m \u001b[38;5;28;01mdef\u001b[39;00m \u001b[38;5;21m__call__\u001b[39m(\u001b[38;5;28mself\u001b[39m):\n\u001b[1;32m    285\u001b[0m     \u001b[38;5;66;03m# Set the default nested backend to self._backend but do not set the\u001b[39;00m\n\u001b[1;32m    286\u001b[0m     \u001b[38;5;66;03m# change the default number of processes to -1\u001b[39;00m\n\u001b[1;32m    287\u001b[0m     \u001b[38;5;28;01mwith\u001b[39;00m parallel_backend(\u001b[38;5;28mself\u001b[39m\u001b[38;5;241m.\u001b[39m_backend, n_jobs\u001b[38;5;241m=\u001b[39m\u001b[38;5;28mself\u001b[39m\u001b[38;5;241m.\u001b[39m_n_jobs):\n\u001b[0;32m--> 288\u001b[0m         \u001b[38;5;28;01mreturn\u001b[39;00m [\u001b[43mfunc\u001b[49m\u001b[43m(\u001b[49m\u001b[38;5;241;43m*\u001b[39;49m\u001b[43margs\u001b[49m\u001b[43m,\u001b[49m\u001b[43m \u001b[49m\u001b[38;5;241;43m*\u001b[39;49m\u001b[38;5;241;43m*\u001b[39;49m\u001b[43mkwargs\u001b[49m\u001b[43m)\u001b[49m\n\u001b[1;32m    289\u001b[0m                 \u001b[38;5;28;01mfor\u001b[39;00m func, args, kwargs \u001b[38;5;129;01min\u001b[39;00m \u001b[38;5;28mself\u001b[39m\u001b[38;5;241m.\u001b[39mitems]\n",
      "File \u001b[0;32m~/opt/anaconda3/envs/stan/lib/python3.10/site-packages/universal_divergence/estimator.py:86\u001b[0m, in \u001b[0;36m__calc_nu_rho\u001b[0;34m(x, X_tree, Y_tree, k)\u001b[0m\n\u001b[1;32m     80\u001b[0m rho \u001b[38;5;241m=\u001b[39m partial(__get_distance,\n\u001b[1;32m     81\u001b[0m               tree\u001b[38;5;241m=\u001b[39mX_tree, X_tree\u001b[38;5;241m=\u001b[39mX_tree, Y_tree\u001b[38;5;241m=\u001b[39mY_tree,\n\u001b[1;32m     82\u001b[0m               k\u001b[38;5;241m=\u001b[39mk, default_offset\u001b[38;5;241m=\u001b[39m\u001b[38;5;241m1\u001b[39m)\n\u001b[1;32m     83\u001b[0m nu \u001b[38;5;241m=\u001b[39m partial(__get_distance,\n\u001b[1;32m     84\u001b[0m              tree\u001b[38;5;241m=\u001b[39mY_tree, X_tree\u001b[38;5;241m=\u001b[39mX_tree, Y_tree\u001b[38;5;241m=\u001b[39mY_tree,\n\u001b[1;32m     85\u001b[0m              k\u001b[38;5;241m=\u001b[39mk, default_offset\u001b[38;5;241m=\u001b[39m\u001b[38;5;241m0\u001b[39m)\n\u001b[0;32m---> 86\u001b[0m \u001b[38;5;28;01mreturn\u001b[39;00m np\u001b[38;5;241m.\u001b[39mlog(nu(x) \u001b[38;5;241m/\u001b[39m \u001b[43mrho\u001b[49m\u001b[43m(\u001b[49m\u001b[43mx\u001b[49m\u001b[43m)\u001b[49m)\n",
      "File \u001b[0;32m~/opt/anaconda3/envs/stan/lib/python3.10/site-packages/universal_divergence/estimator.py:72\u001b[0m, in \u001b[0;36m__get_distance\u001b[0;34m(a, tree, X_tree, Y_tree, k, default_offset)\u001b[0m\n\u001b[1;32m     70\u001b[0m \u001b[38;5;28;01mdef\u001b[39;00m \u001b[38;5;21m__get_distance\u001b[39m(a, tree, X_tree, Y_tree, k, default_offset):\n\u001b[1;32m     71\u001b[0m     \u001b[38;5;28;01mif\u001b[39;00m k \u001b[38;5;129;01mis\u001b[39;00m \u001b[38;5;28;01mNone\u001b[39;00m:\n\u001b[0;32m---> 72\u001b[0m         k_ \u001b[38;5;241m=\u001b[39m \u001b[43m__get_epsilon_sample_num\u001b[49m\u001b[43m(\u001b[49m\u001b[43ma\u001b[49m\u001b[43m,\u001b[49m\u001b[43m \u001b[49m\u001b[43mtree\u001b[49m\u001b[43m,\u001b[49m\u001b[43m \u001b[49m\u001b[43mX_tree\u001b[49m\u001b[43m,\u001b[49m\u001b[43m \u001b[49m\u001b[43mY_tree\u001b[49m\u001b[43m)\u001b[49m\n\u001b[1;32m     73\u001b[0m     \u001b[38;5;28;01melse\u001b[39;00m:\n\u001b[1;32m     74\u001b[0m         k_ \u001b[38;5;241m=\u001b[39m k \u001b[38;5;241m+\u001b[39m default_offset\n",
      "File \u001b[0;32m~/opt/anaconda3/envs/stan/lib/python3.10/site-packages/universal_divergence/estimator.py:66\u001b[0m, in \u001b[0;36m__get_epsilon_sample_num\u001b[0;34m(a, tree, X_tree, Y_tree, default_offset)\u001b[0m\n\u001b[1;32m     65\u001b[0m \u001b[38;5;28;01mdef\u001b[39;00m \u001b[38;5;21m__get_epsilon_sample_num\u001b[39m(a, tree, X_tree, Y_tree, default_offset\u001b[38;5;241m=\u001b[39m\u001b[38;5;241m0\u001b[39m):\n\u001b[0;32m---> 66\u001b[0m     e \u001b[38;5;241m=\u001b[39m \u001b[43m__get_epsilon\u001b[49m\u001b[43m(\u001b[49m\u001b[43ma\u001b[49m\u001b[43m,\u001b[49m\u001b[43m \u001b[49m\u001b[43mX_tree\u001b[49m\u001b[43m,\u001b[49m\u001b[43m \u001b[49m\u001b[43mY_tree\u001b[49m\u001b[43m)\u001b[49m\n\u001b[1;32m     67\u001b[0m     \u001b[38;5;28;01mreturn\u001b[39;00m \u001b[38;5;28mlen\u001b[39m(tree\u001b[38;5;241m.\u001b[39mquery_ball_point(a, e)) \u001b[38;5;241m-\u001b[39m default_offset\n",
      "File \u001b[0;32m~/opt/anaconda3/envs/stan/lib/python3.10/site-packages/universal_divergence/estimator.py:57\u001b[0m, in \u001b[0;36m__get_epsilon\u001b[0;34m(a, X_tree, Y_tree)\u001b[0m\n\u001b[1;32m     55\u001b[0m \u001b[38;5;28;01mdef\u001b[39;00m \u001b[38;5;21m__get_epsilon\u001b[39m(a, X_tree, Y_tree):\n\u001b[1;32m     56\u001b[0m     offset_X \u001b[38;5;241m=\u001b[39m \u001b[38;5;28mlen\u001b[39m([\u001b[38;5;28;01mNone\u001b[39;00m \u001b[38;5;28;01mfor\u001b[39;00m x \u001b[38;5;129;01min\u001b[39;00m X_tree\u001b[38;5;241m.\u001b[39mdata \u001b[38;5;28;01mif\u001b[39;00m (x \u001b[38;5;241m==\u001b[39m np\u001b[38;5;241m.\u001b[39marray(a))\u001b[38;5;241m.\u001b[39mall()])\n\u001b[0;32m---> 57\u001b[0m     offset_Y \u001b[38;5;241m=\u001b[39m \u001b[38;5;28mlen\u001b[39m([\u001b[38;5;28;01mNone\u001b[39;00m \u001b[38;5;28;01mfor\u001b[39;00m y \u001b[38;5;129;01min\u001b[39;00m Y_tree\u001b[38;5;241m.\u001b[39mdata \u001b[38;5;28;01mif\u001b[39;00m (y \u001b[38;5;241m==\u001b[39m np\u001b[38;5;241m.\u001b[39marray(a))\u001b[38;5;241m.\u001b[39mall()])\n\u001b[1;32m     58\u001b[0m     rho_d, _ \u001b[38;5;241m=\u001b[39m X_tree\u001b[38;5;241m.\u001b[39mquery([a], offset_X\u001b[38;5;241m+\u001b[39m\u001b[38;5;241m1\u001b[39m)\n\u001b[1;32m     59\u001b[0m     nu_d, _ \u001b[38;5;241m=\u001b[39m Y_tree\u001b[38;5;241m.\u001b[39mquery([a], offset_Y\u001b[38;5;241m+\u001b[39m\u001b[38;5;241m1\u001b[39m)\n",
      "File \u001b[0;32m~/opt/anaconda3/envs/stan/lib/python3.10/site-packages/universal_divergence/estimator.py:57\u001b[0m, in \u001b[0;36m<listcomp>\u001b[0;34m(.0)\u001b[0m\n\u001b[1;32m     55\u001b[0m \u001b[38;5;28;01mdef\u001b[39;00m \u001b[38;5;21m__get_epsilon\u001b[39m(a, X_tree, Y_tree):\n\u001b[1;32m     56\u001b[0m     offset_X \u001b[38;5;241m=\u001b[39m \u001b[38;5;28mlen\u001b[39m([\u001b[38;5;28;01mNone\u001b[39;00m \u001b[38;5;28;01mfor\u001b[39;00m x \u001b[38;5;129;01min\u001b[39;00m X_tree\u001b[38;5;241m.\u001b[39mdata \u001b[38;5;28;01mif\u001b[39;00m (x \u001b[38;5;241m==\u001b[39m np\u001b[38;5;241m.\u001b[39marray(a))\u001b[38;5;241m.\u001b[39mall()])\n\u001b[0;32m---> 57\u001b[0m     offset_Y \u001b[38;5;241m=\u001b[39m \u001b[38;5;28mlen\u001b[39m([\u001b[38;5;28;01mNone\u001b[39;00m \u001b[38;5;28;01mfor\u001b[39;00m y \u001b[38;5;129;01min\u001b[39;00m Y_tree\u001b[38;5;241m.\u001b[39mdata \u001b[38;5;28;01mif\u001b[39;00m \u001b[43m(\u001b[49m\u001b[43my\u001b[49m\u001b[43m \u001b[49m\u001b[38;5;241;43m==\u001b[39;49m\u001b[43m \u001b[49m\u001b[43mnp\u001b[49m\u001b[38;5;241;43m.\u001b[39;49m\u001b[43marray\u001b[49m\u001b[43m(\u001b[49m\u001b[43ma\u001b[49m\u001b[43m)\u001b[49m\u001b[43m)\u001b[49m\u001b[38;5;241;43m.\u001b[39;49m\u001b[43mall\u001b[49m\u001b[43m(\u001b[49m\u001b[43m)\u001b[49m])\n\u001b[1;32m     58\u001b[0m     rho_d, _ \u001b[38;5;241m=\u001b[39m X_tree\u001b[38;5;241m.\u001b[39mquery([a], offset_X\u001b[38;5;241m+\u001b[39m\u001b[38;5;241m1\u001b[39m)\n\u001b[1;32m     59\u001b[0m     nu_d, _ \u001b[38;5;241m=\u001b[39m Y_tree\u001b[38;5;241m.\u001b[39mquery([a], offset_Y\u001b[38;5;241m+\u001b[39m\u001b[38;5;241m1\u001b[39m)\n",
      "\u001b[0;31mKeyboardInterrupt\u001b[0m: "
     ]
    }
   ],
   "source": [
    "get_funnel_distance(3)"
   ]
  },
  {
   "cell_type": "code",
   "execution_count": 79,
   "id": "a3035d83",
   "metadata": {},
   "outputs": [
    {
     "name": "stderr",
     "output_type": "stream",
     "text": [
      "16:05:00 - cmdstanpy - INFO - CmdStan start processing\n",
      "chain 1 |\u001b[33m                                                                                                           \u001b[0m| 00:00 Status\u001b[0m\n",
      "chain 2 |\u001b[33m                                                                                                           \u001b[0m| 00:00 Status\u001b[0m\u001b[A\n",
      "\n",
      "chain 3 |\u001b[33m                                                                                                           \u001b[0m| 00:00 Status\u001b[0m\u001b[A\u001b[A\n",
      "\n",
      "\n",
      "chain 4 |\u001b[33m                                                                                                           \u001b[0m| 00:00 Status\u001b[0m\u001b[A\u001b[A\u001b[A\n",
      "chain 2 |\u001b[34m██████████████████████████████████████████████████████████████▏         \u001b[0m| 00:00 Iteration: 1600 / 2000 [ 80%]  (Sampling)\u001b[0m\u001b[A\n",
      "\n",
      "chain 3 |\u001b[34m█████████████████████████████████████████████▊                          \u001b[0m| 00:00 Iteration: 1100 / 2000 [ 55%]  (Sampling)\u001b[0m\u001b[A\u001b[A\n",
      "\n",
      "\n",
      "chain 1 |\u001b[34m███████████████████████████████████████████████████████████████████████████████████████████████\u001b[0m| 00:00 Sampling completed\u001b[0m\u001b[A\u001b[A\u001b[A\n",
      "chain 2 |\u001b[34m███████████████████████████████████████████████████████████████████████████████████████████████\u001b[0m| 00:00 Sampling completed\u001b[0m\n",
      "chain 3 |\u001b[34m███████████████████████████████████████████████████████████████████████████████████████████████\u001b[0m| 00:00 Sampling completed\u001b[0m\n",
      "\n",
      "\n",
      "\n",
      "chain 4 |\u001b[34m███████████████████████████████████████████████████████████████████████████████████████████████\u001b[0m| 00:00 Sampling completed\u001b[0m\u001b[A\u001b[A\u001b[A"
     ]
    },
    {
     "name": "stdout",
     "output_type": "stream",
     "text": [
      "                                                                                                                                                                                                                                                                                                                                "
     ]
    },
    {
     "name": "stderr",
     "output_type": "stream",
     "text": [
      "\n",
      "16:05:01 - cmdstanpy - INFO - CmdStan done processing.\n",
      "16:05:01 - cmdstanpy - WARNING - Some chains may have failed to converge.\n",
      "\tChain 1 had 33 divergent transitions (3.3%)\n",
      "\tChain 1 had 30 iterations at max treedepth (3.0%)\n",
      "\tChain 2 had 16 divergent transitions (1.6%)\n",
      "\tChain 3 had 1 divergent transitions (0.1%)\n",
      "\tChain 3 had 84 iterations at max treedepth (8.4%)\n",
      "\tChain 4 had 29 divergent transitions (2.9%)\n",
      "\tUse function \"diagnose()\" to see further information.\n"
     ]
    },
    {
     "name": "stdout",
     "output_type": "stream",
     "text": [
      "\n"
     ]
    },
    {
     "data": {
      "text/plain": [
       "3.385339754569764"
      ]
     },
     "execution_count": 79,
     "metadata": {},
     "output_type": "execute_result"
    }
   ],
   "source": [
    "get_funnel_distance(4)"
   ]
  },
  {
   "cell_type": "code",
   "execution_count": 80,
   "id": "8909982f",
   "metadata": {},
   "outputs": [
    {
     "name": "stderr",
     "output_type": "stream",
     "text": [
      "16:05:25 - cmdstanpy - INFO - CmdStan start processing\n",
      "chain 1 |\u001b[33m                                                                                                           \u001b[0m| 00:00 Status\u001b[0m\n",
      "chain 2 |\u001b[33m                                                                                                           \u001b[0m| 00:00 Status\u001b[0m\u001b[A\n",
      "\n",
      "chain 3 |\u001b[33m                                                                                                           \u001b[0m| 00:00 Status\u001b[0m\u001b[A\u001b[A\n",
      "\n",
      "\n",
      "chain 1 |\u001b[33m██████████████████████████████▎                                           \u001b[0m| 00:00 Iteration:  700 / 2000 [ 35%]  (Warmup)\u001b[0m\u001b[A\u001b[A\u001b[A\n",
      "\n",
      "chain 3 |\u001b[34m██████████████████████████████████████████▌                             \u001b[0m| 00:00 Iteration: 1001 / 2000 [ 50%]  (Sampling)\u001b[0m\u001b[A\u001b[A\n",
      "\n",
      "\n",
      "chain 4 |\u001b[34m████████████████████████████████████████████████████▎                   \u001b[0m| 00:00 Iteration: 1300 / 2000 [ 65%]  (Sampling)\u001b[0m\u001b[A\u001b[A\u001b[A\n",
      "chain 1 |\u001b[34m███████████████████████████████████████████████████████████████████████████████████████████████\u001b[0m| 00:00 Sampling completed\u001b[0m\u001b[A\n",
      "\n",
      "chain 2 |\u001b[34m███████████████████████████████████████████████████████████████████████████████████████████████\u001b[0m| 00:00 Sampling completed\u001b[0m\u001b[A\n",
      "chain 3 |\u001b[34m███████████████████████████████████████████████████████████████████████████████████████████████\u001b[0m| 00:00 Sampling completed\u001b[0m\n",
      "chain 4 |\u001b[34m███████████████████████████████████████████████████████████████████████████████████████████████\u001b[0m| 00:00 Sampling completed\u001b[0m"
     ]
    },
    {
     "name": "stdout",
     "output_type": "stream",
     "text": [
      "                                                                                                                                                                                                                                                                                                                                "
     ]
    },
    {
     "name": "stderr",
     "output_type": "stream",
     "text": [
      "\n",
      "16:05:25 - cmdstanpy - INFO - CmdStan done processing.\n",
      "16:05:25 - cmdstanpy - WARNING - Some chains may have failed to converge.\n",
      "\tChain 1 had 1 divergent transitions (0.1%)\n",
      "\tChain 1 had 54 iterations at max treedepth (5.4%)\n",
      "\tChain 2 had 5 divergent transitions (0.5%)\n",
      "\tChain 2 had 53 iterations at max treedepth (5.3%)\n",
      "\tChain 3 had 2 divergent transitions (0.2%)\n",
      "\tChain 3 had 116 iterations at max treedepth (11.6%)\n",
      "\tUse function \"diagnose()\" to see further information.\n"
     ]
    },
    {
     "name": "stdout",
     "output_type": "stream",
     "text": [
      "\n"
     ]
    },
    {
     "data": {
      "text/plain": [
       "0.9838851993933234"
      ]
     },
     "execution_count": 80,
     "metadata": {},
     "output_type": "execute_result"
    }
   ],
   "source": [
    "get_funnel_distance(5)"
   ]
  },
  {
   "cell_type": "code",
   "execution_count": 81,
   "id": "44dafc09",
   "metadata": {},
   "outputs": [
    {
     "name": "stderr",
     "output_type": "stream",
     "text": [
      "16:05:51 - cmdstanpy - INFO - CmdStan start processing\n",
      "chain 1 |\u001b[33m                                                                                                           \u001b[0m| 00:00 Status\u001b[0m\n",
      "chain 2 |\u001b[33m                                                                                                           \u001b[0m| 00:00 Status\u001b[0m\u001b[A\n",
      "\n",
      "chain 3 |\u001b[33m                                                                                                           \u001b[0m| 00:00 Status\u001b[0m\u001b[A\u001b[A\n",
      "\n",
      "\n",
      "chain 4 |\u001b[33m                                                                                                           \u001b[0m| 00:00 Status\u001b[0m\u001b[A\u001b[A\u001b[A\n",
      "chain 2 |\u001b[34m██████████████████████████████████████████▌                             \u001b[0m| 00:00 Iteration: 1001 / 2000 [ 50%]  (Sampling)\u001b[0m\u001b[A\n",
      "\n",
      "chain 1 |\u001b[33m█████████████████████████████████▋                                        \u001b[0m| 00:00 Iteration:  800 / 2000 [ 40%]  (Warmup)\u001b[0m\u001b[A\u001b[A\n",
      "\n",
      "\n",
      "chain 4 |\u001b[33m██████▋                                                                   \u001b[0m| 00:00 Iteration:    1 / 2000 [  0%]  (Warmup)\u001b[0m\u001b[A\u001b[A\u001b[A\n",
      "\n",
      "chain 1 |\u001b[34m███████████████████████████████████████████████████████▋                \u001b[0m| 00:00 Iteration: 1400 / 2000 [ 70%]  (Sampling)\u001b[0m\u001b[A\u001b[A\n",
      "\n",
      "\n",
      "chain 4 |\u001b[34m██████████████████████████████████████████████████████████▉             \u001b[0m| 00:00 Iteration: 1500 / 2000 [ 75%]  (Sampling)\u001b[0m\u001b[A\u001b[A\u001b[A\n",
      "\n",
      "chain 1 |\u001b[34m███████████████████████████████████████████████████████████████████████████████████████████████\u001b[0m| 00:00 Sampling completed\u001b[0m\u001b[A\u001b[A\n",
      "chain 2 |\u001b[34m███████████████████████████████████████████████████████████████████████████████████████████████\u001b[0m| 00:00 Sampling completed\u001b[0m\n",
      "chain 3 |\u001b[34m███████████████████████████████████████████████████████████████████████████████████████████████\u001b[0m| 00:00 Sampling completed\u001b[0m\n",
      "chain 4 |\u001b[34m███████████████████████████████████████████████████████████████████████████████████████████████\u001b[0m| 00:00 Sampling completed\u001b[0m"
     ]
    },
    {
     "name": "stdout",
     "output_type": "stream",
     "text": [
      "                                                                                                                                                                                                                                                                                                                                "
     ]
    },
    {
     "name": "stderr",
     "output_type": "stream",
     "text": [
      "\n",
      "16:05:52 - cmdstanpy - INFO - CmdStan done processing.\n",
      "16:05:52 - cmdstanpy - WARNING - Some chains may have failed to converge.\n",
      "\tChain 1 had 11 iterations at max treedepth (1.1%)\n",
      "\tChain 2 had 4 divergent transitions (0.4%)\n",
      "\tChain 2 had 42 iterations at max treedepth (4.2%)\n",
      "\tChain 3 had 50 divergent transitions (5.0%)\n",
      "\tChain 3 had 5 iterations at max treedepth (0.5%)\n",
      "\tChain 4 had 2 divergent transitions (0.2%)\n",
      "\tUse function \"diagnose()\" to see further information.\n"
     ]
    },
    {
     "name": "stdout",
     "output_type": "stream",
     "text": [
      "\n"
     ]
    },
    {
     "data": {
      "text/plain": [
       "0.9757540207245686"
      ]
     },
     "execution_count": 81,
     "metadata": {},
     "output_type": "execute_result"
    }
   ],
   "source": [
    "get_funnel_distance(6)"
   ]
  },
  {
   "cell_type": "code",
   "execution_count": 82,
   "id": "4f50a1d1",
   "metadata": {},
   "outputs": [
    {
     "name": "stderr",
     "output_type": "stream",
     "text": [
      "16:06:43 - cmdstanpy - INFO - CmdStan start processing\n",
      "chain 1 |\u001b[33m                                                                                                           \u001b[0m| 00:00 Status\u001b[0m\n",
      "chain 2 |\u001b[33m                                                                                                           \u001b[0m| 00:00 Status\u001b[0m\u001b[A\n",
      "\n",
      "chain 3 |\u001b[33m                                                                                                           \u001b[0m| 00:00 Status\u001b[0m\u001b[A\u001b[A\n",
      "\n",
      "\n",
      "chain 4 |\u001b[33m                                                                                                           \u001b[0m| 00:00 Status\u001b[0m\u001b[A\u001b[A\u001b[A\n",
      "chain 2 |\u001b[34m██████████████████████████████████████████▌                             \u001b[0m| 00:00 Iteration: 1001 / 2000 [ 50%]  (Sampling)\u001b[0m\u001b[A\n",
      "\n",
      "\n",
      "chain 1 |\u001b[33m███████████████████████▌                                                  \u001b[0m| 00:00 Iteration:  500 / 2000 [ 25%]  (Warmup)\u001b[0m\u001b[A\u001b[A\u001b[A\n",
      "\n",
      "chain 1 |\u001b[34m███████████████████████████████████████████████████████████████████████████████████████████████\u001b[0m| 00:00 Sampling completed\u001b[0m\u001b[A\u001b[A\n",
      "chain 2 |\u001b[34m███████████████████████████████████████████████████████████████████████████████████████████████\u001b[0m| 00:00 Sampling completed\u001b[0m\n",
      "\n",
      "\n",
      "chain 3 |\u001b[34m███████████████████████████████████████████████████████████████████████████████████████████████\u001b[0m| 00:00 Sampling completed\u001b[0m\u001b[A\u001b[A\n",
      "chain 4 |\u001b[34m███████████████████████████████████████████████████████████████████████████████████████████████\u001b[0m| 00:00 Sampling completed\u001b[0m"
     ]
    },
    {
     "name": "stdout",
     "output_type": "stream",
     "text": [
      "                                                                                                                                                                                                                                                                                                                                "
     ]
    },
    {
     "name": "stderr",
     "output_type": "stream",
     "text": [
      "\n",
      "16:06:43 - cmdstanpy - INFO - CmdStan done processing.\n",
      "16:06:43 - cmdstanpy - WARNING - Some chains may have failed to converge.\n",
      "\tChain 1 had 9 divergent transitions (0.9%)\n",
      "\tChain 2 had 10 divergent transitions (1.0%)\n",
      "\tChain 2 had 50 iterations at max treedepth (5.0%)\n",
      "\tChain 3 had 1 divergent transitions (0.1%)\n",
      "\tChain 4 had 2 divergent transitions (0.2%)\n",
      "\tChain 4 had 8 iterations at max treedepth (0.8%)\n",
      "\tUse function \"diagnose()\" to see further information.\n"
     ]
    },
    {
     "name": "stdout",
     "output_type": "stream",
     "text": [
      "\n"
     ]
    },
    {
     "data": {
      "text/plain": [
       "0.6563103368552361"
      ]
     },
     "execution_count": 82,
     "metadata": {},
     "output_type": "execute_result"
    }
   ],
   "source": [
    "get_funnel_distance(7)"
   ]
  },
  {
   "cell_type": "code",
   "execution_count": 83,
   "id": "4c1d193a",
   "metadata": {},
   "outputs": [
    {
     "name": "stderr",
     "output_type": "stream",
     "text": [
      "16:07:10 - cmdstanpy - INFO - CmdStan start processing\n",
      "chain 1 |\u001b[33m                                                                                                           \u001b[0m| 00:00 Status\u001b[0m\n",
      "chain 2 |\u001b[33m                                                                                                           \u001b[0m| 00:00 Status\u001b[0m\u001b[A\n",
      "\n",
      "chain 3 |\u001b[33m                                                                                                           \u001b[0m| 00:00 Status\u001b[0m\u001b[A\u001b[A\n",
      "\n",
      "\n",
      "chain 1 |\u001b[33m███████████████████████▌                                                  \u001b[0m| 00:00 Iteration:  500 / 2000 [ 25%]  (Warmup)\u001b[0m\u001b[A\u001b[A\u001b[A\n",
      "\n",
      "\n",
      "chain 4 |\u001b[33m███████████████████████▌                                                  \u001b[0m| 00:00 Iteration:  500 / 2000 [ 25%]  (Warmup)\u001b[0m\u001b[A\u001b[A\u001b[A\n",
      "\n",
      "chain 3 |\u001b[33m█████████████▍                                                            \u001b[0m| 00:00 Iteration:  200 / 2000 [ 10%]  (Warmup)\u001b[0m\u001b[A\u001b[A\n",
      "\n",
      "\n",
      "chain 4 |\u001b[34m██████████████████████████████████████████████████████████▉             \u001b[0m| 00:00 Iteration: 1500 / 2000 [ 75%]  (Sampling)\u001b[0m\u001b[A\u001b[A\u001b[A\n",
      "chain 2 |\u001b[33m██████▋                                                                   \u001b[0m| 00:00 Iteration:    1 / 2000 [  0%]  (Warmup)\u001b[0m\u001b[A\n",
      "\n",
      "chain 3 |\u001b[33m█████████████████████████████████████                                     \u001b[0m| 00:00 Iteration:  900 / 2000 [ 45%]  (Warmup)\u001b[0m\u001b[A\u001b[A\n",
      "chain 1 |\u001b[34m█████████████████████████████████████████████▊                          \u001b[0m| 00:00 Iteration: 1100 / 2000 [ 55%]  (Sampling)\u001b[0m\u001b[A\n",
      "chain 1 |\u001b[34m███████████████████████████████████████████████████████████████████████████████████████████████\u001b[0m| 00:00 Sampling completed\u001b[0m\u001b[A\n",
      "chain 2 |\u001b[34m███████████████████████████████████████████████████████████████████████████████████████████████\u001b[0m| 00:00 Sampling completed\u001b[0m\n",
      "\n",
      "\n",
      "chain 3 |\u001b[34m███████████████████████████████████████████████████████████████████████████████████████████████\u001b[0m| 00:00 Sampling completed\u001b[0m\u001b[A\u001b[A\n",
      "chain 4 |\u001b[34m███████████████████████████████████████████████████████████████████████████████████████████████\u001b[0m| 00:00 Sampling completed\u001b[0m"
     ]
    },
    {
     "name": "stdout",
     "output_type": "stream",
     "text": [
      "                                                                                                                                                                                                                                                                                                                                "
     ]
    },
    {
     "name": "stderr",
     "output_type": "stream",
     "text": [
      "\n",
      "16:07:11 - cmdstanpy - INFO - CmdStan done processing.\n",
      "16:07:11 - cmdstanpy - WARNING - Some chains may have failed to converge.\n",
      "\tChain 1 had 9 divergent transitions (0.9%)\n",
      "\tChain 1 had 10 iterations at max treedepth (1.0%)\n",
      "\tChain 2 had 9 iterations at max treedepth (0.9%)\n",
      "\tChain 3 had 12 divergent transitions (1.2%)\n",
      "\tUse function \"diagnose()\" to see further information.\n"
     ]
    },
    {
     "name": "stdout",
     "output_type": "stream",
     "text": [
      "\n"
     ]
    },
    {
     "data": {
      "text/plain": [
       "12.162719599947637"
      ]
     },
     "execution_count": 83,
     "metadata": {},
     "output_type": "execute_result"
    }
   ],
   "source": [
    "get_funnel_distance(8)"
   ]
  },
  {
   "cell_type": "code",
   "execution_count": 84,
   "id": "ca33641a",
   "metadata": {},
   "outputs": [
    {
     "name": "stderr",
     "output_type": "stream",
     "text": [
      "16:07:40 - cmdstanpy - INFO - CmdStan start processing\n",
      "chain 1 |\u001b[33m                                                                                                           \u001b[0m| 00:00 Status\u001b[0m\n",
      "chain 2 |\u001b[33m                                                                                                           \u001b[0m| 00:00 Status\u001b[0m\u001b[A\n",
      "\n",
      "chain 3 |\u001b[33m                                                                                                           \u001b[0m| 00:00 Status\u001b[0m\u001b[A\u001b[A\n",
      "\n",
      "\n",
      "chain 4 |\u001b[33m                                                                                                           \u001b[0m| 00:00 Status\u001b[0m\u001b[A\u001b[A\u001b[A\n",
      "chain 2 |\u001b[33m███████████████████████▌                                                  \u001b[0m| 00:00 Iteration:  500 / 2000 [ 25%]  (Warmup)\u001b[0m\u001b[A\n",
      "\n",
      "\n",
      "chain 1 |\u001b[33m████████████████████▏                                                     \u001b[0m| 00:00 Iteration:  400 / 2000 [ 20%]  (Warmup)\u001b[0m\u001b[A\u001b[A\u001b[A\n",
      "\n",
      "chain 3 |\u001b[33m████████████████▊                                                         \u001b[0m| 00:00 Iteration:  300 / 2000 [ 15%]  (Warmup)\u001b[0m\u001b[A\u001b[A\n",
      "chain 2 |\u001b[34m█████████████████████████████████████████████▊                          \u001b[0m| 00:00 Iteration: 1100 / 2000 [ 55%]  (Sampling)\u001b[0m\u001b[A\n",
      "\n",
      "\n",
      "chain 1 |\u001b[34m█████████████████████████████████████████████▊                          \u001b[0m| 00:00 Iteration: 1100 / 2000 [ 55%]  (Sampling)\u001b[0m\u001b[A\u001b[A\u001b[A\n",
      "\n",
      "chain 3 |\u001b[34m████████████████████████████████████████████████████▎                   \u001b[0m| 00:00 Iteration: 1300 / 2000 [ 65%]  (Sampling)\u001b[0m\u001b[A\u001b[A\n",
      "chain 1 |\u001b[34m████████████████████████████████████████████████████████████████████▋   \u001b[0m| 00:00 Iteration: 1800 / 2000 [ 90%]  (Sampling)\u001b[0m\u001b[A\n",
      "\n",
      "chain 1 |\u001b[34m███████████████████████████████████████████████████████████████████████████████████████████████\u001b[0m| 00:00 Sampling completed\u001b[0m\u001b[A\u001b[A\n",
      "chain 2 |\u001b[34m███████████████████████████████████████████████████████████████████████████████████████████████\u001b[0m| 00:00 Sampling completed\u001b[0m\n",
      "chain 3 |\u001b[34m███████████████████████████████████████████████████████████████████████████████████████████████\u001b[0m| 00:00 Sampling completed\u001b[0m\n",
      "chain 4 |\u001b[34m███████████████████████████████████████████████████████████████████████████████████████████████\u001b[0m| 00:00 Sampling completed\u001b[0m"
     ]
    },
    {
     "name": "stdout",
     "output_type": "stream",
     "text": [
      "                                                                                                                                                                                                                                                                                                                                "
     ]
    },
    {
     "name": "stderr",
     "output_type": "stream",
     "text": [
      "\n",
      "16:07:40 - cmdstanpy - INFO - CmdStan done processing.\n",
      "16:07:40 - cmdstanpy - WARNING - Some chains may have failed to converge.\n",
      "\tChain 1 had 5 divergent transitions (0.5%)\n",
      "\tChain 1 had 8 iterations at max treedepth (0.8%)\n",
      "\tChain 2 had 3 divergent transitions (0.3%)\n",
      "\tChain 2 had 8 iterations at max treedepth (0.8%)\n",
      "\tChain 3 had 2 divergent transitions (0.2%)\n",
      "\tChain 3 had 28 iterations at max treedepth (2.8%)\n",
      "\tChain 4 had 6 divergent transitions (0.6%)\n",
      "\tUse function \"diagnose()\" to see further information.\n"
     ]
    },
    {
     "name": "stdout",
     "output_type": "stream",
     "text": [
      "\n"
     ]
    },
    {
     "data": {
      "text/plain": [
       "0.6968203437455663"
      ]
     },
     "execution_count": 84,
     "metadata": {},
     "output_type": "execute_result"
    }
   ],
   "source": [
    "get_funnel_distance(9)"
   ]
  },
  {
   "cell_type": "code",
   "execution_count": 85,
   "id": "994b2c14",
   "metadata": {},
   "outputs": [
    {
     "name": "stderr",
     "output_type": "stream",
     "text": [
      "16:08:11 - cmdstanpy - INFO - CmdStan start processing\n",
      "chain 1 |\u001b[33m                                                                                                           \u001b[0m| 00:00 Status\u001b[0m\n",
      "chain 2 |\u001b[33m                                                                                                           \u001b[0m| 00:00 Status\u001b[0m\u001b[A\n",
      "\n",
      "chain 3 |\u001b[33m                                                                                                           \u001b[0m| 00:00 Status\u001b[0m\u001b[A\u001b[A\n",
      "\n",
      "\n",
      "chain 1 |\u001b[33m████████████████████▏                                                     \u001b[0m| 00:00 Iteration:  400 / 2000 [ 20%]  (Warmup)\u001b[0m\u001b[A\u001b[A\u001b[A\n",
      "\n",
      "chain 3 |\u001b[33m████████████████▊                                                         \u001b[0m| 00:00 Iteration:  300 / 2000 [ 15%]  (Warmup)\u001b[0m\u001b[A\u001b[A\n",
      "chain 2 |\u001b[33m██████████                                                                \u001b[0m| 00:00 Iteration:  100 / 2000 [  5%]  (Warmup)\u001b[0m\u001b[A\n",
      "\n",
      "\n",
      "chain 4 |\u001b[33m█████████████▍                                                            \u001b[0m| 00:00 Iteration:  200 / 2000 [ 10%]  (Warmup)\u001b[0m\u001b[A\u001b[A\u001b[A\n",
      "\n",
      "chain 1 |\u001b[34m████████████████████████████████████████████████████▎                   \u001b[0m| 00:00 Iteration: 1300 / 2000 [ 65%]  (Sampling)\u001b[0m\u001b[A\u001b[A\n",
      "\n",
      "\n",
      "chain 4 |\u001b[34m███████████████████████████████████████████████████████▋                \u001b[0m| 00:00 Iteration: 1400 / 2000 [ 70%]  (Sampling)\u001b[0m\u001b[A\u001b[A\u001b[A\n",
      "chain 2 |\u001b[33m████████████████████▏                                                     \u001b[0m| 00:00 Iteration:  400 / 2000 [ 20%]  (Warmup)\u001b[0m\u001b[A\n",
      "chain 1 |\u001b[34m███████████████████████████████████████████████████████████████████████████████████████████████\u001b[0m| 00:00 Sampling completed\u001b[0m\u001b[A\n",
      "chain 2 |\u001b[34m███████████████████████████████████████████████████████████████████████████████████████████████\u001b[0m| 00:00 Sampling completed\u001b[0m\n",
      "chain 3 |\u001b[34m███████████████████████████████████████████████████████████████████████████████████████████████\u001b[0m| 00:00 Sampling completed\u001b[0m\n",
      "chain 4 |\u001b[34m███████████████████████████████████████████████████████████████████████████████████████████████\u001b[0m| 00:00 Sampling completed\u001b[0m"
     ]
    },
    {
     "name": "stdout",
     "output_type": "stream",
     "text": [
      "                                                                                                                                                                                                                                                                                                                                "
     ]
    },
    {
     "name": "stderr",
     "output_type": "stream",
     "text": [
      "\n",
      "16:08:12 - cmdstanpy - INFO - CmdStan done processing.\n",
      "16:08:12 - cmdstanpy - WARNING - Some chains may have failed to converge.\n",
      "\tChain 1 had 19 iterations at max treedepth (1.9%)\n",
      "\tChain 3 had 2 divergent transitions (0.2%)\n",
      "\tUse function \"diagnose()\" to see further information.\n"
     ]
    },
    {
     "name": "stdout",
     "output_type": "stream",
     "text": [
      "\n"
     ]
    },
    {
     "data": {
      "text/plain": [
       "0.8250395135498177"
      ]
     },
     "execution_count": 85,
     "metadata": {},
     "output_type": "execute_result"
    }
   ],
   "source": [
    "get_funnel_distance(10)"
   ]
  },
  {
   "cell_type": "code",
   "execution_count": null,
   "id": "904d1bbc",
   "metadata": {},
   "outputs": [],
   "source": []
  }
 ],
 "metadata": {
  "kernelspec": {
   "display_name": "Python 3 (ipykernel)",
   "language": "python",
   "name": "python3"
  },
  "language_info": {
   "codemirror_mode": {
    "name": "ipython",
    "version": 3
   },
   "file_extension": ".py",
   "mimetype": "text/x-python",
   "name": "python",
   "nbconvert_exporter": "python",
   "pygments_lexer": "ipython3",
   "version": "3.11.4"
  }
 },
 "nbformat": 4,
 "nbformat_minor": 5
}
