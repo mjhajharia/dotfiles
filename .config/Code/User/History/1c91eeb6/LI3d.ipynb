{
  "cells": [
    {
      "cell_type": "code",
      "execution_count": 1,
      "id": "9a528dfa",
      "metadata": {},
      "outputs": [
        {
          "ename": "ErrorException",
          "evalue": "syntax: invalid operator \"--\"",
          "output_type": "error",
          "traceback": [
            "syntax: invalid operator \"--\"\n",
            "\n",
            "Stacktrace:\n",
            " [1] top-level scope\n",
            "   @ ~/github/mjhajharia/diagnosing-hmc/quarto/fun-nel.ipynb:1"
          ]
        }
      ],
      "source": [
        "---\n",
        "title: \"Funnel et al\"\n",
        "version: 0.0\n",
        "author: \"\"\n",
        "date: \"\"\n",
        "format:\n",
        "  html:\n",
        "    code-fold: true\n",
        "execute: \n",
        "  daemon: 99999\n",
        "  cache: true\n",
        "figures:\n",
        "  fig-format: png\n",
        "toc: false\n",
        "\n",
        "monobackgroundcolor: \"#FFFFFF\"\n",
        "mainfont: \"Palatino Linotype\"\n",
        "---"
      ]
    },
    {
      "cell_type": "code",
      "execution_count": 2,
      "id": "80019390",
      "metadata": {},
      "outputs": [],
      "source": [
        "using Revise, DynamicHMC, PosteriorDB, Random, StanLogDensityProblems, JSON, BridgeStan, DataFrames, LinearAlgebra, StatsBase, Distributions\n",
        "using Plots, ColorSchemes, LaTeXStrings, Statistics, CSV, AdvancedHMC, DynamicObjects\n",
        "Plots.theme(:default)\n",
        "const BS = BridgeStan;"
      ]
    },
    {
      "cell_type": "code",
      "execution_count": 3,
      "id": "a7d29558",
      "metadata": {},
      "outputs": [],
      "source": [
        "@dynamic_type DynamicRNG <: AbstractRNG\n",
        "@dynamic_object InnerRNG <: DynamicRNG rng::AbstractRNG recorder\n",
        "@dynamic_object OuterRNG <: DynamicRNG rng::InnerRNG\n",
        "recorder(what::OuterRNG) = what.rng.recorder\n",
        "Base.rand(what::DynamicRNG, args...) = rand(what.rng, args...)\n",
        "Base.rand(what::DynamicRNG, args::Integer...) = rand(what.rng, args...)\n",
        "Base.rand(what::DynamicRNG, m::AdvancedHMC.AbstractMetric, k::AdvancedHMC.AbstractKinetic) = rand(what.rng, m, k)\n",
        "function AdvancedHMC.transition(\n",
        "    rng::OuterRNG,\n",
        "    h::AdvancedHMC.Hamiltonian,\n",
        "    κ::AdvancedHMC.HMCKernel,\n",
        "    z::AdvancedHMC.PhasePoint,\n",
        ")\n",
        "    push!(rng.recorder, [])\n",
        "    AdvancedHMC.transition(rng.rng, h, κ, z)\n",
        "end\n",
        "\n",
        "# \"Adapted\" from https://github.com/TuringLang/AdvancedHMC.jl/blob/ab0b078cff023db85ca96ddd8a3ccdd76c92ca82/src/trajectory.jl#L606-L656\n",
        "function AdvancedHMC.build_tree(\n",
        "    rng::InnerRNG,\n",
        "    nt::AdvancedHMC.Trajectory{TS,I,TC},\n",
        "    h::AdvancedHMC.Hamiltonian,\n",
        "    z::AdvancedHMC.PhasePoint,\n",
        "    sampler::AdvancedHMC.AbstractTrajectorySampler,\n",
        "    v::Int,\n",
        "    j::Int,\n",
        "    H0::AbstractFloat,\n",
        ") where {\n",
        "    TS<:AdvancedHMC.AbstractTrajectorySampler,\n",
        "    I<:AdvancedHMC.AbstractIntegrator,\n",
        "    TC<:AdvancedHMC.DynamicTerminationCriterion,\n",
        "}\n",
        "    step, energy, BinaryTree, TurnStatistic, Termination, isterminated, build_tree, combine = getproperty.([AdvancedHMC], [\n",
        "        :step, :energy, :BinaryTree, :TurnStatistic, :Termination, :isterminated, :build_tree, :combine\n",
        "    ])\n",
        "    if j == 0\n",
        "        # Base case - take one leapfrog step in the direction v.\n",
        "        z′ = step(nt.integrator, h, z, v)\n",
        "        H′ = energy(z′)\n",
        "        ΔH = H′ - H0\n",
        "        push!(rng.recorder[end], ΔH)\n",
        "        α′ = exp(min(0, -ΔH))\n",
        "        sampler′ = TS(sampler, H0, z′)\n",
        "        return BinaryTree(z′, z′, TurnStatistic(nt.termination_criterion, z′), α′, 1, ΔH),\n",
        "        sampler′,\n",
        "        Termination(sampler′, nt, H0, H′)\n",
        "    else\n",
        "        # Recursion - build the left and right subtrees.\n",
        "        tree′, sampler′, termination′ = build_tree(rng, nt, h, z, sampler, v, j - 1, H0)\n",
        "        # Expand tree if not terminated\n",
        "        if !isterminated(termination′)\n",
        "            # Expand left\n",
        "            if v == -1\n",
        "                tree′′, sampler′′, termination′′ =\n",
        "                    build_tree(rng, nt, h, tree′.zleft, sampler, v, j - 1, H0) # left tree\n",
        "                treeleft, treeright = tree′′, tree′\n",
        "                # Expand right\n",
        "            else\n",
        "                tree′′, sampler′′, termination′′ =\n",
        "                    build_tree(rng, nt, h, tree′.zright, sampler, v, j - 1, H0) # right tree\n",
        "                treeleft, treeright = tree′, tree′′\n",
        "            end\n",
        "            tree′ = combine(treeleft, treeright)\n",
        "            sampler′ = combine(rng, sampler′, sampler′′)\n",
        "            termination′ =\n",
        "                termination′ *\n",
        "                termination′′ *\n",
        "                isterminated(nt.termination_criterion, h, tree′, treeleft, treeright)\n",
        "        end\n",
        "        return tree′, sampler′, termination′\n",
        "    end\n",
        "end"
      ]
    },
    {
      "cell_type": "code",
      "execution_count": 6,
      "id": "c982bce7",
      "metadata": {},
      "outputs": [
        {
          "name": "stderr",
          "output_type": "stream",
          "text": [
            "\u001b[32m\u001b[1m     Cloning\u001b[22m\u001b[39m git-repo `https://github.com/roualdes/bridgestan.git:julia\n",
            "`\n"
          ]
        },
        {
          "ename": "Pkg.Types.PkgError",
          "evalue": "failed to clone from https://github.com/roualdes/bridgestan.git:julia\n, error: GitError(Code:ERROR, Class:HTTP, unexpected http status code: 400)",
          "output_type": "error",
          "traceback": [
            "failed to clone from https://github.com/roualdes/bridgestan.git:julia\n",
            ", error: GitError(Code:ERROR, Class:HTTP, unexpected http status code: 400)\n",
            "\n",
            "Stacktrace:\n",
            "  [1] clone(io::VSCodeServer.IJuliaCore.IJuliaStdio{Base.PipeEndpoint, typeof(VSCodeServer.io_send_callback)}, url::String, source_path::String; header::Nothing, credentials::Nothing, kwargs::Base.Pairs{Symbol, Bool, Tuple{Symbol}, NamedTuple{(:isbare,), Tuple{Bool}}})\n",
            "    @ Pkg.GitTools /usr/share/julia/stdlib/v1.8/Pkg/src/GitTools.jl:126\n",
            "  [2] #ensure_clone#2\n",
            "    @ /usr/share/julia/stdlib/v1.8/Pkg/src/GitTools.jl:74 [inlined]\n",
            "  [3] handle_repo_add!(ctx::Pkg.Types.Context, pkg::Pkg.Types.PackageSpec)\n",
            "    @ Pkg.Types /usr/share/julia/stdlib/v1.8/Pkg/src/Types.jl:702\n",
            "  [4] handle_repos_add!(ctx::Pkg.Types.Context, pkgs::Vector{Pkg.Types.PackageSpec})\n",
            "    @ Pkg.Types /usr/share/julia/stdlib/v1.8/Pkg/src/Types.jl:772\n",
            "  [5] add(ctx::Pkg.Types.Context, pkgs::Vector{Pkg.Types.PackageSpec}; preserve::Pkg.Types.PreserveLevel, platform::Base.BinaryPlatforms.Platform, kwargs::Base.Pairs{Symbol, VSCodeServer.IJuliaCore.IJuliaStdio{Base.PipeEndpoint, typeof(VSCodeServer.io_send_callback)}, Tuple{Symbol}, NamedTuple{(:io,), Tuple{VSCodeServer.IJuliaCore.IJuliaStdio{Base.PipeEndpoint, typeof(VSCodeServer.io_send_callback)}}}})\n",
            "    @ Pkg.API /usr/share/julia/stdlib/v1.8/Pkg/src/API.jl:255\n",
            "  [6] add(pkgs::Vector{Pkg.Types.PackageSpec}; io::VSCodeServer.IJuliaCore.IJuliaStdio{Base.PipeEndpoint, typeof(VSCodeServer.io_send_callback)}, kwargs::Base.Pairs{Symbol, Union{}, Tuple{}, NamedTuple{(), Tuple{}}})\n",
            "    @ Pkg.API /usr/share/julia/stdlib/v1.8/Pkg/src/API.jl:156\n",
            "  [7] add(pkgs::Vector{Pkg.Types.PackageSpec})\n",
            "    @ Pkg.API /usr/share/julia/stdlib/v1.8/Pkg/src/API.jl:145\n",
            "  [8] #add#26\n",
            "    @ /usr/share/julia/stdlib/v1.8/Pkg/src/API.jl:143 [inlined]\n",
            "  [9] add\n",
            "    @ /usr/share/julia/stdlib/v1.8/Pkg/src/API.jl:143 [inlined]\n",
            " [10] add(; name::Nothing, uuid::Nothing, version::Nothing, url::String, rev::Nothing, path::Nothing, mode::Pkg.Types.PackageMode, subdir::Nothing, kwargs::Base.Pairs{Symbol, Union{}, Tuple{}, NamedTuple{(), Tuple{}}})\n",
            "    @ Pkg.API /usr/share/julia/stdlib/v1.8/Pkg/src/API.jl:173\n",
            " [11] top-level scope\n",
            "    @ ~/github/mjhajharia/diagnosing-hmc/quarto/fun-nel.ipynb:2"
          ]
        }
      ],
      "source": [
        "using Pkg\n",
        "Pkg.add(url=\"https://github.com/roualdes/bridgestan.git:julia\n",
        "\")"
      ]
    },
    {
      "cell_type": "code",
      "execution_count": 4,
      "id": "1f0ead86",
      "metadata": {},
      "outputs": [
        {
          "ename": "ErrorException",
          "evalue": "could not load symbol \"bs_model_construct\":\n/home/meenaljhajharia/github/mjhajharia/diagnosing-hmc/quarto/funnel_model.so: undefined symbol: bs_model_construct",
          "output_type": "error",
          "traceback": [
            "could not load symbol \"bs_model_construct\":\n",
            "/home/meenaljhajharia/github/mjhajharia/diagnosing-hmc/quarto/funnel_model.so: undefined symbol: bs_model_construct\n",
            "\n",
            "Stacktrace:\n",
            " [1] dlsym\n",
            "   @ ./libdl.jl:56 [inlined]\n",
            " [2] StanModel(lib::String, data::String, seed::Int64)\n",
            "   @ BridgeStan ~/.julia/packages/BridgeStan/qFTZp/src/model.jl:70\n",
            " [3] #StanModel#15\n",
            "   @ ~/.julia/packages/BridgeStan/qFTZp/src/BridgeStan.jl:44 [inlined]\n",
            " [4] top-level scope\n",
            "   @ ~/github/mjhajharia/diagnosing-hmc/quarto/fun-nel.ipynb:3"
          ]
        }
      ],
      "source": [
        "fullpath = abspath∘expanduser\n",
        "BS.set_bridgestan_path!(fullpath(\"~/github/roualdes/bridgestan\"))\n",
        "sm = BS.StanModel(;stan_file=\"funnel.stan\", data=\"data_funnel.json\");"
      ]
    },
    {
      "cell_type": "code",
      "execution_count": null,
      "id": "2040c396",
      "metadata": {},
      "outputs": [],
      "source": [
        "lp = StanProblem(sm);\n",
        "D = 4;\n",
        "initial_θ = rand(D);\n",
        "n_samples, n_adapts = 2_000, 1_000;\n",
        "metric = DiagEuclideanMetric(D);\n",
        "hamiltonian = Hamiltonian(metric, lp);\n",
        "initial_ϵ = find_good_stepsize(hamiltonian, initial_θ);\n",
        "integrator = Leapfrog(initial_ϵ);\n",
        "proposal = NUTS{MultinomialTS, GeneralisedNoUTurn}(integrator);\n",
        "adaptor = StanHMCAdaptor(MassMatrixAdaptor(metric), StepSizeAdaptor(0.8, integrator));\n",
        "samples, stats = sample(hamiltonian, proposal, initial_θ, n_samples, adaptor, n_adapts; progress=true);"
      ]
    },
    {
      "cell_type": "code",
      "execution_count": null,
      "id": "f34021f6",
      "metadata": {},
      "outputs": [],
      "source": [
        "param_names(sm)"
      ]
    },
    {
      "cell_type": "code",
      "execution_count": null,
      "id": "e9daf0b3",
      "metadata": {},
      "outputs": [],
      "source": [
        "unc_sample_array = vcat([\n",
        "           param_unconstrain(sm, collect(row[1]))' for row in eachrow(samples)\n",
        "       ]...);"
      ]
    },
    {
      "cell_type": "code",
      "execution_count": null,
      "id": "ff30e9f1",
      "metadata": {},
      "outputs": [],
      "source": [
        "scatter(unc_sample_array[:, 2], unc_sample_array[:, 1], label=\"Centered Model\", alpha = 0.3)\n",
        "plot!(yaxis=L\"\\mathrm{log\\tau}\", xaxis=L\"\\Theta[0]\", fontfamily=\"Palatino\")"
      ]
    },
    {
      "cell_type": "code",
      "execution_count": null,
      "id": "c53a6e12",
      "metadata": {},
      "outputs": [],
      "source": [
        "function pairplot(df)\n",
        "    n_cols = ncol(df)\n",
        "    p = plot(layout = (n_cols, n_cols), \n",
        "             xticks = false, \n",
        "             yticks = false, \n",
        "             legend = false,\n",
        "             size = (800, 800))\n",
        "\n",
        "    for i in 1:n_cols\n",
        "        for j in 1:n_cols\n",
        "            scatter!(p[i, j], df[!, i], df[!, j], markersize = 2, xlabel=names(df)[i], ylabel=names(df)[j])\n",
        "        end\n",
        "    end\n",
        "    return p\n",
        "end"
      ]
    },
    {
      "cell_type": "code",
      "execution_count": null,
      "id": "25259b3e",
      "metadata": {},
      "outputs": [],
      "source": [
        "U = svd(cov(unc_sample_array)).U;\n",
        "eigval = svd(cov(unc_sample_array)).S;\n",
        "Lambda = diagm(sqrt.(eigval));\n",
        "L = cholesky(cov(unc_sample_array)).L;"
      ]
    },
    {
      "cell_type": "code",
      "execution_count": null,
      "id": "d2809214",
      "metadata": {},
      "outputs": [],
      "source": [
        "transform = L*unc_sample_array'\n",
        "pairplot(DataFrame(transform',  :auto))"
      ]
    },
    {
      "cell_type": "code",
      "execution_count": null,
      "id": "5daef581",
      "metadata": {},
      "outputs": [],
      "source": [
        "transform = U*Lambda*unc_sample_array'\n",
        "pairplot(DataFrame(transform',  :auto))"
      ]
    },
    {
      "cell_type": "code",
      "execution_count": null,
      "id": "0a913454",
      "metadata": {},
      "outputs": [],
      "source": [
        "eigval = svd(cov(unc_sample_array)).S;\n",
        "Lambda = diagm(sqrt.(1 ./eigval));\n",
        "transform = U'*Lambda*unc_sample_array'\n",
        "pairplot(DataFrame(transform',  :auto))"
      ]
    },
    {
      "cell_type": "code",
      "execution_count": null,
      "id": "d9b426fd",
      "metadata": {},
      "outputs": [],
      "source": [
        "eigval = svd(cov(unc_sample_array)).S;\n",
        "Lambda = diagm(1 ./eigval);\n",
        "transform = U*Lambda*unc_sample_array'\n",
        "pairplot(DataFrame(transform',  :auto))"
      ]
    },
    {
      "cell_type": "code",
      "execution_count": null,
      "id": "6bb54f03",
      "metadata": {},
      "outputs": [],
      "source": [
        "eigval = svd(cov(unc_sample_array)).S;\n",
        "Lambda = diagm(1 ./eigval);\n",
        "transform = U'*Lambda*unc_sample_array'\n",
        "pairplot(DataFrame(transform',  :auto))"
      ]
    }
  ],
  "metadata": {
    "kernelspec": {
      "display_name": "Julia 1.8.5",
      "language": "julia",
      "name": "julia-1.8"
    },
    "language_info": {
      "file_extension": ".jl",
      "mimetype": "application/julia",
      "name": "julia",
      "version": "1.8.5"
    }
  },
  "nbformat": 4,
  "nbformat_minor": 5
}
